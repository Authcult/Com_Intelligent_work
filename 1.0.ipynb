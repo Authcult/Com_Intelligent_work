{
 "cells": [
  {
   "metadata": {},
   "cell_type": "markdown",
   "source": "# 基于卷积神经网络的手写英文字母识别系统研究",
   "id": "b551c4d99781975b"
  },
  {
   "metadata": {},
   "cell_type": "markdown",
   "source": "## 准备数据集及数据预处理",
   "id": "e00af614c8239f67"
  },
  {
   "metadata": {},
   "cell_type": "markdown",
   "source": "### 将下载的数据集按类重命名",
   "id": "a0cd9383cb350d27"
  },
  {
   "metadata": {
    "ExecuteTime": {
     "end_time": "2025-04-16T14:15:49.570025Z",
     "start_time": "2025-04-16T14:15:49.563513Z"
    }
   },
   "cell_type": "code",
   "source": [
    "\"\"\"\n",
    "import os\n",
    "import string\n",
    "\n",
    "# 定义源目录路径\n",
    "source_dir = \"EnglishImg/English/Img/GoodImg/Bmp\"\n",
    "\n",
    "# 生成目标文件夹名称列表\n",
    "target_folders = list(string.digits) + list(string.ascii_uppercase) + [f\"{char}_\" for char in string.ascii_lowercase]\n",
    "\n",
    "# 获取源目录下的所有文件夹名称\n",
    "source_folders = sorted([f for f in os.listdir(source_dir) if os.path.isdir(os.path.join(source_dir, f))])\n",
    "\n",
    "# 确保源文件夹数量与目标文件夹数量一致\n",
    "if len(source_folders) != len(target_folders):\n",
    "    raise ValueError(\"源文件夹数量与目标文件夹数量不一致\")\n",
    "\n",
    "# 重命名文件夹\n",
    "for source_folder, target_folder in zip(source_folders, target_folders):\n",
    "    source_path = os.path.join(source_dir, source_folder)\n",
    "    target_path = os.path.join(source_dir, target_folder)\n",
    "\n",
    "    try:\n",
    "        os.rename(source_path, target_path)\n",
    "        print(f\"重命名: {source_path} -> {target_path}\")\n",
    "    except FileExistsError:\n",
    "        print(f\"目标文件夹 {target_path} 已存在，跳过重命名 {source_path}\")\n",
    "    except Exception as e:\n",
    "        print(f\"重命名 {source_path} 到 {target_path} 时出错: {e}\")\n",
    "\"\"\"\n",
    "\n",
    "\n"
   ],
   "id": "1895206fac195157",
   "outputs": [
    {
     "data": {
      "text/plain": [
       "'\\nimport os\\nimport string\\n\\n# 定义源目录路径\\nsource_dir = \"EnglishImg/English/Img/GoodImg/Bmp\"\\n\\n# 生成目标文件夹名称列表\\ntarget_folders = list(string.digits) + list(string.ascii_uppercase) + [f\"{char}_\" for char in string.ascii_lowercase]\\n\\n# 获取源目录下的所有文件夹名称\\nsource_folders = sorted([f for f in os.listdir(source_dir) if os.path.isdir(os.path.join(source_dir, f))])\\n\\n# 确保源文件夹数量与目标文件夹数量一致\\nif len(source_folders) != len(target_folders):\\n    raise ValueError(\"源文件夹数量与目标文件夹数量不一致\")\\n\\n# 重命名文件夹\\nfor source_folder, target_folder in zip(source_folders, target_folders):\\n    source_path = os.path.join(source_dir, source_folder)\\n    target_path = os.path.join(source_dir, target_folder)\\n\\n    try:\\n        os.rename(source_path, target_path)\\n        print(f\"重命名: {source_path} -> {target_path}\")\\n    except FileExistsError:\\n        print(f\"目标文件夹 {target_path} 已存在，跳过重命名 {source_path}\")\\n    except Exception as e:\\n        print(f\"重命名 {source_path} 到 {target_path} 时出错: {e}\")\\n'"
      ]
     },
     "execution_count": 1,
     "metadata": {},
     "output_type": "execute_result"
    }
   ],
   "execution_count": 1
  },
  {
   "metadata": {},
   "cell_type": "markdown",
   "source": "### 划分训练集和测试集",
   "id": "58d8c82b646071be"
  },
  {
   "metadata": {
    "ExecuteTime": {
     "end_time": "2025-04-16T14:15:49.576427Z",
     "start_time": "2025-04-16T14:15:49.570025Z"
    }
   },
   "cell_type": "code",
   "source": "",
   "id": "6ef556d0909a59ad",
   "outputs": [],
   "execution_count": null
  },
  {
   "cell_type": "code",
   "id": "initial_id",
   "metadata": {
    "collapsed": true,
    "ExecuteTime": {
     "end_time": "2025-04-16T14:15:52.784175Z",
     "start_time": "2025-04-16T14:15:49.694229Z"
    }
   },
   "source": [
    "import torch\n",
    "import torch.nn as nn\n",
    "from torchvision.datasets import ImageFolder\n",
    "import torchvision.models as models\n",
    "from torchvision import utils\n",
    "import torchvision.transforms as T\n",
    "import torch.utils.data as Data\n",
    "from PIL import Image\n",
    "import numpy as np\n",
    "import torch.optim as optim\n",
    "import os\n",
    "import sys\n",
    "from datetime import datetime\n",
    "import matplotlib.pyplot as plt\n",
    "#使用tensorboardX进行可视化\n",
    "from tensorboardX import SummaryWriter\n",
    "from torchvision import datasets\n",
    "from torch.utils.data import random_split, DataLoader\n",
    "#参数定义\n",
    "EPOCH = 100\n",
    "BATCH_SIZE = 128\n",
    "LR = 1e-4\n",
    "ROOT_DIR = \"EnglishImg/English/Img/GoodImg/Bmp\"\n",
    "LOG_DIR = f\"runs/handwriting_{datetime.now().strftime('%Y%m%d_%H%M%S')}\"\n",
    "MODEL_SAVE_PATH = \"cnn_res_attention_best.pth\""
   ],
   "outputs": [],
   "execution_count": 2
  },
  {
   "metadata": {
    "ExecuteTime": {
     "end_time": "2025-04-16T14:15:52.801286Z",
     "start_time": "2025-04-16T14:15:52.794585Z"
    }
   },
   "cell_type": "code",
   "source": [
    "# 定义数据预处理变换\n",
    "transform = T.Compose([\n",
    "    T.Resize((36, 36)), # 统一尺寸为28x28\n",
    "    T.Grayscale(num_output_channels=1), # 灰度处理\n",
    "    T.RandomRotation(20),  # 数据增强：随机旋转\n",
    "    T.RandomAffine(degrees=0, translate=(0.15, 0.15)),  # 位移\n",
    "    T.RandomHorizontalFlip(),  # 增加横向翻转\n",
    "    T.ToTensor(), # 转换为Tensor\n",
    "    # 如果需要标准化，可以取消注释以下行\n",
    "    T.Normalize([0.5], [0.5])\n",
    "])\n",
    "# 定义划分数据集的函数\n",
    "def split_dataset(root_dir, transform, train_ratio=0.7, val_ratio=0.15, test_ratio=0.15, batch_size=128, shuffle=True, random_seed=42):\n",
    "    \"\"\"\n",
    "    划分数据集为训练集、验证集和测试集，并返回对应的DataLoader。\n",
    "\n",
    "    参数:\n",
    "    - root_dir: 数据集根目录\n",
    "    - transform: 数据预处理变换\n",
    "    - train_ratio: 训练集比例\n",
    "    - val_ratio: 验证集比例\n",
    "    - test_ratio: 测试集比例\n",
    "    - batch_size: 批次大小\n",
    "    - shuffle: 是否打乱数据\n",
    "    - random_seed: 随机种子，用于保证结果可重复\n",
    "\n",
    "    返回:\n",
    "    - train_loader: 训练集DataLoader\n",
    "    - val_loader: 验证集DataLoader\n",
    "    - test_loader: 测试集DataLoader\n",
    "    - full_dataset: 原始的ImageFolder数据集\n",
    "    \"\"\"\n",
    "    # 确保比例之和为1\n",
    "    assert train_ratio + val_ratio + test_ratio == 1, \"比例之和必须为1\"\n",
    "\n",
    "    # 加载整个数据集\n",
    "    full_dataset = datasets.ImageFolder(root=root_dir, transform=transform)\n",
    "\n",
    "    # 计算每个子集的大小\n",
    "    dataset_size = len(full_dataset)\n",
    "    train_size = int(train_ratio * dataset_size)\n",
    "    val_size = int(val_ratio * dataset_size)\n",
    "    test_size = dataset_size - train_size - val_size\n",
    "\n",
    "    # 随机划分数据集\n",
    "    train_dataset, val_dataset, test_dataset = Data.random_split(full_dataset, [train_size, val_size, test_size], generator=torch.Generator().manual_seed(random_seed))\n",
    "\n",
    "    # 创建DataLoader\n",
    "    train_loader = Data.DataLoader(train_dataset, batch_size=batch_size, shuffle=shuffle)\n",
    "    val_loader = Data.DataLoader(val_dataset, batch_size=batch_size, shuffle=shuffle)\n",
    "    test_loader = Data.DataLoader(test_dataset, batch_size=batch_size, shuffle=shuffle)\n",
    "\n",
    "    return train_loader, val_loader, test_loader, full_dataset\n",
    "\n"
   ],
   "id": "fc494049419e614",
   "outputs": [],
   "execution_count": 3
  },
  {
   "metadata": {
    "ExecuteTime": {
     "end_time": "2025-04-16T14:15:52.908286Z",
     "start_time": "2025-04-16T14:15:52.807280Z"
    }
   },
   "cell_type": "code",
   "source": [
    "# 使用函数划分数据集\n",
    "train_loader, val_loader, test_loader, full_dataset = split_dataset(\n",
    "    root_dir=\"EnglishImg/English/Img/GoodImg/Bmp\",\n",
    "    transform=transform,\n",
    "    train_ratio=0.7,\n",
    "    val_ratio=0.15,\n",
    "    test_ratio=0.15,\n",
    "    batch_size=BATCH_SIZE,\n",
    "    shuffle=True,\n",
    "    random_seed=42\n",
    ")\n",
    "\n",
    "# 打印数据集大小\n",
    "print(f\"训练集大小: {len(train_loader.dataset)}\")\n",
    "print(f\"验证集大小: {len(val_loader.dataset)}\")\n",
    "print(f\"测试集大小: {len(test_loader.dataset)}\")\n",
    "\n",
    "# 获取类别数量\n",
    "label_num = len(full_dataset.class_to_idx)\n",
    "\n",
    "# 数据可视化\n",
    "to_img = T.ToPILImage()\n",
    "a = to_img(train_loader.dataset[0][0])  # size=[1, 28, 28]\n",
    "plt.imshow(a)\n",
    "plt.axis('off')\n",
    "plt.show()\n",
    "\n",
    "\n",
    "# 定义CNN模型\n",
    "class CNN(nn.Module):\n",
    "    def __init__(self):\n",
    "        super(CNN, self).__init__()\n",
    "        self.Conv1 = nn.Sequential(\n",
    "            nn.Conv2d(in_channels=1, out_channels=16, kernel_size=5, stride=1, padding=2),\n",
    "            nn.ReLU(),\n",
    "            nn.MaxPool2d(kernel_size=2)\n",
    "        )\n",
    "        self.Conv2 = nn.Sequential(\n",
    "            nn.Conv2d(16, 32, 5, 1, 2),\n",
    "            nn.Dropout(p=0.2),\n",
    "            nn.ReLU(),\n",
    "            nn.MaxPool2d(kernel_size=2)\n",
    "        )\n",
    "        self.Linear = nn.Sequential(\n",
    "            nn.Linear(32*9*9, 400),\n",
    "            nn.Dropout(p=0.2),\n",
    "            nn.ReLU(),\n",
    "            nn.Linear(400, 80),\n",
    "            nn.ReLU(),\n",
    "            nn.Linear(80, label_num),\n",
    "        )\n",
    "\n",
    "    def forward(self, input):\n",
    "        input = self.Conv1(input)\n",
    "        input = self.Conv2(input)\n",
    "        input = input.view(input.size(0), -1)\n",
    "        output = self.Linear(input)\n",
    "        return output\n",
    "\n",
    "cnn = CNN()\n",
    "print(cnn)\n",
    "\n",
    "# 定义优化器\n",
    "optimizer = torch.optim.Adam(cnn.parameters(), lr=LR)\n",
    "# 定义损失函数\n",
    "loss_func = nn.CrossEntropyLoss()"
   ],
   "id": "68bd896fbdea9d62",
   "outputs": [
    {
     "name": "stdout",
     "output_type": "stream",
     "text": [
      "训练集大小: 5393\n",
      "验证集大小: 1155\n",
      "测试集大小: 1157\n"
     ]
    },
    {
     "data": {
      "text/plain": [
       "<Figure size 640x480 with 1 Axes>"
      ],
      "image/png": "[encoded data removed]"
     },
     "metadata": {},
     "output_type": "display_data"
    },
    {
     "name": "stdout",
     "output_type": "stream",
     "text": [
      "CNN(\n",
      "  (Conv1): Sequential(\n",
      "    (0): Conv2d(1, 16, kernel_size=(5, 5), stride=(1, 1), padding=(2, 2))\n",
      "    (1): ReLU()\n",
      "    (2): MaxPool2d(kernel_size=2, stride=2, padding=0, dilation=1, ceil_mode=False)\n",
      "  )\n",
      "  (Conv2): Sequential(\n",
      "    (0): Conv2d(16, 32, kernel_size=(5, 5), stride=(1, 1), padding=(2, 2))\n",
      "    (1): Dropout(p=0.2, inplace=False)\n",
      "    (2): ReLU()\n",
      "    (3): MaxPool2d(kernel_size=2, stride=2, padding=0, dilation=1, ceil_mode=False)\n",
      "  )\n",
      "  (Linear): Sequential(\n",
      "    (0): Linear(in_features=2592, out_features=400, bias=True)\n",
      "    (1): Dropout(p=0.2, inplace=False)\n",
      "    (2): ReLU()\n",
      "    (3): Linear(in_features=400, out_features=80, bias=True)\n",
      "    (4): ReLU()\n",
      "    (5): Linear(in_features=80, out_features=62, bias=True)\n",
      "  )\n",
      ")\n"
     ]
    }
   ],
   "execution_count": 4
  },
  {
   "metadata": {
    "ExecuteTime": {
     "end_time": "2025-04-16T14:15:52.924688Z",
     "start_time": "2025-04-16T14:15:52.914949Z"
    }
   },
   "cell_type": "code",
   "source": [
    "# 轻量CNN结构？\n",
    "class SimpleAttention(nn.Module):\n",
    "    def __init__(self, channels):\n",
    "        super().__init__()\n",
    "        self.conv1 = nn.Conv2d(channels, channels // 2, 1)\n",
    "        self.conv2 = nn.Conv2d(channels // 2, channels, 1)\n",
    "        self.sigmoid = nn.Sigmoid()\n",
    "\n",
    "    def forward(self, x):\n",
    "        attn = self.conv1(x)\n",
    "        attn = self.conv2(attn)\n",
    "        attn = self.sigmoid(attn)\n",
    "        return x * attn\n"
   ],
   "id": "dd59129f03cb4ec9",
   "outputs": [],
   "execution_count": 5
  },
  {
   "metadata": {
    "ExecuteTime": {
     "end_time": "2025-04-16T14:15:52.953427Z",
     "start_time": "2025-04-16T14:15:52.948129Z"
    }
   },
   "cell_type": "code",
   "source": [
    "# 添加残差模块\n",
    "class ResidualBlock(nn.Module):\n",
    "    def __init__(self, in_channels, out_channels, use_attention=False):\n",
    "        super().__init__()\n",
    "        self.conv = nn.Sequential(\n",
    "            nn.Conv2d(in_channels, out_channels, 3, padding=1),\n",
    "            nn.BatchNorm2d(out_channels),\n",
    "            nn.ReLU(),\n",
    "            nn.Conv2d(out_channels, out_channels, 3, padding=1),\n",
    "            nn.BatchNorm2d(out_channels)\n",
    "        )\n",
    "        self.attn = SimpleAttention(out_channels) if use_attention else nn.Identity()\n",
    "\n",
    "        self.shortcut = nn.Sequential()\n",
    "        if in_channels != out_channels:\n",
    "            self.shortcut = nn.Sequential(\n",
    "                nn.Conv2d(in_channels, out_channels, kernel_size=1),\n",
    "                nn.BatchNorm2d(out_channels)\n",
    "            )\n",
    "\n",
    "        self.relu = nn.ReLU()\n",
    "\n",
    "    def forward(self, x):\n",
    "        res = self.shortcut(x)\n",
    "        out = self.conv(x)\n",
    "        out = self.attn(out)\n",
    "        return self.relu(out + res)"
   ],
   "id": "8d893488a7be1899",
   "outputs": [],
   "execution_count": 6
  },
  {
   "metadata": {
    "ExecuteTime": {
     "end_time": "2025-04-16T14:15:52.963272Z",
     "start_time": "2025-04-16T14:15:52.954944Z"
    }
   },
   "cell_type": "code",
   "source": [
    "# CNN自注意力模块？\n",
    "class SelfAttention2D(nn.Module):\n",
    "    def __init__(self, in_channels):\n",
    "        super().__init__()\n",
    "        self.query = nn.Conv2d(in_channels, in_channels // 8, kernel_size=1)\n",
    "        self.key   = nn.Conv2d(in_channels, in_channels // 8, kernel_size=1)\n",
    "        self.value = nn.Conv2d(in_channels, in_channels, kernel_size=1)\n",
    "        self.gamma = nn.Parameter(torch.zeros(1))  # 可学习的缩放系数\n",
    "\n",
    "    def forward(self, x):\n",
    "        B, C, H, W = x.shape\n",
    "        proj_q = self.query(x).view(B, -1, H * W)          # B x C1 x N\n",
    "        proj_k = self.key(x).view(B, -1, H * W)            # B x C1 x N\n",
    "        proj_v = self.value(x).view(B, -1, H * W)          # B x C  x N\n",
    "\n",
    "        attention = torch.bmm(proj_q.permute(0, 2, 1), proj_k)  # B x N x N\n",
    "        attention = torch.softmax(attention, dim=-1)\n",
    "\n",
    "        out = torch.bmm(proj_v, attention.permute(0, 2, 1))     # B x C x N\n",
    "        out = out.view(B, C, H, W)\n",
    "\n",
    "        return self.gamma * out + x\n",
    "\n",
    "class CNNWithAttention(nn.Module):\n",
    "    def __init__(self, num_classes):\n",
    "        super().__init__()\n",
    "        self.stem = nn.Sequential(\n",
    "            nn.Conv2d(1, 64, 3, padding=1),\n",
    "            nn.BatchNorm2d(64),\n",
    "            nn.ReLU(),\n",
    "            nn.Dropout(0.3),\n",
    "            nn.MaxPool2d(2)  # 28x28 → 14x14\n",
    "        )\n",
    "        self.block1 = ResidualBlock(64, 128, use_attention=True)\n",
    "        self.block2 = ResidualBlock(128, 256, use_attention=True)\n",
    "        self.pool = nn.MaxPool2d(2)\n",
    "        self.block3 = ResidualBlock(256, 256)\n",
    "        self.attention = SelfAttention2D(256) # 添加自注意力模块\n",
    "\n",
    "        self.classifier = nn.Sequential(\n",
    "            nn.AdaptiveAvgPool2d((1, 1)),\n",
    "            nn.Flatten(),\n",
    "            nn.Linear(256, 64),\n",
    "            nn.ReLU(),\n",
    "            nn.Linear(64, num_classes)\n",
    "        )\n",
    "\n",
    "    def forward(self, x):\n",
    "        x = self.stem(x)\n",
    "        x = self.block1(x)\n",
    "        x = self.block2(x)\n",
    "        x = self.attention(x)\n",
    "        x = self.pool(x)\n",
    "        x = self.block3(x)\n",
    "        return self.classifier(x)\n",
    "\n"
   ],
   "id": "1fbdb56d08290183",
   "outputs": [],
   "execution_count": 7
  },
  {
   "metadata": {
    "ExecuteTime": {
     "end_time": "2025-04-16T14:15:52.975630Z",
     "start_time": "2025-04-16T14:15:52.968688Z"
    }
   },
   "cell_type": "code",
   "source": [
    "# 训练与验证函数\n",
    "def train_and_validate(model, train_loader, val_loader, epochs, device='cpu', save_path='best_model.pth'):\n",
    "    model = model.to(device)\n",
    "    optimizer = optim.Adam(model.parameters(), lr=LR)\n",
    "    loss_func = nn.CrossEntropyLoss()\n",
    "    writer = SummaryWriter(log_dir=LOG_DIR)\n",
    "\n",
    "    best_val_acc = 0.0\n",
    "\n",
    "    for epoch in range(epochs):\n",
    "        model.train()\n",
    "        total_loss = 0.0\n",
    "        correct = 0\n",
    "        total = 0\n",
    "\n",
    "        for batch_x, batch_y in train_loader:\n",
    "            batch_x, batch_y = batch_x.to(device), batch_y.to(device)\n",
    "\n",
    "            outputs = model(batch_x)\n",
    "            loss = loss_func(outputs, batch_y)\n",
    "\n",
    "            optimizer.zero_grad()\n",
    "            loss.backward()\n",
    "            optimizer.step()\n",
    "\n",
    "            total_loss += loss.item()\n",
    "            _, predicted = torch.max(outputs, 1)\n",
    "            correct += (predicted == batch_y).sum().item()\n",
    "            total += batch_y.size(0)\n",
    "\n",
    "        train_acc = correct / total\n",
    "        avg_loss = total_loss / len(train_loader)\n",
    "\n",
    "        # 验证阶段\n",
    "        model.eval()\n",
    "        val_correct = 0\n",
    "        val_total = 0\n",
    "\n",
    "        with torch.no_grad():\n",
    "            for val_x, val_y in val_loader:\n",
    "                val_x, val_y = val_x.to(device), val_y.to(device)\n",
    "                val_outputs = model(val_x)\n",
    "                _, val_pred = torch.max(val_outputs, 1)\n",
    "                val_correct += (val_pred == val_y).sum().item()\n",
    "                val_total += val_y.size(0)\n",
    "\n",
    "        val_acc = val_correct / val_total\n",
    "\n",
    "        writer.add_scalar(\"Loss/train\", avg_loss, epoch)\n",
    "        writer.add_scalar(\"Accuracy/train\", train_acc, epoch)\n",
    "        writer.add_scalar(\"Accuracy/val\", val_acc, epoch)\n",
    "\n",
    "        print(f\"Epoch [{epoch+1}/{epochs}] Loss: {avg_loss:.4f}, Train Acc: {train_acc:.4f}, Val Acc: {val_acc:.4f}\")\n",
    "\n",
    "        if val_acc > best_val_acc:\n",
    "            best_val_acc = val_acc\n",
    "            torch.save(model.state_dict(), save_path)\n",
    "            print(f\"✅ 最佳模型已保存，Val Acc: {val_acc:.4f}\")\n",
    "        sys.stdout.flush()  # 强制刷新缓冲区，立即输出\n",
    "    writer.close()\n"
   ],
   "id": "83d9f46bd66acfee",
   "outputs": [],
   "execution_count": 8
  },
  {
   "metadata": {
    "ExecuteTime": {
     "start_time": "2025-04-16T14:15:52.987979Z"
    }
   },
   "cell_type": "code",
   "source": [
    "def main():\n",
    "    device = torch.device(\"cuda\" if torch.cuda.is_available() else \"cpu\")\n",
    "    print(f\"当前使用设备: {device}\")\n",
    "\n",
    "    train_loader, val_loader, test_loader, full_dataset = split_dataset(\n",
    "        root_dir=ROOT_DIR,\n",
    "        transform=transform,\n",
    "        train_ratio=0.7,\n",
    "        val_ratio=0.15,\n",
    "        test_ratio=0.15,\n",
    "        batch_size=BATCH_SIZE,\n",
    "        shuffle=True,\n",
    "        random_seed=42\n",
    "    )\n",
    "\n",
    "    print(f\"训练集大小: {len(train_loader.dataset)}\")\n",
    "    print(f\"验证集大小: {len(val_loader.dataset)}\")\n",
    "    print(f\"测试集大小: {len(test_loader.dataset)}\")\n",
    "\n",
    "    label_num = len(full_dataset.class_to_idx)\n",
    "    model = CNNWithAttention(label_num) # 调用模型\n",
    "\n",
    "    train_and_validate(\n",
    "        model=model,\n",
    "        train_loader=train_loader,\n",
    "        val_loader=val_loader,\n",
    "        epochs=EPOCH,\n",
    "        device=device,\n",
    "        save_path=MODEL_SAVE_PATH\n",
    "    )\n",
    "\n",
    "    print(\"训练结束。\")\n",
    "\n",
    "if __name__ == \"__main__\":\n",
    "    main()"
   ],
   "id": "423e70d579e78269",
   "outputs": [
    {
     "name": "stdout",
     "output_type": "stream",
     "text": [
      "当前使用设备: cpu\n",
      "训练集大小: 5393\n",
      "验证集大小: 1155\n",
      "测试集大小: 1157\n",
      "Epoch [1/100] Loss: 4.0466, Train Acc: 0.0571, Val Acc: 0.0649\n",
      "✅ 最佳模型已保存，Val Acc: 0.0649\n",
      "Epoch [2/100] Loss: 3.8167, Train Acc: 0.1118, Val Acc: 0.1108\n",
      "✅ 最佳模型已保存，Val Acc: 0.1108\n",
      "Epoch [3/100] Loss: 3.5906, Train Acc: 0.1700, Val Acc: 0.2069\n",
      "✅ 最佳模型已保存，Val Acc: 0.2069\n",
      "Epoch [4/100] Loss: 3.3635, Train Acc: 0.2169, Val Acc: 0.2000\n",
      "Epoch [5/100] Loss: 3.1945, Train Acc: 0.2596, Val Acc: 0.2087\n",
      "✅ 最佳模型已保存，Val Acc: 0.2087\n",
      "Epoch [6/100] Loss: 3.0253, Train Acc: 0.2926, Val Acc: 0.2398\n",
      "✅ 最佳模型已保存，Val Acc: 0.2398\n",
      "Epoch [7/100] Loss: 2.8643, Train Acc: 0.3217, Val Acc: 0.2771\n",
      "✅ 最佳模型已保存，Val Acc: 0.2771\n"
     ]
    }
   ],
   "execution_count": null
  },
  {
   "metadata": {
    "ExecuteTime": {
     "end_time": "2025-04-16T14:26:28.592748100Z",
     "start_time": "2025-04-16T03:11:29.777136Z"
    }
   },
   "cell_type": "code",
   "source": "",
   "id": "7ee70f27438a6b63",
   "outputs": [],
   "execution_count": null
  }
 ],
 "metadata": {
  "kernelspec": {
   "display_name": "Python 3",
   "language": "python",
   "name": "python3"
  },
  "language_info": {
   "codemirror_mode": {
    "name": "ipython",
    "version": 2
   },
   "file_extension": ".py",
   "mimetype": "text/x-python",
   "name": "python",
   "nbconvert_exporter": "python",
   "pygments_lexer": "ipython2",
   "version": "2.7.6"
  }
 },
 "nbformat": 4,
 "nbformat_minor": 5
}
