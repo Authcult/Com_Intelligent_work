{
 "cells": [
  {
   "metadata": {},
   "cell_type": "markdown",
   "source": [
    "# 基于卷积神经网络的手写英文字母识别系统研究"
   ],
   "id": "4a81bab4fc2874a0"
  },
  {
   "cell_type": "code",
   "execution_count": 1,
   "outputs": [],
   "source": [
    "from utils import *"
   ],
   "metadata": {
    "collapsed": false,
    "ExecuteTime": {
     "end_time": "2025-04-22T12:38:11.839088Z",
     "start_time": "2025-04-22T12:38:08.389779800Z"
    }
   },
   "id": "fe7d0d5c421bd823"
  },
  {
   "metadata": {},
   "cell_type": "markdown",
   "source": [
    "#### 数据展示"
   ],
   "id": "513531a9b038a88a"
  },
  {
   "metadata": {
    "ExecuteTime": {
     "end_time": "2025-04-22T12:38:12.052355Z",
     "start_time": "2025-04-22T12:38:11.842187700Z"
    }
   },
   "cell_type": "code",
   "outputs": [
    {
     "name": "stdout",
     "output_type": "stream",
     "text": [
      "训练集每个类别样本数：\n",
      "类别 A: 1400\n",
      "类别 B: 1400\n",
      "类别 C: 1400\n",
      "类别 D: 1400\n",
      "类别 E: 1400\n",
      "类别 F: 1400\n",
      "类别 G: 1400\n",
      "类别 H: 1400\n",
      "类别 I: 1400\n",
      "类别 J: 1400\n",
      "类别 K: 1400\n",
      "类别 L: 1400\n",
      "类别 M: 1400\n",
      "类别 N: 1400\n",
      "类别 O: 1400\n",
      "类别 P: 1400\n",
      "类别 Q: 1400\n",
      "类别 R: 1400\n",
      "类别 S: 1400\n",
      "类别 T: 1400\n",
      "类别 U: 1400\n",
      "类别 V: 1400\n",
      "类别 W: 1400\n",
      "类别 X: 1400\n",
      "类别 Y: 1400\n",
      "类别 Z: 1400\n",
      "类别 a_: 1400\n",
      "类别 b_: 1400\n",
      "类别 d_: 1400\n",
      "类别 e_: 1400\n",
      "类别 f_: 1400\n",
      "类别 g_: 1400\n",
      "类别 h_: 1400\n",
      "类别 n_: 1400\n",
      "类别 q_: 1400\n",
      "类别 r_: 1400\n",
      "类别 t_: 1400\n",
      "\n",
      "验证集每个类别样本数：\n",
      "类别 A: 300\n",
      "类别 B: 300\n",
      "类别 C: 300\n",
      "类别 D: 300\n",
      "类别 E: 300\n",
      "类别 F: 300\n",
      "类别 G: 300\n",
      "类别 H: 300\n",
      "类别 I: 300\n",
      "类别 J: 300\n",
      "类别 K: 300\n",
      "类别 L: 300\n",
      "类别 M: 300\n",
      "类别 N: 300\n",
      "类别 O: 300\n",
      "类别 P: 300\n",
      "类别 Q: 300\n",
      "类别 R: 300\n",
      "类别 S: 300\n",
      "类别 T: 300\n",
      "类别 U: 300\n",
      "类别 V: 300\n",
      "类别 W: 300\n",
      "类别 X: 300\n",
      "类别 Y: 300\n",
      "类别 Z: 300\n",
      "类别 a_: 300\n",
      "类别 b_: 300\n",
      "类别 d_: 300\n",
      "类别 e_: 300\n",
      "类别 f_: 300\n",
      "类别 g_: 300\n",
      "类别 h_: 300\n",
      "类别 n_: 300\n",
      "类别 q_: 300\n",
      "类别 r_: 300\n",
      "类别 t_: 300\n",
      "\n",
      "测试集每个类别样本数：\n",
      "类别 A: 300\n",
      "类别 B: 300\n",
      "类别 C: 300\n",
      "类别 D: 300\n",
      "类别 E: 300\n",
      "类别 F: 300\n",
      "类别 G: 300\n",
      "类别 H: 300\n",
      "类别 I: 300\n",
      "类别 J: 300\n",
      "类别 K: 300\n",
      "类别 L: 300\n",
      "类别 M: 300\n",
      "类别 N: 300\n",
      "类别 O: 300\n",
      "类别 P: 300\n",
      "类别 Q: 300\n",
      "类别 R: 300\n",
      "类别 S: 300\n",
      "类别 T: 300\n",
      "类别 U: 300\n",
      "类别 V: 300\n",
      "类别 W: 300\n",
      "类别 X: 300\n",
      "类别 Y: 300\n",
      "类别 Z: 300\n",
      "类别 a_: 300\n",
      "类别 b_: 300\n",
      "类别 d_: 300\n",
      "类别 e_: 300\n",
      "类别 f_: 300\n",
      "类别 g_: 300\n",
      "类别 h_: 300\n",
      "类别 n_: 300\n",
      "类别 q_: 300\n",
      "类别 r_: 300\n",
      "类别 t_: 300\n",
      "训练集大小: 51800\n",
      "验证集大小: 11100\n",
      "测试集大小: 11100\n"
     ]
    },
    {
     "data": {
      "text/plain": "<Figure size 640x480 with 1 Axes>",
      "image/png": "[encoded data removed]"
     },
     "metadata": {},
     "output_type": "display_data"
    }
   ],
   "execution_count": 2,
   "source": [
    "transform = AlbumentationsTransformBase()  # 不使用数据增强\n",
    "\n",
    "ROOT_DIR = \"emnist_png_balanced\"  # 数据集路径\n",
    "BATCH_SIZE = 256  # 批大小\n",
    "EPOCH = 500  # 训练轮数\n",
    "device = torch.device(\"cuda\" if torch.cuda.is_available() else \"cpu\")# 设备选择\n",
    "LR = 1e-4  # 学习率\n",
    "\n",
    "train_loader, val_loader, test_loader, full_dataset = split_dataset(\n",
    "    root_dir=ROOT_DIR,\n",
    "    transform=transform,\n",
    "    train_ratio=0.7,\n",
    "    val_ratio=0.15,\n",
    "    test_ratio=0.15,\n",
    "    batch_size=BATCH_SIZE,\n",
    "    shuffle=True,\n",
    "    random_seed=42,\n",
    ")\n",
    "\n",
    "# 打印数据集大小\n",
    "print(f\"训练集大小: {len(train_loader.dataset)}\")\n",
    "print(f\"验证集大小: {len(val_loader.dataset)}\")\n",
    "print(f\"测试集大小: {len(test_loader.dataset)}\")\n",
    "\n",
    "# 获取类别数量\n",
    "label_num = len(full_dataset.class_to_idx)\n",
    "\n",
    "# 数据可视化\n",
    "to_img = T.ToPILImage()\n",
    "a = to_img(train_loader.dataset[0][0])  # size=[1, 32, 32]\n",
    "plt.imshow(a)\n",
    "plt.axis('off')\n",
    "plt.show()"
   ],
   "id": "528581b0e00270be"
  },
  {
   "metadata": {
    "is_executing": true,
    "ExecuteTime": {
     "start_time": "2025-04-22T12:38:12.050339900Z"
    }
   },
   "cell_type": "code",
   "outputs": [
    {
     "name": "stdout",
     "output_type": "stream",
     "text": [
      "Epoch [1/500] Loss: 3.3567, Train Top-1 Acc: 0.1270, Train Top-3 Acc: 0.2883, Val Top-1 Acc: 0.3254, Val Top-3 Acc: 0.6117\n",
      "✅ 新的最佳模型已保存，Val Top-1 Acc: 0.3254\n",
      "Epoch [2/500] Loss: 2.4861, Train Top-1 Acc: 0.3602, Train Top-3 Acc: 0.6502, Val Top-1 Acc: 0.5970, Val Top-3 Acc: 0.8549\n",
      "✅ 新的最佳模型已保存，Val Top-1 Acc: 0.5970\n",
      "Epoch [3/500] Loss: 1.7093, Train Top-1 Acc: 0.5488, Train Top-3 Acc: 0.8339, Val Top-1 Acc: 0.7262, Val Top-3 Acc: 0.9159\n",
      "✅ 新的最佳模型已保存，Val Top-1 Acc: 0.7262\n",
      "Epoch [4/500] Loss: 1.2004, Train Top-1 Acc: 0.6759, Train Top-3 Acc: 0.9086, Val Top-1 Acc: 0.7819, Val Top-3 Acc: 0.9462\n",
      "✅ 新的最佳模型已保存，Val Top-1 Acc: 0.7819\n"
     ]
    }
   ],
   "execution_count": null,
   "source": [
    "model = CNNWithAttention(label_num, use_attention=True) # 调用模型\n",
    "\n",
    "train_and_validate(\n",
    "    model=model,\n",
    "    train_loader=train_loader,\n",
    "    val_loader=val_loader,\n",
    "    epochs=EPOCH,\n",
    "    device=device,\n",
    "    save_path=\"cnn_res_attention_noaug_best.pth\",\n",
    "    lr=LR\n",
    ")"
   ],
   "id": "b9f066ea01c8bf57"
  },
  {
   "metadata": {},
   "cell_type": "markdown",
   "source": [
    "### 无注意力机制 无数据增强"
   ],
   "id": "63732b390e9bf460"
  },
  {
   "metadata": {
    "is_executing": true
   },
   "cell_type": "code",
   "outputs": [],
   "execution_count": null,
   "source": [
    "model = CNNWithAttention(label_num, use_attention=False) # 调用模型\n",
    "\n",
    "train_and_validate(\n",
    "    model=model,\n",
    "    train_loader=train_loader,\n",
    "    val_loader=val_loader,\n",
    "    epochs=EPOCH,\n",
    "    device=device,\n",
    "    save_path=\"cnn_res_noattention_noaug_best.pth\",\n",
    "    lr=LR\n",
    ")"
   ],
   "id": "eb2b4250cd798311"
  }
 ],
 "metadata": {
  "kernelspec": {
   "name": "compy12",
   "language": "python",
   "display_name": "Python (Compy12)"
  },
  "language_info": {
   "codemirror_mode": {
    "name": "ipython",
    "version": 2
   },
   "file_extension": ".py",
   "mimetype": "text/x-python",
   "name": "python",
   "nbconvert_exporter": "python",
   "pygments_lexer": "ipython2",
   "version": "2.7.6"
  }
 },
 "nbformat": 4,
 "nbformat_minor": 5
}
