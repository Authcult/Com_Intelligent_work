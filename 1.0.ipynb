{
 "cells": [
  {
   "metadata": {},
   "cell_type": "markdown",
   "source": "# 基于卷积神经网络的手写英文字母识别系统研究",
   "id": "4a81bab4fc2874a0"
  },
  {
   "metadata": {},
   "cell_type": "markdown",
   "source": "## 准备数据集及数据预处理",
   "id": "96eefa655b1b4568"
  },
  {
   "metadata": {},
   "cell_type": "markdown",
   "source": "### 将下载的数据集按类重命名",
   "id": "f4c4b6d6cc38c9c1"
  },
  {
   "metadata": {
    "ExecuteTime": {
     "end_time": "2025-04-22T11:21:49.314700Z",
     "start_time": "2025-04-22T11:21:48.941062Z"
    }
   },
   "cell_type": "code",
   "source": [
    "\n",
    "from torchvision.datasets import EMNIST  \n",
    "from PIL import Image  \n",
    "import os  \n",
    "from IPython.display import display  \n",
    "\n",
    "def save_emnist_images_with_class_previews(Edataset = \"balanced\", save_dir=\"emnist_png_balanced\", max_images_per_class=1000, preview=True, preview_limit_per_class=10):  \n",
    "    digits = [str(i) for i in range(10)]  \n",
    "    letters = [  \n",
    "        'A', 'B', 'C', 'D', 'E', 'F', 'G', 'H', 'I', 'J', 'K', 'L', 'M', 'N',  \n",
    "        'O', 'P', 'Q', 'R', 'S', 'T', 'U', 'V', 'W', 'X', 'Y', 'Z',  \n",
    "        'a', 'b', 'd', 'e', 'f', 'g', 'h', 'n', 'q', 'r', 't'  \n",
    "    ]  \n",
    "    if Edataset == \"letters\":\n",
    "         digits = []  # 字母数据集不需要数字\n",
    "    all_labels = digits + letters  \n",
    "\n",
    "    # 修改后的函数，区分大小写文件夹名  \n",
    "    def label_char_to_folder_name(label_char):  \n",
    "        if label_char.islower():  \n",
    "            return label_char + \"_\"   # 小写加下划线后缀  \n",
    "        else:  \n",
    "            return label_char         # 大写和数字保持不变  \n",
    "\n",
    "    def label_to_char(label):  \n",
    "        if 0 <= label < len(all_labels):  \n",
    "            return all_labels[label]  \n",
    "        else:  \n",
    "            return \"UNK\"  \n",
    "\n",
    "    # 先处理预览部分：读取时用转换后的文件夹名  \n",
    "    if os.path.exists(save_dir) and os.path.isdir(save_dir):  \n",
    "        print(f\"检测到目录 {save_dir} 已存在，跳过下载，直接展示预览图...\")  \n",
    "        class_preview_images = {}  \n",
    "        for label_char in all_labels:  \n",
    "            folder_name = label_char_to_folder_name(label_char)  \n",
    "            label_dir = os.path.join(save_dir, folder_name)  \n",
    "            imgs = []  \n",
    "            if os.path.exists(label_dir) and os.path.isdir(label_dir):  \n",
    "                files = sorted(os.listdir(label_dir))  \n",
    "                for f in files[:preview_limit_per_class]:  \n",
    "                    try:  \n",
    "                        im = Image.open(os.path.join(label_dir, f)).convert('L')  \n",
    "                        imgs.append(im)  \n",
    "                    except:  \n",
    "                        pass  \n",
    "            if imgs:  \n",
    "                class_preview_images[label_char] = imgs  \n",
    "        if preview:  \n",
    "            for label_char, imgs in class_preview_images.items():  \n",
    "                width = 28 * len(imgs)  \n",
    "                height = 28  \n",
    "                big_img = Image.new('L', (width, height))  \n",
    "                for idx, im in enumerate(imgs):  \n",
    "                    big_img.paste(im, (28*idx, 0))  \n",
    "                print(f\"类别 {label_char} 预览图 (共 {len(imgs)} 张):\")  \n",
    "                display(big_img)  \n",
    "\n",
    "        print(\"预览完毕。\")  \n",
    "        return  \n",
    "\n",
    "    # 下载并保存图像  \n",
    "    print(f\"目录 {save_dir} 不存在，开始下载数据并保存...\")  \n",
    "    train_set = EMNIST(root=\"emnist_data\", split=Edataset, train=True, download=True)  \n",
    "    test_set = EMNIST(root=\"emnist_data\", split=Edataset, train=False, download=True)  \n",
    "    full_dataset = train_set + test_set  \n",
    "\n",
    "    os.makedirs(save_dir, exist_ok=True)  \n",
    "\n",
    "    images_per_class = {label_char: 0 for label_char in all_labels}  \n",
    "    saved_images_count = 0  \n",
    "\n",
    "    class_preview_images = {label_char: [] for label_char in all_labels} if preview else None  \n",
    "\n",
    "    for i, (img, label) in enumerate(full_dataset):  \n",
    "        label_char = label_to_char(label)\n",
    "        if label_char in digits:\n",
    "            continue\n",
    "        if label_char == \"UNK\":  \n",
    "            continue  \n",
    "        if images_per_class[label_char] >= max_images_per_class:  \n",
    "            continue  \n",
    "\n",
    "        folder_name = label_char_to_folder_name(label_char)  \n",
    "        label_dir = os.path.join(save_dir, folder_name)  \n",
    "        os.makedirs(label_dir, exist_ok=True)  \n",
    "\n",
    "        img = img.resize((28, 28))  \n",
    "        img = img.transpose(Image.Transpose.FLIP_LEFT_RIGHT).rotate(90)  \n",
    "        img.save(os.path.join(label_dir, f\"{images_per_class[label_char]}.png\"))  \n",
    "\n",
    "        if preview and len(class_preview_images[label_char]) < preview_limit_per_class:  \n",
    "            class_preview_images[label_char].append(img)  \n",
    "\n",
    "        images_per_class[label_char] += 1  \n",
    "        saved_images_count += 1  \n",
    "\n",
    "        if saved_images_count % 500 == 0:  \n",
    "            print(f\"已保存 {saved_images_count} 张图像...\")  \n",
    "\n",
    "    print(\"所有图像已保存到\", save_dir)  \n",
    "\n",
    "    if preview:  \n",
    "        for label_char, imgs in class_preview_images.items():  \n",
    "            if len(imgs) == 0:  \n",
    "                continue  \n",
    "            width = 28 * len(imgs)  \n",
    "            height = 28  \n",
    "            big_img = Image.new('L', (width, height))  \n",
    "            for idx, im in enumerate(imgs):  \n",
    "                big_img.paste(im, (28*idx, 0))  \n",
    "            print(f\"类别 {label_char} 预览图 (共 {len(imgs)} 张):\")  \n",
    "            display(big_img)  \n",
    "\n",
    "# 调用（Notebook中执行）  \n",
    "save_emnist_images_with_class_previews(Edataset = \"balanced\", save_dir=\"emnist_png_balanced\", max_images_per_class=1000, preview=True, preview_limit_per_class=10)\n",
    "\n"
   ],
   "id": "fbfa1b29017bb63e",
   "outputs": [
    {
     "name": "stdout",
     "output_type": "stream",
     "text": [
      "检测到目录 emnist_png_balanced 已存在，跳过下载，直接展示预览图...\n",
      "类别 0 预览图 (共 10 张):\n"
     ]
    },
    {
     "data": {
      "text/plain": [
       "<PIL.Image.Image image mode=L size=280x28>"
      ],
      "image/png": "[encoded data removed]",
      "image/jpeg": "[encoded data removed]"
     },
     "metadata": {},
     "output_type": "display_data"
    },
    {
     "name": "stdout",
     "output_type": "stream",
     "text": [
      "类别 1 预览图 (共 10 张):\n"
     ]
    },
    {
     "data": {
      "text/plain": [
       "<PIL.Image.Image image mode=L size=280x28>"
      ],
      "image/png": "[encoded data removed]",
      "image/jpeg": "[encoded data removed]"
     },
     "metadata": {},
     "output_type": "display_data"
    },
    {
     "name": "stdout",
     "output_type": "stream",
     "text": [
      "类别 2 预览图 (共 10 张):\n"
     ]
    },
    {
     "data": {
      "text/plain": [
       "<PIL.Image.Image image mode=L size=280x28>"
      ],
      "image/png": "[encoded data removed]",
      "image/jpeg": "[encoded data removed]"
     },
     "metadata": {},
     "output_type": "display_data"
    },
    {
     "name": "stdout",
     "output_type": "stream",
     "text": [
      "类别 3 预览图 (共 10 张):\n"
     ]
    },
    {
     "data": {
      "text/plain": [
       "<PIL.Image.Image image mode=L size=280x28>"
      ],
      "image/png": "[encoded data removed]",
      "image/jpeg": "[encoded data removed]"
     },
     "metadata": {},
     "output_type": "display_data"
    },
    {
     "name": "stdout",
     "output_type": "stream",
     "text": [
      "类别 4 预览图 (共 10 张):\n"
     ]
    },
    {
     "data": {
      "text/plain": [
       "<PIL.Image.Image image mode=L size=280x28>"
      ],
      "image/png": "[encoded data removed]",
      "image/jpeg": "[encoded data removed]"
     },
     "metadata": {},
     "output_type": "display_data"
    },
    {
     "name": "stdout",
     "output_type": "stream",
     "text": [
      "类别 5 预览图 (共 10 张):\n"
     ]
    },
    {
     "data": {
      "text/plain": [
       "<PIL.Image.Image image mode=L size=280x28>"
      ],
      "image/png": "[encoded data removed]",
      "image/jpeg": "[encoded data removed]"
     },
     "metadata": {},
     "output_type": "display_data"
    },
    {
     "name": "stdout",
     "output_type": "stream",
     "text": [
      "类别 6 预览图 (共 10 张):\n"
     ]
    },
    {
     "data": {
      "text/plain": [
       "<PIL.Image.Image image mode=L size=280x28>"
      ],
      "image/png": "[encoded data removed]",
      "image/jpeg": "[encoded data removed]"
     },
     "metadata": {},
     "output_type": "display_data"
    },
    {
     "name": "stdout",
     "output_type": "stream",
     "text": [
      "类别 7 预览图 (共 10 张):\n"
     ]
    },
    {
     "data": {
      "text/plain": [
       "<PIL.Image.Image image mode=L size=280x28>"
      ],
      "image/png": "[encoded data removed]",
      "image/jpeg": "[encoded data removed]"
     },
     "metadata": {},
     "output_type": "display_data"
    },
    {
     "name": "stdout",
     "output_type": "stream",
     "text": [
      "类别 8 预览图 (共 10 张):\n"
     ]
    },
    {
     "data": {
      "text/plain": [
       "<PIL.Image.Image image mode=L size=280x28>"
      ],
      "image/png": "[encoded data removed]",
      "image/jpeg": "[encoded data removed]"
     },
     "metadata": {},
     "output_type": "display_data"
    },
    {
     "name": "stdout",
     "output_type": "stream",
     "text": [
      "类别 9 预览图 (共 10 张):\n"
     ]
    },
    {
     "data": {
      "text/plain": [
       "<PIL.Image.Image image mode=L size=280x28>"
      ],
      "image/png": "[encoded data removed]",
      "image/jpeg": "[encoded data removed]"
     },
     "metadata": {},
     "output_type": "display_data"
    },
    {
     "name": "stdout",
     "output_type": "stream",
     "text": [
      "类别 A 预览图 (共 10 张):\n"
     ]
    },
    {
     "data": {
      "text/plain": [
       "<PIL.Image.Image image mode=L size=280x28>"
      ],
      "image/png": "[encoded data removed]",
      "image/jpeg": "[encoded data removed]"
     },
     "metadata": {},
     "output_type": "display_data"
    },
    {
     "name": "stdout",
     "output_type": "stream",
     "text": [
      "类别 B 预览图 (共 10 张):\n"
     ]
    },
    {
     "data": {
      "text/plain": [
       "<PIL.Image.Image image mode=L size=280x28>"
      ],
      "image/png": "[encoded data removed]",
      "image/jpeg": "[encoded data removed]"
     },
     "metadata": {},
     "output_type": "display_data"
    },
    {
     "name": "stdout",
     "output_type": "stream",
     "text": [
      "类别 C 预览图 (共 10 张):\n"
     ]
    },
    {
     "data": {
      "text/plain": [
       "<PIL.Image.Image image mode=L size=280x28>"
      ],
      "image/png": "[encoded data removed]",
      "image/jpeg": "[encoded data removed]"
     },
     "metadata": {},
     "output_type": "display_data"
    },
    {
     "name": "stdout",
     "output_type": "stream",
     "text": [
      "类别 D 预览图 (共 10 张):\n"
     ]
    },
    {
     "data": {
      "text/plain": [
       "<PIL.Image.Image image mode=L size=280x28>"
      ],
      "image/png": "[encoded data removed]",
      "image/jpeg": "[encoded data removed]"
     },
     "metadata": {},
     "output_type": "display_data"
    },
    {
     "name": "stdout",
     "output_type": "stream",
     "text": [
      "类别 E 预览图 (共 10 张):\n"
     ]
    },
    {
     "data": {
      "text/plain": [
       "<PIL.Image.Image image mode=L size=280x28>"
      ],
      "image/png": "[encoded data removed]",
      "image/jpeg": "[encoded data removed]"
     },
     "metadata": {},
     "output_type": "display_data"
    },
    {
     "name": "stdout",
     "output_type": "stream",
     "text": [
      "类别 F 预览图 (共 10 张):\n"
     ]
    },
    {
     "data": {
      "text/plain": [
       "<PIL.Image.Image image mode=L size=280x28>"
      ],
      "image/png": "[encoded data removed]",
      "image/jpeg": "[encoded data removed]"
     },
     "metadata": {},
     "output_type": "display_data"
    },
    {
     "name": "stdout",
     "output_type": "stream",
     "text": [
      "类别 G 预览图 (共 10 张):\n"
     ]
    },
    {
     "data": {
      "text/plain": [
       "<PIL.Image.Image image mode=L size=280x28>"
      ],
      "image/png": "[encoded data removed]",
      "image/jpeg": "[encoded data removed]"
     },
     "metadata": {},
     "output_type": "display_data"
    },
    {
     "name": "stdout",
     "output_type": "stream",
     "text": [
      "类别 H 预览图 (共 10 张):\n"
     ]
    },
    {
     "data": {
      "text/plain": [
       "<PIL.Image.Image image mode=L size=280x28>"
      ],
      "image/png": "[encoded data removed]",
      "image/jpeg": "[encoded data removed]"
     },
     "metadata": {},
     "output_type": "display_data"
    },
    {
     "name": "stdout",
     "output_type": "stream",
     "text": [
      "类别 I 预览图 (共 10 张):\n"
     ]
    },
    {
     "data": {
      "text/plain": [
       "<PIL.Image.Image image mode=L size=280x28>"
      ],
      "image/png": "[encoded data removed]",
      "image/jpeg": "[encoded data removed]"
     },
     "metadata": {},
     "output_type": "display_data"
    },
    {
     "name": "stdout",
     "output_type": "stream",
     "text": [
      "类别 J 预览图 (共 10 张):\n"
     ]
    },
    {
     "data": {
      "text/plain": [
       "<PIL.Image.Image image mode=L size=280x28>"
      ],
      "image/png": "[encoded data removed]",
      "image/jpeg": "[encoded data removed]"
     },
     "metadata": {},
     "output_type": "display_data"
    },
    {
     "name": "stdout",
     "output_type": "stream",
     "text": [
      "类别 K 预览图 (共 10 张):\n"
     ]
    },
    {
     "data": {
      "text/plain": [
       "<PIL.Image.Image image mode=L size=280x28>"
      ],
      "image/png": "[encoded data removed]",
      "image/jpeg": "[encoded data removed]"
     },
     "metadata": {},
     "output_type": "display_data"
    },
    {
     "name": "stdout",
     "output_type": "stream",
     "text": [
      "类别 L 预览图 (共 10 张):\n"
     ]
    },
    {
     "data": {
      "text/plain": [
       "<PIL.Image.Image image mode=L size=280x28>"
      ],
      "image/png": "[encoded data removed]",
      "image/jpeg": "[encoded data removed]"
     },
     "metadata": {},
     "output_type": "display_data"
    },
    {
     "name": "stdout",
     "output_type": "stream",
     "text": [
      "类别 M 预览图 (共 10 张):\n"
     ]
    },
    {
     "data": {
      "text/plain": [
       "<PIL.Image.Image image mode=L size=280x28>"
      ],
      "image/png": "[encoded data removed]",
      "image/jpeg": "[encoded data removed]"
     },
     "metadata": {},
     "output_type": "display_data"
    },
    {
     "name": "stdout",
     "output_type": "stream",
     "text": [
      "类别 N 预览图 (共 10 张):\n"
     ]
    },
    {
     "data": {
      "text/plain": [
       "<PIL.Image.Image image mode=L size=280x28>"
      ],
      "image/png": "[encoded data removed]",
      "image/jpeg": "[encoded data removed]"
     },
     "metadata": {},
     "output_type": "display_data"
    },
    {
     "name": "stdout",
     "output_type": "stream",
     "text": [
      "类别 O 预览图 (共 10 张):\n"
     ]
    },
    {
     "data": {
      "text/plain": [
       "<PIL.Image.Image image mode=L size=280x28>"
      ],
      "image/png": "[encoded data removed]",
      "image/jpeg": "[encoded data removed]"
     },
     "metadata": {},
     "output_type": "display_data"
    },
    {
     "name": "stdout",
     "output_type": "stream",
     "text": [
      "类别 P 预览图 (共 10 张):\n"
     ]
    },
    {
     "data": {
      "text/plain": [
       "<PIL.Image.Image image mode=L size=280x28>"
      ],
      "image/png": "[encoded data removed]",
      "image/jpeg": "[encoded data removed]"
     },
     "metadata": {},
     "output_type": "display_data"
    },
    {
     "name": "stdout",
     "output_type": "stream",
     "text": [
      "类别 Q 预览图 (共 10 张):\n"
     ]
    },
    {
     "data": {
      "text/plain": [
       "<PIL.Image.Image image mode=L size=280x28>"
      ],
      "image/png": "[encoded data removed]",
      "image/jpeg": "[encoded data removed]"
     },
     "metadata": {},
     "output_type": "display_data"
    },
    {
     "name": "stdout",
     "output_type": "stream",
     "text": [
      "类别 R 预览图 (共 10 张):\n"
     ]
    },
    {
     "data": {
      "text/plain": [
       "<PIL.Image.Image image mode=L size=280x28>"
      ],
      "image/png": "[encoded data removed]",
      "image/jpeg": "[encoded data removed]"
     },
     "metadata": {},
     "output_type": "display_data"
    },
    {
     "name": "stdout",
     "output_type": "stream",
     "text": [
      "类别 S 预览图 (共 10 张):\n"
     ]
    },
    {
     "data": {
      "text/plain": [
       "<PIL.Image.Image image mode=L size=280x28>"
      ],
      "image/png": "[encoded data removed]",
      "image/jpeg": "[encoded data removed]"
     },
     "metadata": {},
     "output_type": "display_data"
    },
    {
     "name": "stdout",
     "output_type": "stream",
     "text": [
      "类别 T 预览图 (共 10 张):\n"
     ]
    },
    {
     "data": {
      "text/plain": [
       "<PIL.Image.Image image mode=L size=280x28>"
      ],
      "image/png": "[encoded data removed]",
      "image/jpeg": "[encoded data removed]"
     },
     "metadata": {},
     "output_type": "display_data"
    },
    {
     "name": "stdout",
     "output_type": "stream",
     "text": [
      "类别 U 预览图 (共 10 张):\n"
     ]
    },
    {
     "data": {
      "text/plain": [
       "<PIL.Image.Image image mode=L size=280x28>"
      ],
      "image/png": "[encoded data removed]",
      "image/jpeg": "[encoded data removed]"
     },
     "metadata": {},
     "output_type": "display_data"
    },
    {
     "name": "stdout",
     "output_type": "stream",
     "text": [
      "类别 V 预览图 (共 10 张):\n"
     ]
    },
    {
     "data": {
      "text/plain": [
       "<PIL.Image.Image image mode=L size=280x28>"
      ],
      "image/png": "[encoded data removed]",
      "image/jpeg": "[encoded data removed]"
     },
     "metadata": {},
     "output_type": "display_data"
    },
    {
     "name": "stdout",
     "output_type": "stream",
     "text": [
      "类别 W 预览图 (共 10 张):\n"
     ]
    },
    {
     "data": {
      "text/plain": [
       "<PIL.Image.Image image mode=L size=280x28>"
      ],
      "image/png": "[encoded data removed]",
      "image/jpeg": "[encoded data removed]"
     },
     "metadata": {},
     "output_type": "display_data"
    },
    {
     "name": "stdout",
     "output_type": "stream",
     "text": [
      "类别 X 预览图 (共 10 张):\n"
     ]
    },
    {
     "data": {
      "text/plain": [
       "<PIL.Image.Image image mode=L size=280x28>"
      ],
      "image/png": "[encoded data removed]",
      "image/jpeg": "[encoded data removed]"
     },
     "metadata": {},
     "output_type": "display_data"
    },
    {
     "name": "stdout",
     "output_type": "stream",
     "text": [
      "类别 Y 预览图 (共 10 张):\n"
     ]
    },
    {
     "data": {
      "text/plain": [
       "<PIL.Image.Image image mode=L size=280x28>"
      ],
      "image/png": "[encoded data removed]",
      "image/jpeg": "[encoded data removed]"
     },
     "metadata": {},
     "output_type": "display_data"
    },
    {
     "name": "stdout",
     "output_type": "stream",
     "text": [
      "类别 Z 预览图 (共 10 张):\n"
     ]
    },
    {
     "data": {
      "text/plain": [
       "<PIL.Image.Image image mode=L size=280x28>"
      ],
      "image/png": "[encoded data removed]",
      "image/jpeg": "[encoded data removed]"
     },
     "metadata": {},
     "output_type": "display_data"
    },
    {
     "name": "stdout",
     "output_type": "stream",
     "text": [
      "类别 a 预览图 (共 10 张):\n"
     ]
    },
    {
     "data": {
      "text/plain": [
       "<PIL.Image.Image image mode=L size=280x28>"
      ],
      "image/png": "[encoded data removed]",
      "image/jpeg": "[encoded data removed]"
     },
     "metadata": {},
     "output_type": "display_data"
    },
    {
     "name": "stdout",
     "output_type": "stream",
     "text": [
      "类别 b 预览图 (共 10 张):\n"
     ]
    },
    {
     "data": {
      "text/plain": [
       "<PIL.Image.Image image mode=L size=280x28>"
      ],
      "image/png": "[encoded data removed]",
      "image/jpeg": "[encoded data removed]"
     },
     "metadata": {},
     "output_type": "display_data"
    },
    {
     "name": "stdout",
     "output_type": "stream",
     "text": [
      "类别 d 预览图 (共 10 张):\n"
     ]
    },
    {
     "data": {
      "text/plain": [
       "<PIL.Image.Image image mode=L size=280x28>"
      ],
      "image/png": "[encoded data removed]",
      "image/jpeg": "[encoded data removed]"
     },
     "metadata": {},
     "output_type": "display_data"
    },
    {
     "name": "stdout",
     "output_type": "stream",
     "text": [
      "类别 e 预览图 (共 10 张):\n"
     ]
    },
    {
     "data": {
      "text/plain": [
       "<PIL.Image.Image image mode=L size=280x28>"
      ],
      "image/png": "[encoded data removed]",
      "image/jpeg": "[encoded data removed]"
     },
     "metadata": {},
     "output_type": "display_data"
    },
    {
     "name": "stdout",
     "output_type": "stream",
     "text": [
      "类别 f 预览图 (共 10 张):\n"
     ]
    },
    {
     "data": {
      "text/plain": [
       "<PIL.Image.Image image mode=L size=280x28>"
      ],
      "image/png": "[encoded data removed]",
      "image/jpeg": "[encoded data removed]"
     },
     "metadata": {},
     "output_type": "display_data"
    },
    {
     "name": "stdout",
     "output_type": "stream",
     "text": [
      "类别 g 预览图 (共 10 张):\n"
     ]
    },
    {
     "data": {
      "text/plain": [
       "<PIL.Image.Image image mode=L size=280x28>"
      ],
      "image/png": "[encoded data removed]",
      "image/jpeg": "[encoded data removed]"
     },
     "metadata": {},
     "output_type": "display_data"
    },
    {
     "name": "stdout",
     "output_type": "stream",
     "text": [
      "类别 h 预览图 (共 10 张):\n"
     ]
    },
    {
     "data": {
      "text/plain": [
       "<PIL.Image.Image image mode=L size=280x28>"
      ],
      "image/png": "[encoded data removed]",
      "image/jpeg": "[encoded data removed]"
     },
     "metadata": {},
     "output_type": "display_data"
    },
    {
     "name": "stdout",
     "output_type": "stream",
     "text": [
      "类别 n 预览图 (共 10 张):\n"
     ]
    },
    {
     "data": {
      "text/plain": [
       "<PIL.Image.Image image mode=L size=280x28>"
      ],
      "image/png": "[encoded data removed]",
      "image/jpeg": "[encoded data removed]"
     },
     "metadata": {},
     "output_type": "display_data"
    },
    {
     "name": "stdout",
     "output_type": "stream",
     "text": [
      "类别 q 预览图 (共 10 张):\n"
     ]
    },
    {
     "data": {
      "text/plain": [
       "<PIL.Image.Image image mode=L size=280x28>"
      ],
      "image/png": "[encoded data removed]",
      "image/jpeg": "[encoded data removed]"
     },
     "metadata": {},
     "output_type": "display_data"
    },
    {
     "name": "stdout",
     "output_type": "stream",
     "text": [
      "类别 r 预览图 (共 10 张):\n"
     ]
    },
    {
     "data": {
      "text/plain": [
       "<PIL.Image.Image image mode=L size=280x28>"
      ],
      "image/png": "[encoded data removed]",
      "image/jpeg": "[encoded data removed]"
     },
     "metadata": {},
     "output_type": "display_data"
    },
    {
     "name": "stdout",
     "output_type": "stream",
     "text": [
      "类别 t 预览图 (共 10 张):\n"
     ]
    },
    {
     "data": {
      "text/plain": [
       "<PIL.Image.Image image mode=L size=280x28>"
      ],
      "image/png": "[encoded data removed]",
      "image/jpeg": "[encoded data removed]"
     },
     "metadata": {},
     "output_type": "display_data"
    },
    {
     "name": "stdout",
     "output_type": "stream",
     "text": [
      "预览完毕。\n"
     ]
    }
   ],
   "execution_count": 3
  },
  {
   "metadata": {},
   "cell_type": "markdown",
   "source": "### 转白底黑字",
   "id": "1ca621ce1b2dfc11"
  },
  {
   "metadata": {
    "ExecuteTime": {
     "end_time": "2025-04-22T11:21:49.814123Z",
     "start_time": "2025-04-22T11:21:49.810072Z"
    }
   },
   "cell_type": "code",
   "source": [
    "# import os  \n",
    "# from PIL import Image  \n",
    "# import numpy as np  \n",
    "# \n",
    "# def invert_image_colors_inplace(image_path):  \n",
    "#     \"\"\"原地反转图片颜色：黑底白字 <-> 白底黑字\"\"\"  \n",
    "#     image = Image.open(image_path).convert(\"RGB\")  \n",
    "#     img_array = np.array(image)  \n",
    "#     inverted_array = 255 - img_array  \n",
    "#     inverted_image = Image.fromarray(inverted_array)  \n",
    "#     inverted_image.save(image_path)  \n",
    "#     print(f\"Inverted and overwritten: {image_path}\")  \n",
    "# \n",
    "# def process_folder_recursive_inplace(root_folder):  \n",
    "#     for root, dirs, files in os.walk(root_folder):  \n",
    "#         for file in files:  \n",
    "#             if not file.lower().endswith(('.png', '.jpg', '.jpeg')):  \n",
    "#                 continue  \n",
    "# \n",
    "#             file_name_without_ext = os.path.splitext(file)[0]  \n",
    "# \n",
    "#             # 判断图片名是否为纯数字，是则反转颜色  \n",
    "#             if file_name_without_ext.isdigit():  \n",
    "#                 img_path = os.path.join(root, file)  \n",
    "#                 invert_image_colors_inplace(img_path)  \n",
    "# \n",
    "#             # 如果图片名以 \"img\" 开头 (忽略大小写)，则跳过处理，保持原样  \n",
    "#             elif file_name_without_ext.lower().startswith(\"img\"):  \n",
    "#                 # 不做处理，跳过  \n",
    "#                 print(f\"Skipped (img prefix): {os.path.join(root, file)}\")  \n",
    "#                 continue  \n",
    "# \n",
    "#             else:  \n",
    "#                 # 其他图片，根据需求这里先跳过，或者也可以反转  \n",
    "#                 print(f\"Skipped (other): {os.path.join(root, file)}\")  \n",
    "#                 continue  \n",
    "# \n",
    "# if __name__ == \"__main__\":  \n",
    "#     img_root_folder = r\"emnist_png_balanced\"  \n",
    "#     process_folder_recursive_inplace(img_root_folder)  "
   ],
   "id": "ca1ad98b2d8fa444",
   "outputs": [],
   "execution_count": 4
  },
  {
   "metadata": {},
   "cell_type": "markdown",
   "source": "### 划分训练集和测试集",
   "id": "6ac9ca6bdd0ca41d"
  },
  {
   "metadata": {
    "ExecuteTime": {
     "end_time": "2025-04-22T11:21:51.024470Z",
     "start_time": "2025-04-22T11:21:49.928997Z"
    }
   },
   "cell_type": "code",
   "source": [
    "import torch\n",
    "import torch.nn as nn\n",
    "from torchvision.datasets import ImageFolder\n",
    "import torchvision.models as models\n",
    "from torchvision import utils\n",
    "import torchvision.transforms as T\n",
    "import torch.utils.data as Data\n",
    "from PIL import Image\n",
    "import numpy as np\n",
    "import torch.optim as optim\n",
    "import os\n",
    "import sys\n",
    "from datetime import datetime\n",
    "import matplotlib.pyplot as plt\n",
    "from collections import Counter\n",
    "from torch.utils.data import Subset\n",
    "from torch.optim.lr_scheduler import ReduceLROnPlateau\n",
    "#使用tensorboardX进行可视化\n",
    "from tensorboardX import SummaryWriter\n",
    "from torchvision import datasets\n",
    "from torch.utils.data import random_split, DataLoader\n",
    "#数据增强\n",
    "from albumentations.pytorch import ToTensorV2\n",
    "from torchvision.transforms.autoaugment import AutoAugmentPolicy #自动数据增强库\n",
    "import albumentations as A\n",
    "#参数定义\n",
    "EPOCH = 500\n",
    "BATCH_SIZE = 128\n",
    "LR = 1e-4\n",
    "ROOT_DIR = \"emnist_png_letters\"\n",
    "LOG_DIR = f\"runs/handwriting_{datetime.now().strftime('%Y%m%d_%H%M%S')}\"\n"
   ],
   "id": "1a278fac41338fbe",
   "outputs": [],
   "execution_count": 5
  },
  {
   "metadata": {
    "ExecuteTime": {
     "end_time": "2025-04-22T11:21:51.075578Z",
     "start_time": "2025-04-22T11:21:51.066745Z"
    }
   },
   "cell_type": "code",
   "source": [
    "# 数据增强模块\n",
    "# transform = T.Compose([\n",
    "#     T.Resize((28, 28)), # 统一尺寸为28x28\n",
    "#     T.Grayscale(num_output_channels=1), # 灰度处理\n",
    "#     T.RandomRotation(15),  # 数据增强：随机旋转\n",
    "#     T.RandomAffine(degrees=0, translate=(0.1, 0.1)),  # 位移\n",
    "#     T.ToTensor(), # 转换为Tensor\n",
    "#     # 如果需要标准化，可以取消注释以下行\n",
    "#     T.Normalize([0.5], [0.5])\n",
    "# ])\n",
    "\n",
    "# 存在图片过度偏移问题。\n",
    "# class DataAutoAugment:\n",
    "#     def __init__(self):\n",
    "#         self.transform = T.Compose([\n",
    "#             T.Resize((28, 28)),\n",
    "#             T.Grayscale(num_output_channels=1),\n",
    "#             T.AutoAugment(policy=AutoAugmentPolicy.SVHN),\n",
    "#             T.ToTensor(),\n",
    "#             T.Normalize(mean=(0.5,), std=(0.5,))\n",
    "#         ])\n",
    "#\n",
    "#     def __call__(self, img):\n",
    "#         return self.transform(img)\n",
    "\n",
    "class AlbumentationsTransform:\n",
    "    def __init__(self):\n",
    "        self.transform=A.Compose([\n",
    "            A.Resize(28, 28),\n",
    "            A.Rotate(limit=15, p=0.5),\n",
    "            A.Affine(translate_percent=(0.1,0.1),p=0.5),\n",
    "            A.RandomBrightnessContrast(p=0.3),\n",
    "            A.Normalize(mean=(0.5,),std=(0.5,)),\n",
    "            ToTensorV2()\n",
    "        ])\n",
    "    def __call__(self, img):\n",
    "        img=np.array(img.convert('L'))\n",
    "        return self.transform(image=img)['image']\n",
    "\n",
    "class AlbumentationsTransformBase:  \n",
    "    def __init__(self):  \n",
    "        self.transform = A.Compose([  \n",
    "            A.Resize(28, 28),  \n",
    "            A.Normalize(mean=(0.5,), std=(0.5,)),  \n",
    "            ToTensorV2()  \n",
    "        ])  \n",
    "    def __call__(self, img):  \n",
    "        img = np.array(img.convert('L'))  \n",
    "        return self.transform(image=img)['image']  \n"
   ],
   "id": "c72c13de81a45370",
   "outputs": [],
   "execution_count": 6
  },
  {
   "metadata": {
    "ExecuteTime": {
     "end_time": "2025-04-22T11:21:51.114474Z",
     "start_time": "2025-04-22T11:21:51.094070Z"
    }
   },
   "cell_type": "code",
   "source": [
    "\n",
    "def split_dataset(root_dir, transform, train_ratio=0.7, val_ratio=0.15, test_ratio=0.15, batch_size=128, shuffle=True, random_seed=42): \n",
    "    \n",
    "    \"\"\"\n",
    "    划分数据集为训练集、验证集和测试集，并返回对应的DataLoader。\n",
    "\n",
    "    参数:\n",
    "    - root_dir: 数据集根目录\n",
    "    - transform: 数据预处理变换\n",
    "    - train_ratio: 训练集比例\n",
    "    - val_ratio: 验证集比例\n",
    "    - test_ratio: 测试集比例\n",
    "    - batch_size: 批次大小\n",
    "    - shuffle: 是否打乱数据\n",
    "    - random_seed: 随机种子，用于保证结果可重复\n",
    "\n",
    "    返回:\n",
    "    - train_loader: 训练集DataLoader\n",
    "    - val_loader: 验证集DataLoader\n",
    "    - test_loader: 测试集DataLoader\n",
    "    - full_dataset: 原始的ImageFolder数据集\n",
    "    \"\"\"\n",
    "    # 确保比例之和为1\n",
    "    assert train_ratio + val_ratio + test_ratio == 1, \"比例之和必须为1\"  \n",
    "\n",
    "    full_dataset = datasets.ImageFolder(root=root_dir, transform=transform)  \n",
    "    targets = full_dataset.targets  \n",
    "    \n",
    "    class_indices = {}  \n",
    "    for idx, label in enumerate(targets):  \n",
    "        class_indices.setdefault(label, []).append(idx)  \n",
    "    \n",
    "    train_indices = []  \n",
    "    val_indices = []  \n",
    "    test_indices = []  \n",
    "    \n",
    "    generator = torch.Generator().manual_seed(random_seed)  \n",
    "    \n",
    "    for label, indices in class_indices.items():  \n",
    "        indices = torch.tensor(indices)  \n",
    "        indices = indices[torch.randperm(len(indices), generator=generator)]  \n",
    "        \n",
    "        n_total = len(indices)  \n",
    "        n_train = int(train_ratio * n_total)  \n",
    "        n_val = int(val_ratio * n_total)  \n",
    "        n_test = n_total - n_train - n_val  \n",
    "        \n",
    "        train_indices.extend(indices[:n_train].tolist())  \n",
    "        val_indices.extend(indices[n_train:n_train+n_val].tolist())  \n",
    "        test_indices.extend(indices[n_train+n_val:].tolist())  \n",
    "    \n",
    "    train_subset = Subset(full_dataset, train_indices)  \n",
    "    val_subset = Subset(full_dataset, val_indices)  \n",
    "    test_subset = Subset(full_dataset, test_indices)  \n",
    "    \n",
    "    train_loader = DataLoader(train_subset, batch_size=batch_size, shuffle=shuffle)  \n",
    "    val_loader = DataLoader(val_subset, batch_size=batch_size, shuffle=False)  \n",
    "    test_loader = DataLoader(test_subset, batch_size=batch_size, shuffle=False)  \n",
    "\n",
    "    # 统计每个类别数量的函数  \n",
    "    def count_classes(indices, targets):  \n",
    "        label_counts = Counter()  \n",
    "        for idx in indices:  \n",
    "            label_counts[targets[idx]] += 1  \n",
    "        return label_counts  \n",
    "\n",
    "    # 打印每个类别样本数  \n",
    "    train_counts = count_classes(train_indices, targets)  \n",
    "    val_counts = count_classes(val_indices, targets)  \n",
    "    test_counts = count_classes(test_indices, targets)  \n",
    "    \n",
    "    classes = full_dataset.classes  # 类别名称列表  \n",
    "    \n",
    "    print(\"训练集每个类别样本数：\")  \n",
    "    for label_idx, count in sorted(train_counts.items()):  \n",
    "        print(f\"类别 {classes[label_idx]}: {count}\")  \n",
    "        \n",
    "    print(\"\\n验证集每个类别样本数：\")  \n",
    "    for label_idx, count in sorted(val_counts.items()):  \n",
    "        print(f\"类别 {classes[label_idx]}: {count}\")  \n",
    "        \n",
    "    print(\"\\n测试集每个类别样本数：\")  \n",
    "    for label_idx, count in sorted(test_counts.items()):  \n",
    "        print(f\"类别 {classes[label_idx]}: {count}\")  \n",
    "\n",
    "    return train_loader, val_loader, test_loader, full_dataset \n"
   ],
   "id": "fb3068bc2954cafc",
   "outputs": [],
   "execution_count": 7
  },
  {
   "metadata": {
    "ExecuteTime": {
     "end_time": "2025-04-22T11:21:51.126409Z",
     "start_time": "2025-04-22T11:21:51.118480Z"
    }
   },
   "cell_type": "code",
   "source": [
    "# # 使用函数划分数据集\n",
    "# train_loader, val_loader, test_loader, full_dataset = split_dataset(\n",
    "#     root_dir=ROOT_DIR,\n",
    "#     transform=transform,\n",
    "#     train_ratio=0.7,\n",
    "#     val_ratio=0.15,\n",
    "#     test_ratio=0.15,\n",
    "#     batch_size=BATCH_SIZE,\n",
    "#     shuffle=True,\n",
    "#     random_seed=42\n",
    "# )\n",
    "# \n",
    "# # 打印数据集大小\n",
    "# print(f\"训练集大小: {len(train_loader.dataset)}\")\n",
    "# print(f\"验证集大小: {len(val_loader.dataset)}\")\n",
    "# print(f\"测试集大小: {len(test_loader.dataset)}\")\n",
    "# \n",
    "# # 获取类别数量\n",
    "# label_num = len(full_dataset.class_to_idx)\n",
    "# \n",
    "# # 数据可视化\n",
    "# to_img = T.ToPILImage()\n",
    "# a = to_img(train_loader.dataset[0][0])  # size=[1, 32, 32]\n",
    "# plt.imshow(a)\n",
    "# plt.axis('off')\n",
    "# plt.show()\n",
    "# \n",
    "# \n",
    "# # 定义CNN模型\n",
    "# class CNN(nn.Module):\n",
    "#     def __init__(self):\n",
    "#         super(CNN, self).__init__()\n",
    "#         self.Conv1 = nn.Sequential(\n",
    "#             nn.Conv2d(in_channels=1, out_channels=16, kernel_size=5, stride=1, padding=2),\n",
    "#             nn.ReLU(),\n",
    "#             nn.MaxPool2d(kernel_size=2)\n",
    "#         )\n",
    "#         self.Conv2 = nn.Sequential(\n",
    "#             nn.Conv2d(16, 32, 5, 1, 2),\n",
    "#             nn.Dropout(p=0.2),\n",
    "#             nn.ReLU(),\n",
    "#             nn.MaxPool2d(kernel_size=2)\n",
    "#         )\n",
    "#         self.Linear = nn.Sequential(\n",
    "#             nn.Linear(32*7*7, 400),\n",
    "#             nn.Dropout(p=0.2),\n",
    "#             nn.ReLU(),\n",
    "#             nn.Linear(400, 80),\n",
    "#             nn.ReLU(),\n",
    "#             nn.Linear(80, label_num),\n",
    "#         )\n",
    "# \n",
    "#     def forward(self, input):\n",
    "#         input = self.Conv1(input)\n",
    "#         input = self.Conv2(input)\n",
    "#         input = input.view(input.size(0), -1)\n",
    "#         output = self.Linear(input)\n",
    "#         return output\n",
    "# \n",
    "# cnn = CNN()\n",
    "# print(cnn)\n",
    "# \n",
    "# # 定义优化器\n",
    "# optimizer = torch.optim.Adam(cnn.parameters(), lr=LR)\n",
    "# # 定义损失函数\n",
    "# loss_func = nn.CrossEntropyLoss()"
   ],
   "id": "cff7dbd4f936a55a",
   "outputs": [],
   "execution_count": 8
  },
  {
   "metadata": {
    "ExecuteTime": {
     "end_time": "2025-04-22T11:21:51.142782Z",
     "start_time": "2025-04-22T11:21:51.132579Z"
    }
   },
   "cell_type": "code",
   "source": [
    "# 轻量CNN结构？\n",
    "class SimpleAttention(nn.Module):\n",
    "    def __init__(self, channel, reduction=16):\n",
    "        super().__init__()\n",
    "        # Squeeze操作：全局平均池化\n",
    "        self.avg_pool = nn.AdaptiveAvgPool2d(1)\n",
    "        # Excitation操作：两个全连接层\n",
    "        self.fc = nn.Sequential(\n",
    "            nn.Linear(channel, channel // reduction, bias=False),\n",
    "            nn.ReLU(inplace=True),\n",
    "            nn.Linear(channel // reduction, channel, bias=False),\n",
    "            nn.Sigmoid()\n",
    "        )\n",
    "\n",
    "    def forward(self, x):\n",
    "        b, c, _, _ = x.size()  # 输入形状 [B, C, H, W]\n",
    "        # Squeeze\n",
    "        y = self.avg_pool(x).view(b, c)  # [B, C]\n",
    "        # Excitation\n",
    "        y = self.fc(y).view(b, c, 1, 1)  # [B, C, 1, 1]\n",
    "        # Reweight\n",
    "        return x * y.expand_as(x)  # 广播乘法 [B, C, H, W]\n"
   ],
   "id": "287eaa29eb899451",
   "outputs": [],
   "execution_count": 9
  },
  {
   "metadata": {
    "ExecuteTime": {
     "end_time": "2025-04-22T11:21:51.158717Z",
     "start_time": "2025-04-22T11:21:51.151727Z"
    }
   },
   "cell_type": "code",
   "source": [
    "# 自注意力模块\n",
    "class SelfAttention2D(nn.Module):\n",
    "    def __init__(self, in_channels):\n",
    "        super().__init__()\n",
    "        self.query = nn.Conv2d(in_channels, in_channels // 8, kernel_size=1)\n",
    "        self.key   = nn.Conv2d(in_channels, in_channels // 8, kernel_size=1)\n",
    "        self.value = nn.Conv2d(in_channels, in_channels, kernel_size=1)\n",
    "        self.gamma = nn.Parameter(torch.zeros(1))  # 可学习的缩放系数\n",
    "\n",
    "    def forward(self, x):\n",
    "        B, C, H, W = x.shape\n",
    "        proj_q = self.query(x).view(B, -1, H * W)          # B x C1 x N\n",
    "        proj_k = self.key(x).view(B, -1, H * W)            # B x C1 x N\n",
    "        proj_v = self.value(x).view(B, -1, H * W)          # B x C  x N\n",
    "\n",
    "        attention = torch.bmm(proj_q.permute(0, 2, 1), proj_k)  # B x N x N\n",
    "        attention = torch.softmax(attention, dim=-1)\n",
    "\n",
    "        out = torch.bmm(proj_v, attention.permute(0, 2, 1))     # B x C x N\n",
    "        out = out.view(B, C, H, W)\n",
    "\n",
    "        return self.gamma * out + x\n",
    "\n",
    "# class CBAM(nn.Module):\n",
    "#     def __init__(self, channels, reduction=16, kernel_size=7):\n",
    "#         super().__init__()\n",
    "#         # 通道注意力\n",
    "#         self.channel_att = nn.Sequential(\n",
    "#             nn.AdaptiveAvgPool2d(1),\n",
    "#             nn.Conv2d(channels, channels // reduction, 1, bias=False),\n",
    "#             nn.ReLU(),\n",
    "#             nn.Conv2d(channels // reduction, channels, 1, bias=False),\n",
    "#             nn.Sigmoid()\n",
    "#         )\n",
    "#         # 空间注意力\n",
    "#         self.spatial_att = nn.Sequential(\n",
    "#             nn.Conv2d(2, 1, kernel_size, padding=kernel_size // 2, bias=False),\n",
    "#             nn.Sigmoid()\n",
    "#         )\n",
    "#\n",
    "#     def forward(self, x):\n",
    "#         # 通道注意力\n",
    "#         ca = self.channel_att(x)\n",
    "#         x = x * ca\n",
    "#\n",
    "#         # 空间注意力\n",
    "#         max_pool = torch.max(x, dim=1, keepdim=True)[0]\n",
    "#         avg_pool = torch.mean(x, dim=1, keepdim=True)\n",
    "#         sa_input = torch.cat([avg_pool, max_pool], dim=1)\n",
    "#         sa = self.spatial_att(sa_input)\n",
    "#         x = x * sa\n",
    "#\n",
    "#         return x\n"
   ],
   "id": "310a7b01d4a3ea14",
   "outputs": [],
   "execution_count": 10
  },
  {
   "metadata": {
    "ExecuteTime": {
     "end_time": "2025-04-22T11:21:51.173314Z",
     "start_time": "2025-04-22T11:21:51.166295Z"
    }
   },
   "cell_type": "code",
   "source": [
    "# 添加残差模块\n",
    "class ResidualBlock(nn.Module):\n",
    "    def __init__(self, in_channels, out_channels, use_attention=False):\n",
    "        super().__init__()\n",
    "        self.conv = nn.Sequential(\n",
    "            nn.Conv2d(in_channels, in_channels//2, 3, padding=1),\n",
    "            nn.BatchNorm2d(in_channels//2),\n",
    "            nn.ReLU(),\n",
    "            nn.Conv2d(in_channels//2, in_channels//2, 3, padding=1),\n",
    "            nn.BatchNorm2d(in_channels//2),\n",
    "            nn.ReLU(),\n",
    "            nn.Conv2d(in_channels//2, out_channels, 3, padding=1),\n",
    "            nn.BatchNorm2d(out_channels)\n",
    "        )\n",
    "        #调用注意力机制\n",
    "        self.attn = SimpleAttention(out_channels) if use_attention else nn.Identity()\n",
    "        # self.attn = CBAM(out_channels) if use_attention else nn.Identity()\n",
    "\n",
    "        self.shortcut = nn.Sequential()\n",
    "        if in_channels != out_channels:\n",
    "            self.shortcut = nn.Sequential(\n",
    "                nn.Conv2d(in_channels, out_channels, kernel_size=1),\n",
    "                nn.BatchNorm2d(out_channels)\n",
    "            )\n",
    "\n",
    "        self.relu = nn.ReLU()\n",
    "\n",
    "    def forward(self, x):\n",
    "        res = self.shortcut(x)\n",
    "        out = self.conv(x)\n",
    "        out = self.attn(out)\n",
    "        return self.relu(out + res)"
   ],
   "id": "951f2656b1e161be",
   "outputs": [],
   "execution_count": 11
  },
  {
   "metadata": {
    "ExecuteTime": {
     "end_time": "2025-04-22T11:21:51.191262Z",
     "start_time": "2025-04-22T11:21:51.184305Z"
    }
   },
   "cell_type": "code",
   "source": [
    "# 加入倒残差模块\n",
    "class InvertedResidualBlock(nn.Module):\n",
    "    def __init__(self, in_channels, out_channels, expansion_ratio=6, stride=1, use_attention=False):\n",
    "        super().__init__()\n",
    "        hidden_dim = in_channels * expansion_ratio\n",
    "        self.use_res_connect = (stride == 1 and in_channels == out_channels)\n",
    "\n",
    "        self.block = nn.Sequential(\n",
    "            nn.Conv2d(in_channels, hidden_dim, kernel_size=1, bias=False),\n",
    "            nn.BatchNorm2d(hidden_dim),\n",
    "            nn.ReLU6(inplace=True),\n",
    "            nn.Conv2d(hidden_dim, hidden_dim, kernel_size=3, stride=stride, padding=1, groups=hidden_dim, bias=False),\n",
    "            nn.BatchNorm2d(hidden_dim),\n",
    "            nn.ReLU6(inplace=True),\n",
    "            nn.Conv2d(hidden_dim, out_channels, kernel_size=1, bias=False),\n",
    "            nn.BatchNorm2d(out_channels),\n",
    "        )\n",
    "        # 调用注意力模块\n",
    "        # self.attn = CBAM(out_channels) if use_attention else nn.Identity()\n",
    "        self.attn = SimpleAttention(out_channels) if use_attention else nn.Identity()\n",
    "\n",
    "    def forward(self, x):\n",
    "        out = self.block(x)\n",
    "        out = self.attn(out)\n",
    "        if self.use_res_connect:\n",
    "            return x + out\n",
    "        else:\n",
    "            return out\n"
   ],
   "id": "c2392f13ad62c4a4",
   "outputs": [],
   "execution_count": 12
  },
  {
   "metadata": {
    "ExecuteTime": {
     "end_time": "2025-04-22T11:21:51.207858Z",
     "start_time": "2025-04-22T11:21:51.202562Z"
    }
   },
   "cell_type": "code",
   "source": [
    "# # CNN与注意力模块的结合\n",
    "# class CNNWithAttention(nn.Module):\n",
    "#     def __init__(self, num_classes):\n",
    "#         super().__init__()\n",
    "#         self.stem = nn.Sequential(\n",
    "#             nn.Conv2d(1, 32, kernel_size=3, stride=1, padding=1),\n",
    "#             nn.BatchNorm2d(32),\n",
    "#             nn.ReLU(),\n",
    "#             nn.MaxPool2d(2)  # → 16x16\n",
    "#         )\n",
    "#         self.extra_conv = nn.Sequential(\n",
    "#             nn.Conv2d(32, 32, kernel_size=3, padding=1),\n",
    "#             nn.BatchNorm2d(32),\n",
    "#             nn.ReLU())\n",
    "#\n",
    "#         self.block1 = ResidualBlock(32, 64, use_attention=True)\n",
    "#         self.inverted_block = InvertedResidualBlock(64, 64, expansion_ratio=6, use_attention=True)  # 倒残差模块\n",
    "#         self.block2 = ResidualBlock(64, 128, use_attention=True)\n",
    "#         self.pool2 = nn.MaxPool2d(2)  # 14x14 → 7x7\n",
    "#         self.block3 = ResidualBlock(128, 128)\n",
    "#         self.attention = SelfAttention2D(128) # 添加自注意力模块\n",
    "#\n",
    "#         self.classifier = nn.Sequential(\n",
    "#             nn.AdaptiveAvgPool2d((1, 1)),\n",
    "#             nn.Flatten(),\n",
    "#             nn.Dropout(0.3),\n",
    "#             nn.Linear(128, 64),\n",
    "#             nn.ReLU(),\n",
    "#             nn.Dropout(0.3),\n",
    "#             nn.Linear(64, num_classes)\n",
    "#         )\n",
    "#\n",
    "#     def forward(self, x):\n",
    "#         x = self.stem(x)\n",
    "#         x = self.extra_conv(x)\n",
    "#         x = self.block1(x)\n",
    "#         x = self.inverted_block(x)  # 倒残差模块\n",
    "#         x = self.block2(x)\n",
    "#         x = self.pool2(x)\n",
    "#         x = self.block3(x)\n",
    "#         x = self.attention(x)\n",
    "#         return self.classifier(x)\n"
   ],
   "id": "cac29dabb3f73e9",
   "outputs": [],
   "execution_count": 13
  },
  {
   "metadata": {},
   "cell_type": "markdown",
   "source": "### 最终模型结构",
   "id": "23f0a4713d040b36"
  },
  {
   "metadata": {
    "ExecuteTime": {
     "end_time": "2025-04-22T11:21:51.224279Z",
     "start_time": "2025-04-22T11:21:51.216096Z"
    }
   },
   "cell_type": "code",
   "source": [
    "class CNNWithAttention(nn.Module):\n",
    "    def __init__(self, num_classes, use_attention=True):\n",
    "        super().__init__()\n",
    "        self.conv1 = nn.Sequential(\n",
    "            nn.Conv2d(in_channels=1, out_channels=32, kernel_size=5, stride=1, padding=2),\n",
    "            nn.BatchNorm2d(32),\n",
    "            nn.LeakyReLU(),\n",
    "            nn.MaxPool2d(2)\n",
    "        )\n",
    "        self.conv2 = nn.Sequential(\n",
    "            nn.Conv2d(32,64,kernel_size=5, stride=1, padding=2),\n",
    "            nn.BatchNorm2d(64),\n",
    "            nn.LeakyReLU(),\n",
    "            nn.MaxPool2d(2)\n",
    "        )\n",
    "\n",
    "         # 插入残差和倒残差模块\n",
    "        if use_attention:\n",
    "            self.residual = ResidualBlock(64, 64, use_attention=True)\n",
    "            self.inverted_residual = InvertedResidualBlock(64, 64, expansion_ratio=6, use_attention=True) \n",
    "            self.attention=SelfAttention2D(64)\n",
    "        else:\n",
    "            self.residual = ResidualBlock(64, 64, use_attention=False)\n",
    "            self.inverted_residual = InvertedResidualBlock(64, 64, expansion_ratio=6, use_attention=False)\n",
    "            self.attention=nn.Identity()\n",
    "            \n",
    "        self.fcon1=nn.Sequential(\n",
    "            nn.AdaptiveAvgPool2d(1),  # 输出形状 [B, 64, 1, 1]\n",
    "            nn.Flatten(),             # 展平为 [B, 64]\n",
    "            nn.Dropout(0.4),\n",
    "            nn.Linear(64, 148),       # 输入维度64\n",
    "            nn.LeakyReLU(),\n",
    "        )\n",
    "        self.fcon2=nn.Linear(148, num_classes)\n",
    "        \n",
    "\n",
    "    def forward(self, x):\n",
    "        x = self.conv1(x)\n",
    "        x = self.conv2(x)\n",
    "        x = self.residual(x)\n",
    "        # x = self.inverted_residual(x)\n",
    "        x = self.attention(x)\n",
    "        x = self.fcon1(x)\n",
    "        x = self.fcon2(x)\n",
    "        return x\n",
    "    "
   ],
   "id": "7b8da815fcf690e3",
   "outputs": [],
   "execution_count": 14
  },
  {
   "metadata": {
    "ExecuteTime": {
     "end_time": "2025-04-22T11:21:51.241256Z",
     "start_time": "2025-04-22T11:21:51.231548Z"
    }
   },
   "cell_type": "code",
   "source": [
    "# 训练与验证函数\n",
    "def train_and_validate(model, train_loader, val_loader, epochs, device='cpu',\n",
    "                       save_path='cnn_attention_best.pth', save_best_only=True, patience=15, auto_lr = False):\n",
    "    model = model.to(device)\n",
    "    optimizer = optim.Adam(model.parameters(), lr=LR)\n",
    "    loss_func = nn.CrossEntropyLoss()\n",
    "    writer = SummaryWriter(log_dir=LOG_DIR)\n",
    "\n",
    "    best_val_top1_acc = 0.0  # 用于追踪验证集 Top-1 准确率的最佳值\n",
    "    no_improve_count = 0\n",
    "\n",
    "    scheduler = ReduceLROnPlateau(optimizer, mode='max', factor=0.5, patience=3)\n",
    "\n",
    "    for epoch in range(epochs):\n",
    "        model.train()\n",
    "        total_loss = 0.0\n",
    "        top1_correct = 0\n",
    "        top3_correct = 0\n",
    "        total = 0\n",
    "\n",
    "        # --- 训练阶段 ---\n",
    "        for batch_x, batch_y in train_loader:\n",
    "            batch_x, batch_y = batch_x.to(device), batch_y.to(device)\n",
    "\n",
    "            outputs = model(batch_x)\n",
    "            loss = loss_func(outputs, batch_y)\n",
    "\n",
    "            optimizer.zero_grad()\n",
    "            loss.backward()\n",
    "            optimizer.step()\n",
    "\n",
    "            total_loss += loss.item() * batch_x.size(0)\n",
    "\n",
    "            # Top-1\n",
    "            _, top1_pred = torch.max(outputs, 1)\n",
    "            top1_correct += (top1_pred == batch_y).sum().item()\n",
    "\n",
    "            # Top-3\n",
    "            _, top3_pred_indices = torch.topk(outputs, 3, dim=1)\n",
    "            top3_correct += torch.sum(top3_pred_indices == batch_y.view(-1, 1).expand_as(top3_pred_indices)).item()\n",
    "\n",
    "            total += batch_y.size(0)\n",
    "\n",
    "        avg_loss = total_loss / total\n",
    "        train_top1_acc = top1_correct / total\n",
    "        train_top3_acc = top3_correct / total\n",
    "\n",
    "        # --- 验证阶段 ---\n",
    "        model.eval()\n",
    "        val_top1_correct = 0\n",
    "        val_top3_correct = 0\n",
    "        val_total = 0\n",
    "        val_loss = 0.0\n",
    "\n",
    "        with torch.no_grad():\n",
    "            for val_x, val_y in val_loader:\n",
    "                val_x, val_y = val_x.to(device), val_y.to(device)\n",
    "                val_outputs = model(val_x)\n",
    "                val_loss += loss_func(val_outputs, val_y).item() * val_x.size(0)\n",
    "\n",
    "                # Top-1\n",
    "                _, val_top1_pred = torch.max(val_outputs, 1)\n",
    "                val_top1_correct += (val_top1_pred == val_y).sum().item()\n",
    "\n",
    "                # Top-3\n",
    "                _, val_top3_pred_indices = torch.topk(val_outputs, 3, dim=1)\n",
    "                val_top3_correct += torch.sum(val_top3_pred_indices == val_y.view(-1, 1).expand_as(val_top3_pred_indices)).item()\n",
    "\n",
    "                val_total += val_y.size(0)\n",
    "\n",
    "        avg_val_loss = val_loss / val_total\n",
    "        val_top1_acc = val_top1_correct / val_total\n",
    "        val_top3_acc = val_top3_correct / val_total\n",
    "\n",
    "        if auto_lr:\n",
    "            scheduler.step(val_top1_acc)\n",
    "\n",
    "        # --- TensorBoard日志记录 ---\n",
    "        writer.add_scalar(\"Loss/train\", avg_loss, epoch)\n",
    "        writer.add_scalar(\"Accuracy/train_top1\", train_top1_acc, epoch)\n",
    "        writer.add_scalar(\"Accuracy/train_top3\", train_top3_acc, epoch)\n",
    "        writer.add_scalar(\"Loss/val\", avg_val_loss, epoch)\n",
    "        writer.add_scalar(\"Accuracy/val_top1\", val_top1_acc, epoch)\n",
    "        writer.add_scalar(\"Accuracy/val_top3\", val_top3_acc, epoch)\n",
    "\n",
    "        # --- 控制台输出 ---\n",
    "        print(f\"Epoch [{epoch+1}/{epochs}] Loss: {avg_loss:.4f}, \"\n",
    "              f\"Train Top-1 Acc: {train_top1_acc:.4f}, Train Top-3 Acc: {train_top3_acc:.4f}, \"\n",
    "              f\"Val Top-1 Acc: {val_top1_acc:.4f}, Val Top-3 Acc: {val_top3_acc:.4f}\")\n",
    "\n",
    "        # --- 保存最佳模型 ---\n",
    "        if val_top1_acc > best_val_top1_acc:\n",
    "            best_val_top1_acc = val_top1_acc\n",
    "            no_improve_count = 0\n",
    "            if save_best_only:\n",
    "                torch.save(model.state_dict(), save_path)\n",
    "                print(f\"✅ 新的最佳模型已保存，Val Top-1 Acc: {val_top1_acc:.4f}\")\n",
    "        else:\n",
    "            no_improve_count += 1\n",
    "\n",
    "        # --- Early Stopping ---\n",
    "        if no_improve_count >= patience:\n",
    "            print(f\"⏳ 验证集Top-1准确率在连续 {patience} 轮未提升，训练提前终止。\")\n",
    "            break\n",
    "\n",
    "        sys.stdout.flush()\n",
    "\n",
    "    writer.close()"
   ],
   "id": "c352a14ea52bb7f4",
   "outputs": [],
   "execution_count": 15
  },
  {
   "metadata": {},
   "cell_type": "markdown",
   "source": "### 有注意力机制 有数据增强",
   "id": "f0d1fa6355ce038f"
  },
  {
   "metadata": {},
   "cell_type": "markdown",
   "source": "#### 数据展示",
   "id": "83b3c9af3e0c4f7a"
  },
  {
   "metadata": {
    "ExecuteTime": {
     "end_time": "2025-04-22T11:21:51.322779Z",
     "start_time": "2025-04-22T11:21:51.248859Z"
    }
   },
   "cell_type": "code",
   "source": [
    "transform = AlbumentationsTransform()  # 使用数据增强\n",
    "\n",
    "train_loader, val_loader, test_loader, full_dataset = split_dataset(\n",
    "    root_dir=ROOT_DIR,\n",
    "    transform=transform,\n",
    "    train_ratio=0.7,\n",
    "    val_ratio=0.15,\n",
    "    test_ratio=0.15,\n",
    "    batch_size=BATCH_SIZE,\n",
    "    shuffle=True,\n",
    "    random_seed=42\n",
    ")\n",
    "\n",
    "# 打印数据集大小\n",
    "print(f\"训练集大小: {len(train_loader.dataset)}\")\n",
    "print(f\"验证集大小: {len(val_loader.dataset)}\")\n",
    "print(f\"测试集大小: {len(test_loader.dataset)}\")\n",
    "\n",
    "# 获取类别数量\n",
    "label_num = len(full_dataset.class_to_idx)\n",
    "\n",
    "# 数据可视化\n",
    "to_img = T.ToPILImage()\n",
    "a = to_img(train_loader.dataset[0][0])  # size=[1, 32, 32]\n",
    "plt.imshow(a)\n",
    "plt.axis('off')\n",
    "plt.show()"
   ],
   "id": "da602cf877897bdc",
   "outputs": [
    {
     "name": "stdout",
     "output_type": "stream",
     "text": [
      "训练集每个类别样本数：\n",
      "类别 A: 208\n",
      "类别 B: 233\n",
      "类别 C: 225\n",
      "类别 D: 205\n",
      "类别 E: 219\n",
      "类别 F: 239\n",
      "类别 G: 210\n",
      "类别 H: 207\n",
      "类别 I: 219\n",
      "类别 J: 219\n",
      "类别 K: 229\n",
      "类别 L: 216\n",
      "类别 M: 214\n",
      "类别 N: 244\n",
      "类别 O: 225\n",
      "类别 P: 212\n",
      "类别 Q: 205\n",
      "类别 R: 217\n",
      "类别 S: 224\n",
      "类别 T: 217\n",
      "类别 U: 234\n",
      "类别 V: 226\n",
      "类别 W: 231\n",
      "类别 X: 228\n",
      "类别 Y: 217\n",
      "类别 Z: 217\n",
      "类别 a_: 224\n",
      "类别 b_: 235\n",
      "类别 d_: 224\n",
      "类别 e_: 210\n",
      "类别 f_: 221\n",
      "类别 g_: 213\n",
      "类别 h_: 207\n",
      "类别 n_: 221\n",
      "类别 q_: 192\n",
      "类别 r_: 223\n",
      "类别 t_: 207\n",
      "\n",
      "验证集每个类别样本数：\n",
      "类别 A: 44\n",
      "类别 B: 50\n",
      "类别 C: 48\n",
      "类别 D: 44\n",
      "类别 E: 47\n",
      "类别 F: 51\n",
      "类别 G: 45\n",
      "类别 H: 44\n",
      "类别 I: 46\n",
      "类别 J: 47\n",
      "类别 K: 49\n",
      "类别 L: 46\n",
      "类别 M: 46\n",
      "类别 N: 52\n",
      "类别 O: 48\n",
      "类别 P: 45\n",
      "类别 Q: 44\n",
      "类别 R: 46\n",
      "类别 S: 48\n",
      "类别 T: 46\n",
      "类别 U: 50\n",
      "类别 V: 48\n",
      "类别 W: 49\n",
      "类别 X: 48\n",
      "类别 Y: 46\n",
      "类别 Z: 46\n",
      "类别 a_: 48\n",
      "类别 b_: 50\n",
      "类别 d_: 48\n",
      "类别 e_: 45\n",
      "类别 f_: 47\n",
      "类别 g_: 45\n",
      "类别 h_: 44\n",
      "类别 n_: 47\n",
      "类别 q_: 41\n",
      "类别 r_: 47\n",
      "类别 t_: 44\n",
      "\n",
      "测试集每个类别样本数：\n",
      "类别 A: 46\n",
      "类别 B: 51\n",
      "类别 C: 49\n",
      "类别 D: 45\n",
      "类别 E: 48\n",
      "类别 F: 52\n",
      "类别 G: 45\n",
      "类别 H: 46\n",
      "类别 I: 48\n",
      "类别 J: 48\n",
      "类别 K: 50\n",
      "类别 L: 47\n",
      "类别 M: 47\n",
      "类别 N: 53\n",
      "类别 O: 49\n",
      "类别 P: 46\n",
      "类别 Q: 45\n",
      "类别 R: 47\n",
      "类别 S: 49\n",
      "类别 T: 48\n",
      "类别 U: 51\n",
      "类别 V: 49\n",
      "类别 W: 51\n",
      "类别 X: 50\n",
      "类别 Y: 48\n",
      "类别 Z: 48\n",
      "类别 a_: 49\n",
      "类别 b_: 51\n",
      "类别 d_: 49\n",
      "类别 e_: 45\n",
      "类别 f_: 49\n",
      "类别 g_: 47\n",
      "类别 h_: 46\n",
      "类别 n_: 49\n",
      "类别 q_: 42\n",
      "类别 r_: 49\n",
      "类别 t_: 45\n",
      "训练集大小: 8117\n",
      "验证集大小: 1729\n",
      "测试集大小: 1777\n"
     ]
    },
    {
     "data": {
      "text/plain": [
       "<Figure size 640x480 with 1 Axes>"
      ],
      "image/png": "[encoded data removed]"
     },
     "metadata": {},
     "output_type": "display_data"
    }
   ],
   "execution_count": 16
  },
  {
   "metadata": {
    "ExecuteTime": {
     "end_time": "2025-04-22T11:27:14.396578Z",
     "start_time": "2025-04-22T11:21:51.330260Z"
    }
   },
   "cell_type": "code",
   "source": [
    "device = torch.device(\"cuda\" if torch.cuda.is_available() else \"cpu\")\n",
    "print(f\"当前使用设备: {device}\")\n",
    "\n",
    "label_num = len(full_dataset.class_to_idx)\n",
    "model = CNNWithAttention(label_num, use_attention=True) # 调用模型\n",
    "print(model)\n",
    "\n",
    "train_and_validate(\n",
    "    model=model,\n",
    "    train_loader=train_loader,\n",
    "    val_loader=val_loader,\n",
    "    epochs=EPOCH,\n",
    "    device=device,\n",
    "    save_path=\"cnn_res_attention_aug_best.pth\",\n",
    ")\n",
    "\n",
    "print(\"训练结束。\")\n"
   ],
   "id": "12266f27e9b02bac",
   "outputs": [
    {
     "name": "stdout",
     "output_type": "stream",
     "text": [
      "当前使用设备: cpu\n",
      "CNNWithAttention(\n",
      "  (conv1): Sequential(\n",
      "    (0): Conv2d(1, 32, kernel_size=(5, 5), stride=(1, 1), padding=(2, 2))\n",
      "    (1): BatchNorm2d(32, eps=1e-05, momentum=0.1, affine=True, track_running_stats=True)\n",
      "    (2): LeakyReLU(negative_slope=0.01)\n",
      "    (3): MaxPool2d(kernel_size=2, stride=2, padding=0, dilation=1, ceil_mode=False)\n",
      "  )\n",
      "  (conv2): Sequential(\n",
      "    (0): Conv2d(32, 64, kernel_size=(5, 5), stride=(1, 1), padding=(2, 2))\n",
      "    (1): BatchNorm2d(64, eps=1e-05, momentum=0.1, affine=True, track_running_stats=True)\n",
      "    (2): LeakyReLU(negative_slope=0.01)\n",
      "    (3): MaxPool2d(kernel_size=2, stride=2, padding=0, dilation=1, ceil_mode=False)\n",
      "  )\n",
      "  (residual): ResidualBlock(\n",
      "    (conv): Sequential(\n",
      "      (0): Conv2d(64, 32, kernel_size=(3, 3), stride=(1, 1), padding=(1, 1))\n",
      "      (1): BatchNorm2d(32, eps=1e-05, momentum=0.1, affine=True, track_running_stats=True)\n",
      "      (2): ReLU()\n",
      "      (3): Conv2d(32, 32, kernel_size=(3, 3), stride=(1, 1), padding=(1, 1))\n",
      "      (4): BatchNorm2d(32, eps=1e-05, momentum=0.1, affine=True, track_running_stats=True)\n",
      "      (5): ReLU()\n",
      "      (6): Conv2d(32, 64, kernel_size=(3, 3), stride=(1, 1), padding=(1, 1))\n",
      "      (7): BatchNorm2d(64, eps=1e-05, momentum=0.1, affine=True, track_running_stats=True)\n",
      "    )\n",
      "    (attn): SimpleAttention(\n",
      "      (avg_pool): AdaptiveAvgPool2d(output_size=1)\n",
      "      (fc): Sequential(\n",
      "        (0): Linear(in_features=64, out_features=4, bias=False)\n",
      "        (1): ReLU(inplace=True)\n",
      "        (2): Linear(in_features=4, out_features=64, bias=False)\n",
      "        (3): Sigmoid()\n",
      "      )\n",
      "    )\n",
      "    (shortcut): Sequential()\n",
      "    (relu): ReLU()\n",
      "  )\n",
      "  (inverted_residual): InvertedResidualBlock(\n",
      "    (block): Sequential(\n",
      "      (0): Conv2d(64, 384, kernel_size=(1, 1), stride=(1, 1), bias=False)\n",
      "      (1): BatchNorm2d(384, eps=1e-05, momentum=0.1, affine=True, track_running_stats=True)\n",
      "      (2): ReLU6(inplace=True)\n",
      "      (3): Conv2d(384, 384, kernel_size=(3, 3), stride=(1, 1), padding=(1, 1), groups=384, bias=False)\n",
      "      (4): BatchNorm2d(384, eps=1e-05, momentum=0.1, affine=True, track_running_stats=True)\n",
      "      (5): ReLU6(inplace=True)\n",
      "      (6): Conv2d(384, 64, kernel_size=(1, 1), stride=(1, 1), bias=False)\n",
      "      (7): BatchNorm2d(64, eps=1e-05, momentum=0.1, affine=True, track_running_stats=True)\n",
      "    )\n",
      "    (attn): SimpleAttention(\n",
      "      (avg_pool): AdaptiveAvgPool2d(output_size=1)\n",
      "      (fc): Sequential(\n",
      "        (0): Linear(in_features=64, out_features=4, bias=False)\n",
      "        (1): ReLU(inplace=True)\n",
      "        (2): Linear(in_features=4, out_features=64, bias=False)\n",
      "        (3): Sigmoid()\n",
      "      )\n",
      "    )\n",
      "  )\n",
      "  (attention): SelfAttention2D(\n",
      "    (query): Conv2d(64, 8, kernel_size=(1, 1), stride=(1, 1))\n",
      "    (key): Conv2d(64, 8, kernel_size=(1, 1), stride=(1, 1))\n",
      "    (value): Conv2d(64, 64, kernel_size=(1, 1), stride=(1, 1))\n",
      "  )\n",
      "  (fcon1): Sequential(\n",
      "    (0): AdaptiveAvgPool2d(output_size=1)\n",
      "    (1): Flatten(start_dim=1, end_dim=-1)\n",
      "    (2): Dropout(p=0.4, inplace=False)\n",
      "    (3): Linear(in_features=64, out_features=148, bias=True)\n",
      "    (4): LeakyReLU(negative_slope=0.01)\n",
      "  )\n",
      "  (fcon2): Linear(in_features=148, out_features=37, bias=True)\n",
      ")\n",
      "Epoch [1/500] Loss: 3.5964, Train Top-1 Acc: 0.0370, Train Top-3 Acc: 0.1142, Val Top-1 Acc: 0.1006, Val Top-3 Acc: 0.2527\n",
      "✅ 新的最佳模型已保存，Val Top-1 Acc: 0.1006\n",
      "Epoch [2/500] Loss: 3.4845, Train Top-1 Acc: 0.0800, Train Top-3 Acc: 0.2059, Val Top-1 Acc: 0.1625, Val Top-3 Acc: 0.3678\n",
      "✅ 新的最佳模型已保存，Val Top-1 Acc: 0.1625\n",
      "Epoch [3/500] Loss: 3.3305, Train Top-1 Acc: 0.1377, Train Top-3 Acc: 0.3213, Val Top-1 Acc: 0.2117, Val Top-3 Acc: 0.4650\n",
      "✅ 新的最佳模型已保存，Val Top-1 Acc: 0.2117\n",
      "Epoch [4/500] Loss: 3.1436, Train Top-1 Acc: 0.1653, Train Top-3 Acc: 0.3870, Val Top-1 Acc: 0.2267, Val Top-3 Acc: 0.4627\n",
      "✅ 新的最佳模型已保存，Val Top-1 Acc: 0.2267\n",
      "Epoch [5/500] Loss: 2.9354, Train Top-1 Acc: 0.2033, Train Top-3 Acc: 0.4545, Val Top-1 Acc: 0.3008, Val Top-3 Acc: 0.5743\n",
      "✅ 新的最佳模型已保存，Val Top-1 Acc: 0.3008\n",
      "Epoch [6/500] Loss: 2.7396, Train Top-1 Acc: 0.2482, Train Top-3 Acc: 0.5327, Val Top-1 Acc: 0.3846, Val Top-3 Acc: 0.6663\n",
      "✅ 新的最佳模型已保存，Val Top-1 Acc: 0.3846\n",
      "Epoch [7/500] Loss: 2.5390, Train Top-1 Acc: 0.2984, Train Top-3 Acc: 0.6021, Val Top-1 Acc: 0.4025, Val Top-3 Acc: 0.6964\n",
      "✅ 新的最佳模型已保存，Val Top-1 Acc: 0.4025\n",
      "Epoch [8/500] Loss: 2.3457, Train Top-1 Acc: 0.3512, Train Top-3 Acc: 0.6624, Val Top-1 Acc: 0.4523, Val Top-3 Acc: 0.7582\n",
      "✅ 新的最佳模型已保存，Val Top-1 Acc: 0.4523\n",
      "Epoch [9/500] Loss: 2.1747, Train Top-1 Acc: 0.3947, Train Top-3 Acc: 0.7201, Val Top-1 Acc: 0.4962, Val Top-3 Acc: 0.7970\n",
      "✅ 新的最佳模型已保存，Val Top-1 Acc: 0.4962\n",
      "Epoch [10/500] Loss: 2.0167, Train Top-1 Acc: 0.4403, Train Top-3 Acc: 0.7572, Val Top-1 Acc: 0.5113, Val Top-3 Acc: 0.8184\n",
      "✅ 新的最佳模型已保存，Val Top-1 Acc: 0.5113\n",
      "Epoch [11/500] Loss: 1.8645, Train Top-1 Acc: 0.4842, Train Top-3 Acc: 0.7992, Val Top-1 Acc: 0.5147, Val Top-3 Acc: 0.8248\n",
      "✅ 新的最佳模型已保存，Val Top-1 Acc: 0.5147\n",
      "Epoch [12/500] Loss: 1.7208, Train Top-1 Acc: 0.5267, Train Top-3 Acc: 0.8257, Val Top-1 Acc: 0.5575, Val Top-3 Acc: 0.8282\n",
      "✅ 新的最佳模型已保存，Val Top-1 Acc: 0.5575\n",
      "Epoch [13/500] Loss: 1.5953, Train Top-1 Acc: 0.5551, Train Top-3 Acc: 0.8499, Val Top-1 Acc: 0.5327, Val Top-3 Acc: 0.8242\n",
      "Epoch [14/500] Loss: 1.4991, Train Top-1 Acc: 0.5736, Train Top-3 Acc: 0.8593, Val Top-1 Acc: 0.6622, Val Top-3 Acc: 0.8901\n",
      "✅ 新的最佳模型已保存，Val Top-1 Acc: 0.6622\n",
      "Epoch [15/500] Loss: 1.3958, Train Top-1 Acc: 0.6050, Train Top-3 Acc: 0.8807, Val Top-1 Acc: 0.6657, Val Top-3 Acc: 0.8884\n",
      "✅ 新的最佳模型已保存，Val Top-1 Acc: 0.6657\n",
      "Epoch [16/500] Loss: 1.3017, Train Top-1 Acc: 0.6289, Train Top-3 Acc: 0.8897, Val Top-1 Acc: 0.6541, Val Top-3 Acc: 0.9011\n",
      "Epoch [17/500] Loss: 1.2223, Train Top-1 Acc: 0.6502, Train Top-3 Acc: 0.9008, Val Top-1 Acc: 0.6541, Val Top-3 Acc: 0.8849\n",
      "Epoch [18/500] Loss: 1.1446, Train Top-1 Acc: 0.6708, Train Top-3 Acc: 0.9092, Val Top-1 Acc: 0.7189, Val Top-3 Acc: 0.9167\n",
      "✅ 新的最佳模型已保存，Val Top-1 Acc: 0.7189\n",
      "Epoch [19/500] Loss: 1.0703, Train Top-1 Acc: 0.6969, Train Top-3 Acc: 0.9163, Val Top-1 Acc: 0.6611, Val Top-3 Acc: 0.8924\n",
      "Epoch [20/500] Loss: 1.0183, Train Top-1 Acc: 0.7064, Train Top-3 Acc: 0.9223, Val Top-1 Acc: 0.7259, Val Top-3 Acc: 0.9132\n",
      "✅ 新的最佳模型已保存，Val Top-1 Acc: 0.7259\n"
     ]
    },
    {
     "ename": "KeyboardInterrupt",
     "evalue": "",
     "output_type": "error",
     "traceback": [
      "\u001B[31m---------------------------------------------------------------------------\u001B[39m",
      "\u001B[31mKeyboardInterrupt\u001B[39m                         Traceback (most recent call last)",
      "\u001B[36mCell\u001B[39m\u001B[36m \u001B[39m\u001B[32mIn[17]\u001B[39m\u001B[32m, line 8\u001B[39m\n\u001B[32m      5\u001B[39m model = CNNWithAttention(label_num, use_attention=\u001B[38;5;28;01mTrue\u001B[39;00m) \u001B[38;5;66;03m# 调用模型\u001B[39;00m\n\u001B[32m      6\u001B[39m \u001B[38;5;28mprint\u001B[39m(model)\n\u001B[32m----> \u001B[39m\u001B[32m8\u001B[39m \u001B[43mtrain_and_validate\u001B[49m\u001B[43m(\u001B[49m\n\u001B[32m      9\u001B[39m \u001B[43m    \u001B[49m\u001B[43mmodel\u001B[49m\u001B[43m=\u001B[49m\u001B[43mmodel\u001B[49m\u001B[43m,\u001B[49m\n\u001B[32m     10\u001B[39m \u001B[43m    \u001B[49m\u001B[43mtrain_loader\u001B[49m\u001B[43m=\u001B[49m\u001B[43mtrain_loader\u001B[49m\u001B[43m,\u001B[49m\n\u001B[32m     11\u001B[39m \u001B[43m    \u001B[49m\u001B[43mval_loader\u001B[49m\u001B[43m=\u001B[49m\u001B[43mval_loader\u001B[49m\u001B[43m,\u001B[49m\n\u001B[32m     12\u001B[39m \u001B[43m    \u001B[49m\u001B[43mepochs\u001B[49m\u001B[43m=\u001B[49m\u001B[43mEPOCH\u001B[49m\u001B[43m,\u001B[49m\n\u001B[32m     13\u001B[39m \u001B[43m    \u001B[49m\u001B[43mdevice\u001B[49m\u001B[43m=\u001B[49m\u001B[43mdevice\u001B[49m\u001B[43m,\u001B[49m\n\u001B[32m     14\u001B[39m \u001B[43m    \u001B[49m\u001B[43msave_path\u001B[49m\u001B[43m=\u001B[49m\u001B[33;43m\"\u001B[39;49m\u001B[33;43mcnn_res_attention_best_with_data_augmentation.pth\u001B[39;49m\u001B[33;43m\"\u001B[39;49m\u001B[43m,\u001B[49m\n\u001B[32m     15\u001B[39m \u001B[43m)\u001B[49m\n\u001B[32m     17\u001B[39m \u001B[38;5;28mprint\u001B[39m(\u001B[33m\"\u001B[39m\u001B[33m训练结束。\u001B[39m\u001B[33m\"\u001B[39m)\n",
      "\u001B[36mCell\u001B[39m\u001B[36m \u001B[39m\u001B[32mIn[15]\u001B[39m\u001B[32m, line 29\u001B[39m, in \u001B[36mtrain_and_validate\u001B[39m\u001B[34m(model, train_loader, val_loader, epochs, device, save_path, save_best_only, patience, auto_lr)\u001B[39m\n\u001B[32m     26\u001B[39m loss = loss_func(outputs, batch_y)\n\u001B[32m     28\u001B[39m optimizer.zero_grad()\n\u001B[32m---> \u001B[39m\u001B[32m29\u001B[39m \u001B[43mloss\u001B[49m\u001B[43m.\u001B[49m\u001B[43mbackward\u001B[49m\u001B[43m(\u001B[49m\u001B[43m)\u001B[49m\n\u001B[32m     30\u001B[39m optimizer.step()\n\u001B[32m     32\u001B[39m total_loss += loss.item() * batch_x.size(\u001B[32m0\u001B[39m)\n",
      "\u001B[36mFile \u001B[39m\u001B[32mD:\\python\\Com_Intelligent_work\\venv\\Lib\\site-packages\\torch\\_tensor.py:626\u001B[39m, in \u001B[36mTensor.backward\u001B[39m\u001B[34m(self, gradient, retain_graph, create_graph, inputs)\u001B[39m\n\u001B[32m    616\u001B[39m \u001B[38;5;28;01mif\u001B[39;00m has_torch_function_unary(\u001B[38;5;28mself\u001B[39m):\n\u001B[32m    617\u001B[39m     \u001B[38;5;28;01mreturn\u001B[39;00m handle_torch_function(\n\u001B[32m    618\u001B[39m         Tensor.backward,\n\u001B[32m    619\u001B[39m         (\u001B[38;5;28mself\u001B[39m,),\n\u001B[32m   (...)\u001B[39m\u001B[32m    624\u001B[39m         inputs=inputs,\n\u001B[32m    625\u001B[39m     )\n\u001B[32m--> \u001B[39m\u001B[32m626\u001B[39m \u001B[43mtorch\u001B[49m\u001B[43m.\u001B[49m\u001B[43mautograd\u001B[49m\u001B[43m.\u001B[49m\u001B[43mbackward\u001B[49m\u001B[43m(\u001B[49m\n\u001B[32m    627\u001B[39m \u001B[43m    \u001B[49m\u001B[38;5;28;43mself\u001B[39;49m\u001B[43m,\u001B[49m\u001B[43m \u001B[49m\u001B[43mgradient\u001B[49m\u001B[43m,\u001B[49m\u001B[43m \u001B[49m\u001B[43mretain_graph\u001B[49m\u001B[43m,\u001B[49m\u001B[43m \u001B[49m\u001B[43mcreate_graph\u001B[49m\u001B[43m,\u001B[49m\u001B[43m \u001B[49m\u001B[43minputs\u001B[49m\u001B[43m=\u001B[49m\u001B[43minputs\u001B[49m\n\u001B[32m    628\u001B[39m \u001B[43m\u001B[49m\u001B[43m)\u001B[49m\n",
      "\u001B[36mFile \u001B[39m\u001B[32mD:\\python\\Com_Intelligent_work\\venv\\Lib\\site-packages\\torch\\autograd\\__init__.py:347\u001B[39m, in \u001B[36mbackward\u001B[39m\u001B[34m(tensors, grad_tensors, retain_graph, create_graph, grad_variables, inputs)\u001B[39m\n\u001B[32m    342\u001B[39m     retain_graph = create_graph\n\u001B[32m    344\u001B[39m \u001B[38;5;66;03m# The reason we repeat the same comment below is that\u001B[39;00m\n\u001B[32m    345\u001B[39m \u001B[38;5;66;03m# some Python versions print out the first line of a multi-line function\u001B[39;00m\n\u001B[32m    346\u001B[39m \u001B[38;5;66;03m# calls in the traceback and some print out the last line\u001B[39;00m\n\u001B[32m--> \u001B[39m\u001B[32m347\u001B[39m \u001B[43m_engine_run_backward\u001B[49m\u001B[43m(\u001B[49m\n\u001B[32m    348\u001B[39m \u001B[43m    \u001B[49m\u001B[43mtensors\u001B[49m\u001B[43m,\u001B[49m\n\u001B[32m    349\u001B[39m \u001B[43m    \u001B[49m\u001B[43mgrad_tensors_\u001B[49m\u001B[43m,\u001B[49m\n\u001B[32m    350\u001B[39m \u001B[43m    \u001B[49m\u001B[43mretain_graph\u001B[49m\u001B[43m,\u001B[49m\n\u001B[32m    351\u001B[39m \u001B[43m    \u001B[49m\u001B[43mcreate_graph\u001B[49m\u001B[43m,\u001B[49m\n\u001B[32m    352\u001B[39m \u001B[43m    \u001B[49m\u001B[43minputs\u001B[49m\u001B[43m,\u001B[49m\n\u001B[32m    353\u001B[39m \u001B[43m    \u001B[49m\u001B[43mallow_unreachable\u001B[49m\u001B[43m=\u001B[49m\u001B[38;5;28;43;01mTrue\u001B[39;49;00m\u001B[43m,\u001B[49m\n\u001B[32m    354\u001B[39m \u001B[43m    \u001B[49m\u001B[43maccumulate_grad\u001B[49m\u001B[43m=\u001B[49m\u001B[38;5;28;43;01mTrue\u001B[39;49;00m\u001B[43m,\u001B[49m\n\u001B[32m    355\u001B[39m \u001B[43m\u001B[49m\u001B[43m)\u001B[49m\n",
      "\u001B[36mFile \u001B[39m\u001B[32mD:\\python\\Com_Intelligent_work\\venv\\Lib\\site-packages\\torch\\autograd\\graph.py:823\u001B[39m, in \u001B[36m_engine_run_backward\u001B[39m\u001B[34m(t_outputs, *args, **kwargs)\u001B[39m\n\u001B[32m    821\u001B[39m     unregister_hooks = _register_logging_hooks_on_whole_graph(t_outputs)\n\u001B[32m    822\u001B[39m \u001B[38;5;28;01mtry\u001B[39;00m:\n\u001B[32m--> \u001B[39m\u001B[32m823\u001B[39m     \u001B[38;5;28;01mreturn\u001B[39;00m \u001B[43mVariable\u001B[49m\u001B[43m.\u001B[49m\u001B[43m_execution_engine\u001B[49m\u001B[43m.\u001B[49m\u001B[43mrun_backward\u001B[49m\u001B[43m(\u001B[49m\u001B[43m  \u001B[49m\u001B[38;5;66;43;03m# Calls into the C++ engine to run the backward pass\u001B[39;49;00m\n\u001B[32m    824\u001B[39m \u001B[43m        \u001B[49m\u001B[43mt_outputs\u001B[49m\u001B[43m,\u001B[49m\u001B[43m \u001B[49m\u001B[43m*\u001B[49m\u001B[43margs\u001B[49m\u001B[43m,\u001B[49m\u001B[43m \u001B[49m\u001B[43m*\u001B[49m\u001B[43m*\u001B[49m\u001B[43mkwargs\u001B[49m\n\u001B[32m    825\u001B[39m \u001B[43m    \u001B[49m\u001B[43m)\u001B[49m  \u001B[38;5;66;03m# Calls into the C++ engine to run the backward pass\u001B[39;00m\n\u001B[32m    826\u001B[39m \u001B[38;5;28;01mfinally\u001B[39;00m:\n\u001B[32m    827\u001B[39m     \u001B[38;5;28;01mif\u001B[39;00m attach_logging_hooks:\n",
      "\u001B[31mKeyboardInterrupt\u001B[39m: "
     ]
    }
   ],
   "execution_count": 17
  },
  {
   "metadata": {},
   "cell_type": "code",
   "outputs": [],
   "execution_count": null,
   "source": "",
   "id": "7693ea541ded4cf4"
  },
  {
   "metadata": {},
   "cell_type": "markdown",
   "source": "### 无注意力机制 有数据增强",
   "id": "a8c4f96d01cf1c20"
  },
  {
   "metadata": {},
   "cell_type": "code",
   "outputs": [],
   "execution_count": null,
   "source": [
    "model = CNNWithAttention(label_num, use_attention=False) # 调用模型\n",
    "\n",
    "train_and_validate(\n",
    "    model=model,\n",
    "    train_loader=train_loader,\n",
    "    val_loader=val_loader,\n",
    "    epochs=EPOCH,\n",
    "    device=device,\n",
    "    save_path=\"cnn_res_noattention_aug_best.pth\"\n",
    ")"
   ],
   "id": "7da1f7ab3d0c5aec"
  },
  {
   "metadata": {},
   "cell_type": "markdown",
   "source": "### 有注意力机制 无数据增强",
   "id": "89e677f09c7e15ec"
  },
  {
   "metadata": {},
   "cell_type": "markdown",
   "source": "#### 数据展示",
   "id": "513531a9b038a88a"
  },
  {
   "metadata": {},
   "cell_type": "code",
   "outputs": [],
   "execution_count": null,
   "source": [
    "transform = AlbumentationsTransformBase()  # 不使用数据增强\n",
    "\n",
    "train_loader, val_loader, test_loader, full_dataset = split_dataset(\n",
    "    root_dir=ROOT_DIR,\n",
    "    transform=transform,\n",
    "    train_ratio=0.7,\n",
    "    val_ratio=0.15,\n",
    "    test_ratio=0.15,\n",
    "    batch_size=BATCH_SIZE,\n",
    "    shuffle=True,\n",
    "    random_seed=42\n",
    ")\n",
    "\n",
    "# 打印数据集大小\n",
    "print(f\"训练集大小: {len(train_loader.dataset)}\")\n",
    "print(f\"验证集大小: {len(val_loader.dataset)}\")\n",
    "print(f\"测试集大小: {len(test_loader.dataset)}\")\n",
    "\n",
    "# 获取类别数量\n",
    "label_num = len(full_dataset.class_to_idx)\n",
    "\n",
    "# 数据可视化\n",
    "to_img = T.ToPILImage()\n",
    "a = to_img(train_loader.dataset[0][0])  # size=[1, 32, 32]\n",
    "plt.imshow(a)\n",
    "plt.axis('off')\n",
    "plt.show()"
   ],
   "id": "528581b0e00270be"
  },
  {
   "metadata": {},
   "cell_type": "code",
   "outputs": [],
   "execution_count": null,
   "source": [
    "model = CNNWithAttention(label_num, use_attention=True) # 调用模型\n",
    "\n",
    "train_and_validate(\n",
    "    model=model,\n",
    "    train_loader=train_loader,\n",
    "    val_loader=val_loader,\n",
    "    epochs=EPOCH,\n",
    "    device=device,\n",
    "    save_path=\"cnn_res_attention_noaug_best.pth\"\n",
    ")"
   ],
   "id": "b9f066ea01c8bf57"
  },
  {
   "metadata": {},
   "cell_type": "markdown",
   "source": "### 无注意力机制 无数据增强",
   "id": "63732b390e9bf460"
  },
  {
   "metadata": {},
   "cell_type": "code",
   "outputs": [],
   "execution_count": null,
   "source": [
    "model = CNNWithAttention(label_num, use_attention=False) # 调用模型\n",
    "\n",
    "train_and_validate(\n",
    "    model=model,\n",
    "    train_loader=train_loader,\n",
    "    val_loader=val_loader,\n",
    "    epochs=EPOCH,\n",
    "    device=device,\n",
    "    save_path=\"cnn_res_noattention_noaug_best.pth\"\n",
    ")"
   ],
   "id": "eb2b4250cd798311"
  }
 ],
 "metadata": {
  "kernelspec": {
   "name": "python3",
   "language": "python",
   "display_name": "Python 3 (ipykernel)"
  },
  "language_info": {
   "codemirror_mode": {
    "name": "ipython",
    "version": 2
   },
   "file_extension": ".py",
   "mimetype": "text/x-python",
   "name": "python",
   "nbconvert_exporter": "python",
   "pygments_lexer": "ipython2",
   "version": "2.7.6"
  }
 },
 "nbformat": 4,
 "nbformat_minor": 5
}
