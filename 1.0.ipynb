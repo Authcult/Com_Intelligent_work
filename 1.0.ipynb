{
 "cells": [
  {
   "metadata": {},
   "cell_type": "markdown",
   "source": [
    "# 基于卷积神经网络的手写英文字母识别系统研究"
   ],
   "id": "b49460515249296"
  },
  {
   "metadata": {},
   "cell_type": "markdown",
   "source": [
    "## 准备数据集及数据预处理"
   ],
   "id": "ce590e5f75620cf9"
  },
  {
   "metadata": {},
   "cell_type": "markdown",
   "source": [
    "### 将下载的数据集按类重命名"
   ],
   "id": "238bfe846709a109"
  },
  {
   "metadata": {
    "ExecuteTime": {
     "end_time": "2025-04-22T04:08:09.798246300Z",
     "start_time": "2025-04-22T04:08:09.677396900Z"
    }
   },
   "cell_type": "code",
   "source": [
    "\n",
    "from torchvision.datasets import EMNIST  \n",
    "from PIL import Image  \n",
    "import os  \n",
    "from IPython.display import display  \n",
    "\n",
    "def save_emnist_images_with_class_previews(Edataset = \"balanced\", save_dir=\"emnist_png_balanced\", max_images_per_class=1000, preview=True, preview_limit_per_class=10):  \n",
    "    digits = [str(i) for i in range(10)]  \n",
    "    letters = [  \n",
    "        'A', 'B', 'C', 'D', 'E', 'F', 'G', 'H', 'I', 'J', 'K', 'L', 'M', 'N',  \n",
    "        'O', 'P', 'Q', 'R', 'S', 'T', 'U', 'V', 'W', 'X', 'Y', 'Z',  \n",
    "        'a', 'b', 'd', 'e', 'f', 'g', 'h', 'n', 'q', 'r', 't'  \n",
    "    ]  \n",
    "    if Edataset == \"letters\":\n",
    "         digits = []  # 字母数据集不需要数字\n",
    "    all_labels = digits + letters  \n",
    "\n",
    "    # 修改后的函数，区分大小写文件夹名  \n",
    "    def label_char_to_folder_name(label_char):  \n",
    "        if label_char.islower():  \n",
    "            return label_char + \"_\"   # 小写加下划线后缀  \n",
    "        else:  \n",
    "            return label_char         # 大写和数字保持不变  \n",
    "\n",
    "    def label_to_char(label):  \n",
    "        if 0 <= label < len(all_labels):  \n",
    "            return all_labels[label]  \n",
    "        else:  \n",
    "            return \"UNK\"  \n",
    "\n",
    "    # 先处理预览部分：读取时用转换后的文件夹名  \n",
    "    if os.path.exists(save_dir) and os.path.isdir(save_dir):  \n",
    "        print(f\"检测到目录 {save_dir} 已存在，跳过下载，直接展示预览图...\")  \n",
    "        class_preview_images = {}  \n",
    "        for label_char in all_labels:  \n",
    "            folder_name = label_char_to_folder_name(label_char)  \n",
    "            label_dir = os.path.join(save_dir, folder_name)  \n",
    "            imgs = []  \n",
    "            if os.path.exists(label_dir) and os.path.isdir(label_dir):  \n",
    "                files = sorted(os.listdir(label_dir))  \n",
    "                for f in files[:preview_limit_per_class]:  \n",
    "                    try:  \n",
    "                        im = Image.open(os.path.join(label_dir, f)).convert('L')  \n",
    "                        imgs.append(im)  \n",
    "                    except:  \n",
    "                        pass  \n",
    "            if imgs:  \n",
    "                class_preview_images[label_char] = imgs  \n",
    "        if preview:  \n",
    "            for label_char, imgs in class_preview_images.items():  \n",
    "                width = 28 * len(imgs)  \n",
    "                height = 28  \n",
    "                big_img = Image.new('L', (width, height))  \n",
    "                for idx, im in enumerate(imgs):  \n",
    "                    big_img.paste(im, (28*idx, 0))  \n",
    "                print(f\"类别 {label_char} 预览图 (共 {len(imgs)} 张):\")  \n",
    "                display(big_img)  \n",
    "\n",
    "        print(\"预览完毕。\")  \n",
    "        return  \n",
    "\n",
    "    # 下载并保存图像  \n",
    "    print(f\"目录 {save_dir} 不存在，开始下载数据并保存...\")  \n",
    "    train_set = EMNIST(root=\"emnist_data\", split=Edataset, train=True, download=True)  \n",
    "    test_set = EMNIST(root=\"emnist_data\", split=Edataset, train=False, download=True)  \n",
    "    full_dataset = train_set + test_set  \n",
    "\n",
    "    os.makedirs(save_dir, exist_ok=True)  \n",
    "\n",
    "    images_per_class = {label_char: 0 for label_char in all_labels}  \n",
    "    saved_images_count = 0  \n",
    "\n",
    "    class_preview_images = {label_char: [] for label_char in all_labels} if preview else None  \n",
    "\n",
    "    for i, (img, label) in enumerate(full_dataset):  \n",
    "        label_char = label_to_char(label)  \n",
    "        if label_char == \"UNK\":  \n",
    "            continue  \n",
    "        if images_per_class[label_char] >= max_images_per_class:  \n",
    "            continue  \n",
    "\n",
    "        folder_name = label_char_to_folder_name(label_char)  \n",
    "        label_dir = os.path.join(save_dir, folder_name)  \n",
    "        os.makedirs(label_dir, exist_ok=True)  \n",
    "\n",
    "        img = img.resize((28, 28))  \n",
    "        img = img.transpose(Image.Transpose.FLIP_LEFT_RIGHT).rotate(90)  \n",
    "        img.save(os.path.join(label_dir, f\"{images_per_class[label_char]}.png\"))  \n",
    "\n",
    "        if preview and len(class_preview_images[label_char]) < preview_limit_per_class:  \n",
    "            class_preview_images[label_char].append(img)  \n",
    "\n",
    "        images_per_class[label_char] += 1  \n",
    "        saved_images_count += 1  \n",
    "\n",
    "        if saved_images_count % 500 == 0:  \n",
    "            print(f\"已保存 {saved_images_count} 张图像...\")  \n",
    "\n",
    "    print(\"所有图像已保存到\", save_dir)  \n",
    "\n",
    "    if preview:  \n",
    "        for label_char, imgs in class_preview_images.items():  \n",
    "            if len(imgs) == 0:  \n",
    "                continue  \n",
    "            width = 28 * len(imgs)  \n",
    "            height = 28  \n",
    "            big_img = Image.new('L', (width, height))  \n",
    "            for idx, im in enumerate(imgs):  \n",
    "                big_img.paste(im, (28*idx, 0))  \n",
    "            print(f\"类别 {label_char} 预览图 (共 {len(imgs)} 张):\")  \n",
    "            display(big_img)  \n",
    "\n",
    "# 调用（Notebook中执行）  \n",
    "save_emnist_images_with_class_previews(Edataset = \"letters\", save_dir=\"emnist_png_letters\", max_images_per_class=1000, preview=True, preview_limit_per_class=10)  \n",
    "\n"
   ],
   "id": "5788fac3ecac17f8",
   "outputs": [
    {
     "name": "stdout",
     "output_type": "stream",
     "text": [
      "检测到目录 emnist_png_letters 已存在，跳过下载，直接展示预览图...\n",
      "类别 B 预览图 (共 10 张):\n"
     ]
    },
    {
     "data": {
      "text/plain": "<PIL.Image.Image image mode=L size=280x28>",
      "image/png": "[encoded data removed]",
      "image/jpeg": "[encoded data removed]"
     },
     "metadata": {},
     "output_type": "display_data"
    },
    {
     "name": "stdout",
     "output_type": "stream",
     "text": [
      "类别 C 预览图 (共 10 张):\n"
     ]
    },
    {
     "data": {
      "text/plain": "<PIL.Image.Image image mode=L size=280x28>",
      "image/png": "[encoded data removed]",
      "image/jpeg": "[encoded data removed]"
     },
     "metadata": {},
     "output_type": "display_data"
    },
    {
     "name": "stdout",
     "output_type": "stream",
     "text": [
      "类别 D 预览图 (共 10 张):\n"
     ]
    },
    {
     "data": {
      "text/plain": "<PIL.Image.Image image mode=L size=280x28>",
      "image/png": "[encoded data removed]",
      "image/jpeg": "[encoded data removed]"
     },
     "metadata": {},
     "output_type": "display_data"
    },
    {
     "name": "stdout",
     "output_type": "stream",
     "text": [
      "类别 E 预览图 (共 10 张):\n"
     ]
    },
    {
     "data": {
      "text/plain": "<PIL.Image.Image image mode=L size=280x28>",
      "image/png": "[encoded data removed]",
      "image/jpeg": "[encoded data removed]"
     },
     "metadata": {},
     "output_type": "display_data"
    },
    {
     "name": "stdout",
     "output_type": "stream",
     "text": [
      "类别 F 预览图 (共 10 张):\n"
     ]
    },
    {
     "data": {
      "text/plain": "<PIL.Image.Image image mode=L size=280x28>",
      "image/png": "[encoded data removed]",
      "image/jpeg": "[encoded data removed]"
     },
     "metadata": {},
     "output_type": "display_data"
    },
    {
     "name": "stdout",
     "output_type": "stream",
     "text": [
      "类别 G 预览图 (共 10 张):\n"
     ]
    },
    {
     "data": {
      "text/plain": "<PIL.Image.Image image mode=L size=280x28>",
      "image/png": "[encoded data removed]",
      "image/jpeg": "[encoded data removed]"
     },
     "metadata": {},
     "output_type": "display_data"
    },
    {
     "name": "stdout",
     "output_type": "stream",
     "text": [
      "类别 H 预览图 (共 10 张):\n"
     ]
    },
    {
     "data": {
      "text/plain": "<PIL.Image.Image image mode=L size=280x28>",
      "image/png": "[encoded data removed]",
      "image/jpeg": "[encoded data removed]"
     },
     "metadata": {},
     "output_type": "display_data"
    },
    {
     "name": "stdout",
     "output_type": "stream",
     "text": [
      "类别 I 预览图 (共 10 张):\n"
     ]
    },
    {
     "data": {
      "text/plain": "<PIL.Image.Image image mode=L size=280x28>",
      "image/png": "[encoded data removed]",
      "image/jpeg": "[encoded data removed]"
     },
     "metadata": {},
     "output_type": "display_data"
    },
    {
     "name": "stdout",
     "output_type": "stream",
     "text": [
      "类别 J 预览图 (共 10 张):\n"
     ]
    },
    {
     "data": {
      "text/plain": "<PIL.Image.Image image mode=L size=280x28>",
      "image/png": "[encoded data removed]",
      "image/jpeg": "[encoded data removed]"
     },
     "metadata": {},
     "output_type": "display_data"
    },
    {
     "name": "stdout",
     "output_type": "stream",
     "text": [
      "类别 K 预览图 (共 10 张):\n"
     ]
    },
    {
     "data": {
      "text/plain": "<PIL.Image.Image image mode=L size=280x28>",
      "image/png": "[encoded data removed]",
      "image/jpeg": "[encoded data removed]"
     },
     "metadata": {},
     "output_type": "display_data"
    },
    {
     "name": "stdout",
     "output_type": "stream",
     "text": [
      "类别 L 预览图 (共 10 张):\n"
     ]
    },
    {
     "data": {
      "text/plain": "<PIL.Image.Image image mode=L size=280x28>",
      "image/png": "[encoded data removed]",
      "image/jpeg": "[encoded data removed]"
     },
     "metadata": {},
     "output_type": "display_data"
    },
    {
     "name": "stdout",
     "output_type": "stream",
     "text": [
      "类别 M 预览图 (共 10 张):\n"
     ]
    },
    {
     "data": {
      "text/plain": "<PIL.Image.Image image mode=L size=280x28>",
      "image/png": "[encoded data removed]",
      "image/jpeg": "[encoded data removed]"
     },
     "metadata": {},
     "output_type": "display_data"
    },
    {
     "name": "stdout",
     "output_type": "stream",
     "text": [
      "类别 N 预览图 (共 10 张):\n"
     ]
    },
    {
     "data": {
      "text/plain": "<PIL.Image.Image image mode=L size=280x28>",
      "image/png": "[encoded data removed]",
      "image/jpeg": "[encoded data removed]"
     },
     "metadata": {},
     "output_type": "display_data"
    },
    {
     "name": "stdout",
     "output_type": "stream",
     "text": [
      "类别 O 预览图 (共 10 张):\n"
     ]
    },
    {
     "data": {
      "text/plain": "<PIL.Image.Image image mode=L size=280x28>",
      "image/png": "[encoded data removed]",
      "image/jpeg": "[encoded data removed]"
     },
     "metadata": {},
     "output_type": "display_data"
    },
    {
     "name": "stdout",
     "output_type": "stream",
     "text": [
      "类别 P 预览图 (共 10 张):\n"
     ]
    },
    {
     "data": {
      "text/plain": "<PIL.Image.Image image mode=L size=280x28>",
      "image/png": "[encoded data removed]",
      "image/jpeg": "[encoded data removed]"
     },
     "metadata": {},
     "output_type": "display_data"
    },
    {
     "name": "stdout",
     "output_type": "stream",
     "text": [
      "类别 Q 预览图 (共 10 张):\n"
     ]
    },
    {
     "data": {
      "text/plain": "<PIL.Image.Image image mode=L size=280x28>",
      "image/png": "[encoded data removed]",
      "image/jpeg": "[encoded data removed]"
     },
     "metadata": {},
     "output_type": "display_data"
    },
    {
     "name": "stdout",
     "output_type": "stream",
     "text": [
      "类别 R 预览图 (共 10 张):\n"
     ]
    },
    {
     "data": {
      "text/plain": "<PIL.Image.Image image mode=L size=280x28>",
      "image/png": "[encoded data removed]",
      "image/jpeg": "[encoded data removed]"
     },
     "metadata": {},
     "output_type": "display_data"
    },
    {
     "name": "stdout",
     "output_type": "stream",
     "text": [
      "类别 S 预览图 (共 10 张):\n"
     ]
    },
    {
     "data": {
      "text/plain": "<PIL.Image.Image image mode=L size=280x28>",
      "image/png": "[encoded data removed]",
      "image/jpeg": "[encoded data removed]"
     },
     "metadata": {},
     "output_type": "display_data"
    },
    {
     "name": "stdout",
     "output_type": "stream",
     "text": [
      "类别 T 预览图 (共 10 张):\n"
     ]
    },
    {
     "data": {
      "text/plain": "<PIL.Image.Image image mode=L size=280x28>",
      "image/png": "[encoded data removed]",
      "image/jpeg": "[encoded data removed]"
     },
     "metadata": {},
     "output_type": "display_data"
    },
    {
     "name": "stdout",
     "output_type": "stream",
     "text": [
      "类别 U 预览图 (共 10 张):\n"
     ]
    },
    {
     "data": {
      "text/plain": "<PIL.Image.Image image mode=L size=280x28>",
      "image/png": "[encoded data removed]",
      "image/jpeg": "[encoded data removed]"
     },
     "metadata": {},
     "output_type": "display_data"
    },
    {
     "name": "stdout",
     "output_type": "stream",
     "text": [
      "类别 V 预览图 (共 10 张):\n"
     ]
    },
    {
     "data": {
      "text/plain": "<PIL.Image.Image image mode=L size=280x28>",
      "image/png": "[encoded data removed]",
      "image/jpeg": "[encoded data removed]"
     },
     "metadata": {},
     "output_type": "display_data"
    },
    {
     "name": "stdout",
     "output_type": "stream",
     "text": [
      "类别 W 预览图 (共 10 张):\n"
     ]
    },
    {
     "data": {
      "text/plain": "<PIL.Image.Image image mode=L size=280x28>",
      "image/png": "[encoded data removed]",
      "image/jpeg": "[encoded data removed]"
     },
     "metadata": {},
     "output_type": "display_data"
    },
    {
     "name": "stdout",
     "output_type": "stream",
     "text": [
      "类别 X 预览图 (共 10 张):\n"
     ]
    },
    {
     "data": {
      "text/plain": "<PIL.Image.Image image mode=L size=280x28>",
      "image/png": "[encoded data removed]",
      "image/jpeg": "[encoded data removed]"
     },
     "metadata": {},
     "output_type": "display_data"
    },
    {
     "name": "stdout",
     "output_type": "stream",
     "text": [
      "类别 Y 预览图 (共 10 张):\n"
     ]
    },
    {
     "data": {
      "text/plain": "<PIL.Image.Image image mode=L size=280x28>",
      "image/png": "[encoded data removed]",
      "image/jpeg": "[encoded data removed]"
     },
     "metadata": {},
     "output_type": "display_data"
    },
    {
     "name": "stdout",
     "output_type": "stream",
     "text": [
      "类别 Z 预览图 (共 10 张):\n"
     ]
    },
    {
     "data": {
      "text/plain": "<PIL.Image.Image image mode=L size=280x28>",
      "image/png": "[encoded data removed]",
      "image/jpeg": "[encoded data removed]"
     },
     "metadata": {},
     "output_type": "display_data"
    },
    {
     "name": "stdout",
     "output_type": "stream",
     "text": [
      "类别 a 预览图 (共 10 张):\n"
     ]
    },
    {
     "data": {
      "text/plain": "<PIL.Image.Image image mode=L size=280x28>",
      "image/png": "[encoded data removed]",
      "image/jpeg": "[encoded data removed]"
     },
     "metadata": {},
     "output_type": "display_data"
    },
    {
     "name": "stdout",
     "output_type": "stream",
     "text": [
      "预览完毕。\n"
     ]
    }
   ],
   "execution_count": 16
  },
  {
   "metadata": {},
   "cell_type": "markdown",
   "source": [
    "### 转白底黑字"
   ],
   "id": "1780fbeb3c8485f5"
  },
  {
   "metadata": {
    "ExecuteTime": {
     "end_time": "2025-04-22T04:08:09.798246300Z",
     "start_time": "2025-04-22T04:08:09.764057200Z"
    }
   },
   "cell_type": "code",
   "source": [
    "# import os  \n",
    "# from PIL import Image  \n",
    "# import numpy as np  \n",
    "# \n",
    "# def invert_image_colors_inplace(image_path):  \n",
    "#     \"\"\"原地反转图片颜色：黑底白字 <-> 白底黑字\"\"\"  \n",
    "#     image = Image.open(image_path).convert(\"RGB\")  \n",
    "#     img_array = np.array(image)  \n",
    "#     inverted_array = 255 - img_array  \n",
    "#     inverted_image = Image.fromarray(inverted_array)  \n",
    "#     inverted_image.save(image_path)  \n",
    "#     print(f\"Inverted and overwritten: {image_path}\")  \n",
    "# \n",
    "# def process_folder_recursive_inplace(root_folder):  \n",
    "#     for root, dirs, files in os.walk(root_folder):  \n",
    "#         for file in files:  \n",
    "#             if not file.lower().endswith(('.png', '.jpg', '.jpeg')):  \n",
    "#                 continue  \n",
    "# \n",
    "#             file_name_without_ext = os.path.splitext(file)[0]  \n",
    "# \n",
    "#             # 判断图片名是否为纯数字，是则反转颜色  \n",
    "#             if file_name_without_ext.isdigit():  \n",
    "#                 img_path = os.path.join(root, file)  \n",
    "#                 invert_image_colors_inplace(img_path)  \n",
    "# \n",
    "#             # 如果图片名以 \"img\" 开头 (忽略大小写)，则跳过处理，保持原样  \n",
    "#             elif file_name_without_ext.lower().startswith(\"img\"):  \n",
    "#                 # 不做处理，跳过  \n",
    "#                 print(f\"Skipped (img prefix): {os.path.join(root, file)}\")  \n",
    "#                 continue  \n",
    "# \n",
    "#             else:  \n",
    "#                 # 其他图片，根据需求这里先跳过，或者也可以反转  \n",
    "#                 print(f\"Skipped (other): {os.path.join(root, file)}\")  \n",
    "#                 continue  \n",
    "# \n",
    "# if __name__ == \"__main__\":  \n",
    "#     img_root_folder = r\"emnist_png_balanced\"  \n",
    "#     process_folder_recursive_inplace(img_root_folder)  "
   ],
   "id": "2660e0fd2525a649",
   "outputs": [],
   "execution_count": 17
  },
  {
   "metadata": {},
   "cell_type": "markdown",
   "source": [
    "### 划分训练集和测试集"
   ],
   "id": "59a98459a3c1efda"
  },
  {
   "metadata": {
    "ExecuteTime": {
     "end_time": "2025-04-22T04:08:09.798246300Z",
     "start_time": "2025-04-22T04:08:09.767496100Z"
    }
   },
   "cell_type": "code",
   "source": [
    "import torch\n",
    "import torch.nn as nn\n",
    "from torchvision.datasets import ImageFolder\n",
    "import torchvision.models as models\n",
    "from torchvision import utils\n",
    "import torchvision.transforms as T\n",
    "import torch.utils.data as Data\n",
    "from PIL import Image\n",
    "import numpy as np\n",
    "import torch.optim as optim\n",
    "import os\n",
    "import sys\n",
    "from datetime import datetime\n",
    "import matplotlib.pyplot as plt\n",
    "from collections import Counter\n",
    "from torch.utils.data import Subset\n",
    "from torch.optim.lr_scheduler import ReduceLROnPlateau\n",
    "#使用tensorboardX进行可视化\n",
    "from tensorboardX import SummaryWriter\n",
    "from torchvision import datasets\n",
    "from torch.utils.data import random_split, DataLoader\n",
    "#数据增强\n",
    "from albumentations.pytorch import ToTensorV2\n",
    "from torchvision.transforms.autoaugment import AutoAugmentPolicy #自动数据增强库\n",
    "import albumentations as A\n",
    "#参数定义\n",
    "EPOCH = 500\n",
    "BATCH_SIZE = 128\n",
    "LR = 1e-4\n",
    "ROOT_DIR = \"emnist_png_letters\"\n",
    "LOG_DIR = f\"runs/handwriting_{datetime.now().strftime('%Y%m%d_%H%M%S')}\"\n"
   ],
   "id": "6e8d3e7ce616fde7",
   "outputs": [],
   "execution_count": 18
  },
  {
   "metadata": {
    "ExecuteTime": {
     "end_time": "2025-04-22T04:08:09.813931400Z",
     "start_time": "2025-04-22T04:08:09.774754200Z"
    }
   },
   "cell_type": "code",
   "source": [
    "# 数据增强模块\n",
    "# transform = T.Compose([\n",
    "#     T.Resize((28, 28)), # 统一尺寸为28x28\n",
    "#     T.Grayscale(num_output_channels=1), # 灰度处理\n",
    "#     T.RandomRotation(15),  # 数据增强：随机旋转\n",
    "#     T.RandomAffine(degrees=0, translate=(0.1, 0.1)),  # 位移\n",
    "#     T.ToTensor(), # 转换为Tensor\n",
    "#     # 如果需要标准化，可以取消注释以下行\n",
    "#     T.Normalize([0.5], [0.5])\n",
    "# ])\n",
    "\n",
    "# 存在图片过度偏移问题。\n",
    "# class DataAutoAugment:\n",
    "#     def __init__(self):\n",
    "#         self.transform = T.Compose([\n",
    "#             T.Resize((28, 28)),\n",
    "#             T.Grayscale(num_output_channels=1),\n",
    "#             T.AutoAugment(policy=AutoAugmentPolicy.SVHN),\n",
    "#             T.ToTensor(),\n",
    "#             T.Normalize(mean=(0.5,), std=(0.5,))\n",
    "#         ])\n",
    "#\n",
    "#     def __call__(self, img):\n",
    "#         return self.transform(img)\n",
    "\n",
    "class AlbumentationsTransform:\n",
    "    def __init__(self):\n",
    "        self.transform=A.Compose([\n",
    "            A.Resize(28, 28),\n",
    "            A.Rotate(limit=15, p=0.5),\n",
    "            A.Affine(translate_percent=(0.1,0.1),p=0.5),\n",
    "            A.RandomBrightnessContrast(p=0.3),\n",
    "            A.Normalize(mean=(0.5,),std=(0.5,)),\n",
    "            ToTensorV2()\n",
    "        ])\n",
    "    def __call__(self, img):\n",
    "        img=np.array(img.convert('L'))\n",
    "        return self.transform(image=img)['image']\n",
    "\n",
    "class AlbumentationsTransformBase:  \n",
    "    def __init__(self):  \n",
    "        self.transform = A.Compose([  \n",
    "            A.Resize(28, 28),  \n",
    "            A.Normalize(mean=(0.5,), std=(0.5,)),  \n",
    "            ToTensorV2()  \n",
    "        ])  \n",
    "    def __call__(self, img):  \n",
    "        img = np.array(img.convert('L'))  \n",
    "        return self.transform(image=img)['image']  \n"
   ],
   "id": "f67c0a39abd6d4b0",
   "outputs": [],
   "execution_count": 19
  },
  {
   "metadata": {
    "ExecuteTime": {
     "end_time": "2025-04-22T04:08:09.813931400Z",
     "start_time": "2025-04-22T04:08:09.783710800Z"
    }
   },
   "cell_type": "code",
   "source": [
    "\n",
    "def split_dataset(root_dir, transform, train_ratio=0.7, val_ratio=0.15, test_ratio=0.15, batch_size=128, shuffle=True, random_seed=42): \n",
    "    \n",
    "    \"\"\"\n",
    "    划分数据集为训练集、验证集和测试集，并返回对应的DataLoader。\n",
    "\n",
    "    参数:\n",
    "    - root_dir: 数据集根目录\n",
    "    - transform: 数据预处理变换\n",
    "    - train_ratio: 训练集比例\n",
    "    - val_ratio: 验证集比例\n",
    "    - test_ratio: 测试集比例\n",
    "    - batch_size: 批次大小\n",
    "    - shuffle: 是否打乱数据\n",
    "    - random_seed: 随机种子，用于保证结果可重复\n",
    "\n",
    "    返回:\n",
    "    - train_loader: 训练集DataLoader\n",
    "    - val_loader: 验证集DataLoader\n",
    "    - test_loader: 测试集DataLoader\n",
    "    - full_dataset: 原始的ImageFolder数据集\n",
    "    \"\"\"\n",
    "    # 确保比例之和为1\n",
    "    assert train_ratio + val_ratio + test_ratio == 1, \"比例之和必须为1\"  \n",
    "\n",
    "    full_dataset = datasets.ImageFolder(root=root_dir, transform=transform)  \n",
    "    targets = full_dataset.targets  \n",
    "    \n",
    "    class_indices = {}  \n",
    "    for idx, label in enumerate(targets):  \n",
    "        class_indices.setdefault(label, []).append(idx)  \n",
    "    \n",
    "    train_indices = []  \n",
    "    val_indices = []  \n",
    "    test_indices = []  \n",
    "    \n",
    "    generator = torch.Generator().manual_seed(random_seed)  \n",
    "    \n",
    "    for label, indices in class_indices.items():  \n",
    "        indices = torch.tensor(indices)  \n",
    "        indices = indices[torch.randperm(len(indices), generator=generator)]  \n",
    "        \n",
    "        n_total = len(indices)  \n",
    "        n_train = int(train_ratio * n_total)  \n",
    "        n_val = int(val_ratio * n_total)  \n",
    "        n_test = n_total - n_train - n_val  \n",
    "        \n",
    "        train_indices.extend(indices[:n_train].tolist())  \n",
    "        val_indices.extend(indices[n_train:n_train+n_val].tolist())  \n",
    "        test_indices.extend(indices[n_train+n_val:].tolist())  \n",
    "    \n",
    "    train_subset = Subset(full_dataset, train_indices)  \n",
    "    val_subset = Subset(full_dataset, val_indices)  \n",
    "    test_subset = Subset(full_dataset, test_indices)  \n",
    "    \n",
    "    train_loader = DataLoader(train_subset, batch_size=batch_size, shuffle=shuffle)  \n",
    "    val_loader = DataLoader(val_subset, batch_size=batch_size, shuffle=False)  \n",
    "    test_loader = DataLoader(test_subset, batch_size=batch_size, shuffle=False)  \n",
    "\n",
    "    # 统计每个类别数量的函数  \n",
    "    def count_classes(indices, targets):  \n",
    "        label_counts = Counter()  \n",
    "        for idx in indices:  \n",
    "            label_counts[targets[idx]] += 1  \n",
    "        return label_counts  \n",
    "\n",
    "    # 打印每个类别样本数  \n",
    "    train_counts = count_classes(train_indices, targets)  \n",
    "    val_counts = count_classes(val_indices, targets)  \n",
    "    test_counts = count_classes(test_indices, targets)  \n",
    "    \n",
    "    classes = full_dataset.classes  # 类别名称列表  \n",
    "    \n",
    "    print(\"训练集每个类别样本数：\")  \n",
    "    for label_idx, count in sorted(train_counts.items()):  \n",
    "        print(f\"类别 {classes[label_idx]}: {count}\")  \n",
    "        \n",
    "    print(\"\\n验证集每个类别样本数：\")  \n",
    "    for label_idx, count in sorted(val_counts.items()):  \n",
    "        print(f\"类别 {classes[label_idx]}: {count}\")  \n",
    "        \n",
    "    print(\"\\n测试集每个类别样本数：\")  \n",
    "    for label_idx, count in sorted(test_counts.items()):  \n",
    "        print(f\"类别 {classes[label_idx]}: {count}\")  \n",
    "\n",
    "    return train_loader, val_loader, test_loader, full_dataset \n"
   ],
   "id": "fe1425714846c0e2",
   "outputs": [],
   "execution_count": 20
  },
  {
   "metadata": {
    "ExecuteTime": {
     "end_time": "2025-04-22T04:08:09.956107100Z",
     "start_time": "2025-04-22T04:08:09.793242200Z"
    }
   },
   "cell_type": "code",
   "source": [
    "# 使用函数划分数据集\n",
    "train_loader, val_loader, test_loader, full_dataset = split_dataset(\n",
    "    root_dir=ROOT_DIR,\n",
    "    transform=transform,\n",
    "    train_ratio=0.7,\n",
    "    val_ratio=0.15,\n",
    "    test_ratio=0.15,\n",
    "    batch_size=BATCH_SIZE,\n",
    "    shuffle=True,\n",
    "    random_seed=42\n",
    ")\n",
    "\n",
    "# 打印数据集大小\n",
    "print(f\"训练集大小: {len(train_loader.dataset)}\")\n",
    "print(f\"验证集大小: {len(val_loader.dataset)}\")\n",
    "print(f\"测试集大小: {len(test_loader.dataset)}\")\n",
    "\n",
    "# 获取类别数量\n",
    "label_num = len(full_dataset.class_to_idx)\n",
    "\n",
    "# 数据可视化\n",
    "to_img = T.ToPILImage()\n",
    "a = to_img(train_loader.dataset[0][0])  # size=[1, 32, 32]\n",
    "plt.imshow(a)\n",
    "plt.axis('off')\n",
    "plt.show()\n",
    "\n",
    "\n",
    "# 定义CNN模型\n",
    "class CNN(nn.Module):\n",
    "    def __init__(self):\n",
    "        super(CNN, self).__init__()\n",
    "        self.Conv1 = nn.Sequential(\n",
    "            nn.Conv2d(in_channels=1, out_channels=16, kernel_size=5, stride=1, padding=2),\n",
    "            nn.ReLU(),\n",
    "            nn.MaxPool2d(kernel_size=2)\n",
    "        )\n",
    "        self.Conv2 = nn.Sequential(\n",
    "            nn.Conv2d(16, 32, 5, 1, 2),\n",
    "            nn.Dropout(p=0.2),\n",
    "            nn.ReLU(),\n",
    "            nn.MaxPool2d(kernel_size=2)\n",
    "        )\n",
    "        self.Linear = nn.Sequential(\n",
    "            nn.Linear(32*7*7, 400),\n",
    "            nn.Dropout(p=0.2),\n",
    "            nn.ReLU(),\n",
    "            nn.Linear(400, 80),\n",
    "            nn.ReLU(),\n",
    "            nn.Linear(80, label_num),\n",
    "        )\n",
    "\n",
    "    def forward(self, input):\n",
    "        input = self.Conv1(input)\n",
    "        input = self.Conv2(input)\n",
    "        input = input.view(input.size(0), -1)\n",
    "        output = self.Linear(input)\n",
    "        return output\n",
    "\n",
    "cnn = CNN()\n",
    "print(cnn)\n",
    "\n",
    "# 定义优化器\n",
    "optimizer = torch.optim.Adam(cnn.parameters(), lr=LR)\n",
    "# 定义损失函数\n",
    "loss_func = nn.CrossEntropyLoss()"
   ],
   "id": "f9442b6646ea1ee5",
   "outputs": [
    {
     "name": "stdout",
     "output_type": "stream",
     "text": [
      "训练集每个类别样本数：\n",
      "类别 B: 700\n",
      "类别 C: 700\n",
      "类别 D: 700\n",
      "类别 E: 700\n",
      "类别 F: 700\n",
      "类别 G: 700\n",
      "类别 H: 700\n",
      "类别 I: 700\n",
      "类别 J: 700\n",
      "类别 K: 700\n",
      "类别 L: 700\n",
      "类别 M: 700\n",
      "类别 N: 700\n",
      "类别 O: 700\n",
      "类别 P: 700\n",
      "类别 Q: 700\n",
      "类别 R: 700\n",
      "类别 S: 700\n",
      "类别 T: 700\n",
      "类别 U: 700\n",
      "类别 V: 700\n",
      "类别 W: 700\n",
      "类别 X: 700\n",
      "类别 Y: 700\n",
      "类别 Z: 700\n",
      "类别 a_: 700\n",
      "\n",
      "验证集每个类别样本数：\n",
      "类别 B: 150\n",
      "类别 C: 150\n",
      "类别 D: 150\n",
      "类别 E: 150\n",
      "类别 F: 150\n",
      "类别 G: 150\n",
      "类别 H: 150\n",
      "类别 I: 150\n",
      "类别 J: 150\n",
      "类别 K: 150\n",
      "类别 L: 150\n",
      "类别 M: 150\n",
      "类别 N: 150\n",
      "类别 O: 150\n",
      "类别 P: 150\n",
      "类别 Q: 150\n",
      "类别 R: 150\n",
      "类别 S: 150\n",
      "类别 T: 150\n",
      "类别 U: 150\n",
      "类别 V: 150\n",
      "类别 W: 150\n",
      "类别 X: 150\n",
      "类别 Y: 150\n",
      "类别 Z: 150\n",
      "类别 a_: 150\n",
      "\n",
      "测试集每个类别样本数：\n",
      "类别 B: 150\n",
      "类别 C: 150\n",
      "类别 D: 150\n",
      "类别 E: 150\n",
      "类别 F: 150\n",
      "类别 G: 150\n",
      "类别 H: 150\n",
      "类别 I: 150\n",
      "类别 J: 150\n",
      "类别 K: 150\n",
      "类别 L: 150\n",
      "类别 M: 150\n",
      "类别 N: 150\n",
      "类别 O: 150\n",
      "类别 P: 150\n",
      "类别 Q: 150\n",
      "类别 R: 150\n",
      "类别 S: 150\n",
      "类别 T: 150\n",
      "类别 U: 150\n",
      "类别 V: 150\n",
      "类别 W: 150\n",
      "类别 X: 150\n",
      "类别 Y: 150\n",
      "类别 Z: 150\n",
      "类别 a_: 150\n",
      "训练集大小: 18200\n",
      "验证集大小: 3900\n",
      "测试集大小: 3900\n"
     ]
    },
    {
     "data": {
      "text/plain": "<Figure size 640x480 with 1 Axes>",
      "image/png": "[encoded data removed]"
     },
     "metadata": {},
     "output_type": "display_data"
    },
    {
     "name": "stdout",
     "output_type": "stream",
     "text": [
      "CNN(\n",
      "  (Conv1): Sequential(\n",
      "    (0): Conv2d(1, 16, kernel_size=(5, 5), stride=(1, 1), padding=(2, 2))\n",
      "    (1): ReLU()\n",
      "    (2): MaxPool2d(kernel_size=2, stride=2, padding=0, dilation=1, ceil_mode=False)\n",
      "  )\n",
      "  (Conv2): Sequential(\n",
      "    (0): Conv2d(16, 32, kernel_size=(5, 5), stride=(1, 1), padding=(2, 2))\n",
      "    (1): Dropout(p=0.2, inplace=False)\n",
      "    (2): ReLU()\n",
      "    (3): MaxPool2d(kernel_size=2, stride=2, padding=0, dilation=1, ceil_mode=False)\n",
      "  )\n",
      "  (Linear): Sequential(\n",
      "    (0): Linear(in_features=1568, out_features=400, bias=True)\n",
      "    (1): Dropout(p=0.2, inplace=False)\n",
      "    (2): ReLU()\n",
      "    (3): Linear(in_features=400, out_features=80, bias=True)\n",
      "    (4): ReLU()\n",
      "    (5): Linear(in_features=80, out_features=26, bias=True)\n",
      "  )\n",
      ")\n"
     ]
    }
   ],
   "execution_count": 21
  },
  {
   "metadata": {
    "ExecuteTime": {
     "end_time": "2025-04-22T04:08:09.956107100Z",
     "start_time": "2025-04-22T04:08:09.873395200Z"
    }
   },
   "cell_type": "code",
   "source": [
    "# 轻量CNN结构？\n",
    "class SimpleAttention(nn.Module):\n",
    "    def __init__(self, channel, reduction=16):\n",
    "        super().__init__()\n",
    "        # Squeeze操作：全局平均池化\n",
    "        self.avg_pool = nn.AdaptiveAvgPool2d(1)\n",
    "        # Excitation操作：两个全连接层\n",
    "        self.fc = nn.Sequential(\n",
    "            nn.Linear(channel, channel // reduction, bias=False),\n",
    "            nn.ReLU(inplace=True),\n",
    "            nn.Linear(channel // reduction, channel, bias=False),\n",
    "            nn.Sigmoid()\n",
    "        )\n",
    "\n",
    "    def forward(self, x):\n",
    "        b, c, _, _ = x.size()  # 输入形状 [B, C, H, W]\n",
    "        # Squeeze\n",
    "        y = self.avg_pool(x).view(b, c)  # [B, C]\n",
    "        # Excitation\n",
    "        y = self.fc(y).view(b, c, 1, 1)  # [B, C, 1, 1]\n",
    "        # Reweight\n",
    "        return x * y.expand_as(x)  # 广播乘法 [B, C, H, W]\n"
   ],
   "id": "808f797243c4d9c1",
   "outputs": [],
   "execution_count": 22
  },
  {
   "metadata": {
    "ExecuteTime": {
     "end_time": "2025-04-22T04:08:09.956107100Z",
     "start_time": "2025-04-22T04:08:09.877063100Z"
    }
   },
   "cell_type": "code",
   "source": [
    "# 自注意力模块\n",
    "class SelfAttention2D(nn.Module):\n",
    "    def __init__(self, in_channels):\n",
    "        super().__init__()\n",
    "        self.query = nn.Conv2d(in_channels, in_channels // 8, kernel_size=1)\n",
    "        self.key   = nn.Conv2d(in_channels, in_channels // 8, kernel_size=1)\n",
    "        self.value = nn.Conv2d(in_channels, in_channels, kernel_size=1)\n",
    "        self.gamma = nn.Parameter(torch.zeros(1))  # 可学习的缩放系数\n",
    "\n",
    "    def forward(self, x):\n",
    "        B, C, H, W = x.shape\n",
    "        proj_q = self.query(x).view(B, -1, H * W)          # B x C1 x N\n",
    "        proj_k = self.key(x).view(B, -1, H * W)            # B x C1 x N\n",
    "        proj_v = self.value(x).view(B, -1, H * W)          # B x C  x N\n",
    "\n",
    "        attention = torch.bmm(proj_q.permute(0, 2, 1), proj_k)  # B x N x N\n",
    "        attention = torch.softmax(attention, dim=-1)\n",
    "\n",
    "        out = torch.bmm(proj_v, attention.permute(0, 2, 1))     # B x C x N\n",
    "        out = out.view(B, C, H, W)\n",
    "\n",
    "        return self.gamma * out + x\n",
    "\n",
    "# class CBAM(nn.Module):\n",
    "#     def __init__(self, channels, reduction=16, kernel_size=7):\n",
    "#         super().__init__()\n",
    "#         # 通道注意力\n",
    "#         self.channel_att = nn.Sequential(\n",
    "#             nn.AdaptiveAvgPool2d(1),\n",
    "#             nn.Conv2d(channels, channels // reduction, 1, bias=False),\n",
    "#             nn.ReLU(),\n",
    "#             nn.Conv2d(channels // reduction, channels, 1, bias=False),\n",
    "#             nn.Sigmoid()\n",
    "#         )\n",
    "#         # 空间注意力\n",
    "#         self.spatial_att = nn.Sequential(\n",
    "#             nn.Conv2d(2, 1, kernel_size, padding=kernel_size // 2, bias=False),\n",
    "#             nn.Sigmoid()\n",
    "#         )\n",
    "#\n",
    "#     def forward(self, x):\n",
    "#         # 通道注意力\n",
    "#         ca = self.channel_att(x)\n",
    "#         x = x * ca\n",
    "#\n",
    "#         # 空间注意力\n",
    "#         max_pool = torch.max(x, dim=1, keepdim=True)[0]\n",
    "#         avg_pool = torch.mean(x, dim=1, keepdim=True)\n",
    "#         sa_input = torch.cat([avg_pool, max_pool], dim=1)\n",
    "#         sa = self.spatial_att(sa_input)\n",
    "#         x = x * sa\n",
    "#\n",
    "#         return x\n"
   ],
   "id": "e5fa26a8ceadf759",
   "outputs": [],
   "execution_count": 23
  },
  {
   "metadata": {
    "ExecuteTime": {
     "end_time": "2025-04-22T04:08:09.956107100Z",
     "start_time": "2025-04-22T04:08:09.884215500Z"
    }
   },
   "cell_type": "code",
   "source": [
    "# 添加残差模块\n",
    "class ResidualBlock(nn.Module):\n",
    "    def __init__(self, in_channels, out_channels, use_attention=False):\n",
    "        super().__init__()\n",
    "        self.conv = nn.Sequential(\n",
    "            nn.Conv2d(in_channels, in_channels//2, 3, padding=1),\n",
    "            nn.BatchNorm2d(in_channels//2),\n",
    "            nn.ReLU(),\n",
    "            nn.Conv2d(in_channels//2, in_channels//2, 3, padding=1),\n",
    "            nn.BatchNorm2d(in_channels//2),\n",
    "            nn.ReLU(),\n",
    "            nn.Conv2d(in_channels//2, out_channels, 3, padding=1),\n",
    "            nn.BatchNorm2d(out_channels)\n",
    "        )\n",
    "        #调用注意力机制\n",
    "        self.attn = SimpleAttention(out_channels) if use_attention else nn.Identity()\n",
    "        # self.attn = CBAM(out_channels) if use_attention else nn.Identity()\n",
    "\n",
    "        self.shortcut = nn.Sequential()\n",
    "        if in_channels != out_channels:\n",
    "            self.shortcut = nn.Sequential(\n",
    "                nn.Conv2d(in_channels, out_channels, kernel_size=1),\n",
    "                nn.BatchNorm2d(out_channels)\n",
    "            )\n",
    "\n",
    "        self.relu = nn.ReLU()\n",
    "\n",
    "    def forward(self, x):\n",
    "        res = self.shortcut(x)\n",
    "        out = self.conv(x)\n",
    "        out = self.attn(out)\n",
    "        return self.relu(out + res)"
   ],
   "id": "8882f3328c105096",
   "outputs": [],
   "execution_count": 24
  },
  {
   "metadata": {
    "ExecuteTime": {
     "end_time": "2025-04-22T04:08:09.956107100Z",
     "start_time": "2025-04-22T04:08:09.893161400Z"
    }
   },
   "cell_type": "code",
   "source": [
    "# 加入倒残差模块\n",
    "class InvertedResidualBlock(nn.Module):\n",
    "    def __init__(self, in_channels, out_channels, expansion_ratio=6, stride=1, use_attention=False):\n",
    "        super().__init__()\n",
    "        hidden_dim = in_channels * expansion_ratio\n",
    "        self.use_res_connect = (stride == 1 and in_channels == out_channels)\n",
    "\n",
    "        self.block = nn.Sequential(\n",
    "            nn.Conv2d(in_channels, hidden_dim, kernel_size=1, bias=False),\n",
    "            nn.BatchNorm2d(hidden_dim),\n",
    "            nn.ReLU6(inplace=True),\n",
    "            nn.Conv2d(hidden_dim, hidden_dim, kernel_size=3, stride=stride, padding=1, groups=hidden_dim, bias=False),\n",
    "            nn.BatchNorm2d(hidden_dim),\n",
    "            nn.ReLU6(inplace=True),\n",
    "            nn.Conv2d(hidden_dim, out_channels, kernel_size=1, bias=False),\n",
    "            nn.BatchNorm2d(out_channels),\n",
    "        )\n",
    "        # 调用注意力模块\n",
    "        # self.attn = CBAM(out_channels) if use_attention else nn.Identity()\n",
    "        self.attn = SimpleAttention(out_channels) if use_attention else nn.Identity()\n",
    "\n",
    "    def forward(self, x):\n",
    "        out = self.block(x)\n",
    "        out = self.attn(out)\n",
    "        if self.use_res_connect:\n",
    "            return x + out\n",
    "        else:\n",
    "            return out\n"
   ],
   "id": "f50e469f27c984fa",
   "outputs": [],
   "execution_count": 25
  },
  {
   "metadata": {
    "ExecuteTime": {
     "end_time": "2025-04-22T04:08:09.956107100Z",
     "start_time": "2025-04-22T04:08:09.898600900Z"
    }
   },
   "cell_type": "code",
   "source": [
    "# # CNN与注意力模块的结合\n",
    "# class CNNWithAttention(nn.Module):\n",
    "#     def __init__(self, num_classes):\n",
    "#         super().__init__()\n",
    "#         self.stem = nn.Sequential(\n",
    "#             nn.Conv2d(1, 32, kernel_size=3, stride=1, padding=1),\n",
    "#             nn.BatchNorm2d(32),\n",
    "#             nn.ReLU(),\n",
    "#             nn.MaxPool2d(2)  # → 16x16\n",
    "#         )\n",
    "#         self.extra_conv = nn.Sequential(\n",
    "#             nn.Conv2d(32, 32, kernel_size=3, padding=1),\n",
    "#             nn.BatchNorm2d(32),\n",
    "#             nn.ReLU())\n",
    "#\n",
    "#         self.block1 = ResidualBlock(32, 64, use_attention=True)\n",
    "#         self.inverted_block = InvertedResidualBlock(64, 64, expansion_ratio=6, use_attention=True)  # 倒残差模块\n",
    "#         self.block2 = ResidualBlock(64, 128, use_attention=True)\n",
    "#         self.pool2 = nn.MaxPool2d(2)  # 14x14 → 7x7\n",
    "#         self.block3 = ResidualBlock(128, 128)\n",
    "#         self.attention = SelfAttention2D(128) # 添加自注意力模块\n",
    "#\n",
    "#         self.classifier = nn.Sequential(\n",
    "#             nn.AdaptiveAvgPool2d((1, 1)),\n",
    "#             nn.Flatten(),\n",
    "#             nn.Dropout(0.3),\n",
    "#             nn.Linear(128, 64),\n",
    "#             nn.ReLU(),\n",
    "#             nn.Dropout(0.3),\n",
    "#             nn.Linear(64, num_classes)\n",
    "#         )\n",
    "#\n",
    "#     def forward(self, x):\n",
    "#         x = self.stem(x)\n",
    "#         x = self.extra_conv(x)\n",
    "#         x = self.block1(x)\n",
    "#         x = self.inverted_block(x)  # 倒残差模块\n",
    "#         x = self.block2(x)\n",
    "#         x = self.pool2(x)\n",
    "#         x = self.block3(x)\n",
    "#         x = self.attention(x)\n",
    "#         return self.classifier(x)\n"
   ],
   "id": "2720e841c3bfba97",
   "outputs": [],
   "execution_count": 26
  },
  {
   "cell_type": "markdown",
   "source": [
    "### 最终模型结构"
   ],
   "metadata": {
    "collapsed": false
   },
   "id": "322455b01ad35d8e"
  },
  {
   "metadata": {
    "ExecuteTime": {
     "end_time": "2025-04-22T04:08:09.956107100Z",
     "start_time": "2025-04-22T04:08:09.904823800Z"
    }
   },
   "cell_type": "code",
   "source": [
    "class CNNWithAttention(nn.Module):\n",
    "    def __init__(self, num_classes, use_attention=True):\n",
    "        super().__init__()\n",
    "        self.conv1 = nn.Sequential(\n",
    "            nn.Conv2d(in_channels=1, out_channels=32, kernel_size=5, stride=1, padding=2),\n",
    "            nn.BatchNorm2d(32),\n",
    "            nn.LeakyReLU(),\n",
    "            nn.MaxPool2d(2)\n",
    "        )\n",
    "        self.conv2 = nn.Sequential(\n",
    "            nn.Conv2d(32,64,kernel_size=5, stride=1, padding=2),\n",
    "            nn.BatchNorm2d(64),\n",
    "            nn.LeakyReLU(),\n",
    "            nn.MaxPool2d(2)\n",
    "        )\n",
    "\n",
    "         # 插入残差和倒残差模块\n",
    "        if use_attention:\n",
    "            self.residual = ResidualBlock(64, 64, use_attention=True)\n",
    "            self.inverted_residual = InvertedResidualBlock(64, 64, expansion_ratio=6, use_attention=True) \n",
    "            self.attention=SelfAttention2D(64)\n",
    "        else:\n",
    "            self.residual = ResidualBlock(64, 64, use_attention=False)\n",
    "            self.inverted_residual = InvertedResidualBlock(64, 64, expansion_ratio=6, use_attention=False)\n",
    "            self.attention=nn.Identity()\n",
    "            \n",
    "        self.fcon1=nn.Sequential(\n",
    "            nn.AdaptiveAvgPool2d(1),  # 输出形状 [B, 64, 1, 1]\n",
    "            nn.Flatten(),             # 展平为 [B, 64]\n",
    "            nn.Dropout(0.4),\n",
    "            nn.Linear(64, 148),       # 输入维度64\n",
    "            nn.LeakyReLU(),\n",
    "        )\n",
    "        self.fcon2=nn.Linear(148, num_classes)\n",
    "        \n",
    "\n",
    "    def forward(self, x):\n",
    "        x = self.conv1(x)\n",
    "        x = self.conv2(x)\n",
    "        x = self.residual(x)\n",
    "        # x = self.inverted_residual(x)\n",
    "        x = self.attention(x)\n",
    "        x = self.fcon1(x)\n",
    "        x = self.fcon2(x)\n",
    "        return x\n",
    "    \n",
    "cnn_with_attention = CNNWithAttention(num_classes=label_num, use_attention=True)\n",
    "print(cnn_with_attention)"
   ],
   "id": "c65b534c5e4457e4",
   "outputs": [
    {
     "name": "stdout",
     "output_type": "stream",
     "text": [
      "CNNWithAttention(\n",
      "  (conv1): Sequential(\n",
      "    (0): Conv2d(1, 32, kernel_size=(5, 5), stride=(1, 1), padding=(2, 2))\n",
      "    (1): BatchNorm2d(32, eps=1e-05, momentum=0.1, affine=True, track_running_stats=True)\n",
      "    (2): LeakyReLU(negative_slope=0.01)\n",
      "    (3): MaxPool2d(kernel_size=2, stride=2, padding=0, dilation=1, ceil_mode=False)\n",
      "  )\n",
      "  (conv2): Sequential(\n",
      "    (0): Conv2d(32, 64, kernel_size=(5, 5), stride=(1, 1), padding=(2, 2))\n",
      "    (1): BatchNorm2d(64, eps=1e-05, momentum=0.1, affine=True, track_running_stats=True)\n",
      "    (2): LeakyReLU(negative_slope=0.01)\n",
      "    (3): MaxPool2d(kernel_size=2, stride=2, padding=0, dilation=1, ceil_mode=False)\n",
      "  )\n",
      "  (residual): ResidualBlock(\n",
      "    (conv): Sequential(\n",
      "      (0): Conv2d(64, 32, kernel_size=(3, 3), stride=(1, 1), padding=(1, 1))\n",
      "      (1): BatchNorm2d(32, eps=1e-05, momentum=0.1, affine=True, track_running_stats=True)\n",
      "      (2): ReLU()\n",
      "      (3): Conv2d(32, 32, kernel_size=(3, 3), stride=(1, 1), padding=(1, 1))\n",
      "      (4): BatchNorm2d(32, eps=1e-05, momentum=0.1, affine=True, track_running_stats=True)\n",
      "      (5): ReLU()\n",
      "      (6): Conv2d(32, 64, kernel_size=(3, 3), stride=(1, 1), padding=(1, 1))\n",
      "      (7): BatchNorm2d(64, eps=1e-05, momentum=0.1, affine=True, track_running_stats=True)\n",
      "    )\n",
      "    (attn): SimpleAttention(\n",
      "      (avg_pool): AdaptiveAvgPool2d(output_size=1)\n",
      "      (fc): Sequential(\n",
      "        (0): Linear(in_features=64, out_features=4, bias=False)\n",
      "        (1): ReLU(inplace=True)\n",
      "        (2): Linear(in_features=4, out_features=64, bias=False)\n",
      "        (3): Sigmoid()\n",
      "      )\n",
      "    )\n",
      "    (shortcut): Sequential()\n",
      "    (relu): ReLU()\n",
      "  )\n",
      "  (inverted_residual): InvertedResidualBlock(\n",
      "    (block): Sequential(\n",
      "      (0): Conv2d(64, 384, kernel_size=(1, 1), stride=(1, 1), bias=False)\n",
      "      (1): BatchNorm2d(384, eps=1e-05, momentum=0.1, affine=True, track_running_stats=True)\n",
      "      (2): ReLU6(inplace=True)\n",
      "      (3): Conv2d(384, 384, kernel_size=(3, 3), stride=(1, 1), padding=(1, 1), groups=384, bias=False)\n",
      "      (4): BatchNorm2d(384, eps=1e-05, momentum=0.1, affine=True, track_running_stats=True)\n",
      "      (5): ReLU6(inplace=True)\n",
      "      (6): Conv2d(384, 64, kernel_size=(1, 1), stride=(1, 1), bias=False)\n",
      "      (7): BatchNorm2d(64, eps=1e-05, momentum=0.1, affine=True, track_running_stats=True)\n",
      "    )\n",
      "    (attn): SimpleAttention(\n",
      "      (avg_pool): AdaptiveAvgPool2d(output_size=1)\n",
      "      (fc): Sequential(\n",
      "        (0): Linear(in_features=64, out_features=4, bias=False)\n",
      "        (1): ReLU(inplace=True)\n",
      "        (2): Linear(in_features=4, out_features=64, bias=False)\n",
      "        (3): Sigmoid()\n",
      "      )\n",
      "    )\n",
      "  )\n",
      "  (attention): SelfAttention2D(\n",
      "    (query): Conv2d(64, 8, kernel_size=(1, 1), stride=(1, 1))\n",
      "    (key): Conv2d(64, 8, kernel_size=(1, 1), stride=(1, 1))\n",
      "    (value): Conv2d(64, 64, kernel_size=(1, 1), stride=(1, 1))\n",
      "  )\n",
      "  (fcon1): Sequential(\n",
      "    (0): AdaptiveAvgPool2d(output_size=1)\n",
      "    (1): Flatten(start_dim=1, end_dim=-1)\n",
      "    (2): Dropout(p=0.4, inplace=False)\n",
      "    (3): Linear(in_features=64, out_features=148, bias=True)\n",
      "    (4): LeakyReLU(negative_slope=0.01)\n",
      "  )\n",
      "  (fcon2): Linear(in_features=148, out_features=26, bias=True)\n",
      ")\n"
     ]
    }
   ],
   "execution_count": 27
  },
  {
   "metadata": {
    "ExecuteTime": {
     "end_time": "2025-04-22T04:08:09.956107100Z",
     "start_time": "2025-04-22T04:08:09.916549400Z"
    }
   },
   "cell_type": "code",
   "source": [
    "# 训练与验证函数\n",
    "def train_and_validate(model, train_loader, val_loader, epochs, device='cpu',\n",
    "                       save_path='resnet18_best_model.pth', save_best_only=True, patience=15, auto_lr = False):\n",
    "    model = model.to(device)\n",
    "    optimizer = optim.Adam(model.parameters(), lr=LR)\n",
    "    loss_func = nn.CrossEntropyLoss()\n",
    "    writer = SummaryWriter(log_dir=LOG_DIR)\n",
    "\n",
    "    best_val_top1_acc = 0.0  # 用于追踪验证集 Top-1 准确率的最佳值\n",
    "    no_improve_count = 0\n",
    "\n",
    "    scheduler = ReduceLROnPlateau(optimizer, mode='max', factor=0.5, patience=3)\n",
    "\n",
    "    for epoch in range(epochs):\n",
    "        model.train()\n",
    "        total_loss = 0.0\n",
    "        top1_correct = 0\n",
    "        top3_correct = 0\n",
    "        total = 0\n",
    "\n",
    "        # --- 训练阶段 ---\n",
    "        for batch_x, batch_y in train_loader:\n",
    "            batch_x, batch_y = batch_x.to(device), batch_y.to(device)\n",
    "\n",
    "            outputs = model(batch_x)\n",
    "            loss = loss_func(outputs, batch_y)\n",
    "\n",
    "            optimizer.zero_grad()\n",
    "            loss.backward()\n",
    "            optimizer.step()\n",
    "\n",
    "            total_loss += loss.item() * batch_x.size(0)\n",
    "\n",
    "            # Top-1\n",
    "            _, top1_pred = torch.max(outputs, 1)\n",
    "            top1_correct += (top1_pred == batch_y).sum().item()\n",
    "\n",
    "            # Top-3\n",
    "            _, top3_pred_indices = torch.topk(outputs, 3, dim=1)\n",
    "            top3_correct += torch.sum(top3_pred_indices == batch_y.view(-1, 1).expand_as(top3_pred_indices)).item()\n",
    "\n",
    "            total += batch_y.size(0)\n",
    "\n",
    "        avg_loss = total_loss / total\n",
    "        train_top1_acc = top1_correct / total\n",
    "        train_top3_acc = top3_correct / total\n",
    "\n",
    "        # --- 验证阶段 ---\n",
    "        model.eval()\n",
    "        val_top1_correct = 0\n",
    "        val_top3_correct = 0\n",
    "        val_total = 0\n",
    "        val_loss = 0.0\n",
    "\n",
    "        with torch.no_grad():\n",
    "            for val_x, val_y in val_loader:\n",
    "                val_x, val_y = val_x.to(device), val_y.to(device)\n",
    "                val_outputs = model(val_x)\n",
    "                val_loss += loss_func(val_outputs, val_y).item() * val_x.size(0)\n",
    "\n",
    "                # Top-1\n",
    "                _, val_top1_pred = torch.max(val_outputs, 1)\n",
    "                val_top1_correct += (val_top1_pred == val_y).sum().item()\n",
    "\n",
    "                # Top-3\n",
    "                _, val_top3_pred_indices = torch.topk(val_outputs, 3, dim=1)\n",
    "                val_top3_correct += torch.sum(val_top3_pred_indices == val_y.view(-1, 1).expand_as(val_top3_pred_indices)).item()\n",
    "\n",
    "                val_total += val_y.size(0)\n",
    "\n",
    "        avg_val_loss = val_loss / val_total\n",
    "        val_top1_acc = val_top1_correct / val_total\n",
    "        val_top3_acc = val_top3_correct / val_total\n",
    "\n",
    "        if auto_lr:\n",
    "            scheduler.step(val_top1_acc)\n",
    "\n",
    "        # --- TensorBoard日志记录 ---\n",
    "        writer.add_scalar(\"Loss/train\", avg_loss, epoch)\n",
    "        writer.add_scalar(\"Accuracy/train_top1\", train_top1_acc, epoch)\n",
    "        writer.add_scalar(\"Accuracy/train_top3\", train_top3_acc, epoch)\n",
    "        writer.add_scalar(\"Loss/val\", avg_val_loss, epoch)\n",
    "        writer.add_scalar(\"Accuracy/val_top1\", val_top1_acc, epoch)\n",
    "        writer.add_scalar(\"Accuracy/val_top3\", val_top3_acc, epoch)\n",
    "\n",
    "        # --- 控制台输出 ---\n",
    "        print(f\"Epoch [{epoch+1}/{epochs}] Loss: {avg_loss:.4f}, \"\n",
    "              f\"Train Top-1 Acc: {train_top1_acc:.4f}, Train Top-3 Acc: {train_top3_acc:.4f}, \"\n",
    "              f\"Val Top-1 Acc: {val_top1_acc:.4f}, Val Top-3 Acc: {val_top3_acc:.4f}\")\n",
    "\n",
    "        # --- 保存最佳模型 ---\n",
    "        if val_top1_acc > best_val_top1_acc:\n",
    "            best_val_top1_acc = val_top1_acc\n",
    "            no_improve_count = 0\n",
    "            if save_best_only:\n",
    "                torch.save(model.state_dict(), save_path)\n",
    "                print(f\"✅ 新的最佳模型已保存，Val Top-1 Acc: {val_top1_acc:.4f}\")\n",
    "        else:\n",
    "            no_improve_count += 1\n",
    "\n",
    "        # --- Early Stopping ---\n",
    "        if no_improve_count >= patience:\n",
    "            print(f\"⏳ 验证集Top-1准确率在连续 {patience} 轮未提升，训练提前终止。\")\n",
    "            break\n",
    "\n",
    "        sys.stdout.flush()\n",
    "\n",
    "    writer.close()"
   ],
   "id": "d194f2ee805c6626",
   "outputs": [],
   "execution_count": 28
  },
  {
   "cell_type": "markdown",
   "source": [
    "### 有注意力机制 有数据增强"
   ],
   "metadata": {
    "collapsed": false
   },
   "id": "beedf2bf3d854296"
  },
  {
   "cell_type": "markdown",
   "source": [
    "#### 数据展示"
   ],
   "metadata": {
    "collapsed": false
   },
   "id": "c1ef8c606c6c6209"
  },
  {
   "cell_type": "code",
   "execution_count": null,
   "outputs": [],
   "source": [
    "transform = AlbumentationsTransform()  # 使用数据增强\n",
    "\n",
    "train_loader, val_loader, test_loader, full_dataset = split_dataset(\n",
    "    root_dir=ROOT_DIR,\n",
    "    transform=transform,\n",
    "    train_ratio=0.7,\n",
    "    val_ratio=0.15,\n",
    "    test_ratio=0.15,\n",
    "    batch_size=BATCH_SIZE,\n",
    "    shuffle=True,\n",
    "    random_seed=42\n",
    ")\n",
    "\n",
    "# 打印数据集大小\n",
    "print(f\"训练集大小: {len(train_loader.dataset)}\")\n",
    "print(f\"验证集大小: {len(val_loader.dataset)}\")\n",
    "print(f\"测试集大小: {len(test_loader.dataset)}\")\n",
    "\n",
    "# 获取类别数量\n",
    "label_num = len(full_dataset.class_to_idx)\n",
    "\n",
    "# 数据可视化\n",
    "to_img = T.ToPILImage()\n",
    "a = to_img(train_loader.dataset[0][0])  # size=[1, 32, 32]\n",
    "plt.imshow(a)\n",
    "plt.axis('off')\n",
    "plt.show()"
   ],
   "metadata": {
    "collapsed": false
   },
   "id": "7012b7c46c24d6ee"
  },
  {
   "metadata": {
    "ExecuteTime": {
     "end_time": "2025-04-22T04:32:05.987356300Z",
     "start_time": "2025-04-22T04:08:09.924345800Z"
    }
   },
   "cell_type": "code",
   "source": [
    "device = torch.device(\"cuda\" if torch.cuda.is_available() else \"cpu\")\n",
    "print(f\"当前使用设备: {device}\")\n",
    "\n",
    "label_num = len(full_dataset.class_to_idx)\n",
    "model = CNNWithAttention(label_num, use_attention=True) # 调用模型\n",
    "\n",
    "train_and_validate(\n",
    "    model=model,\n",
    "    train_loader=train_loader,\n",
    "    val_loader=val_loader,\n",
    "    epochs=EPOCH,\n",
    "    device=device,\n",
    "    save_path=\"cnn_res_attention_best_with_data_augmentation.pth\",\n",
    ")\n",
    "\n",
    "print(\"训练结束。\")\n"
   ],
   "id": "7c73bc789582f738",
   "outputs": [
    {
     "name": "stdout",
     "output_type": "stream",
     "text": [
      "当前使用设备: cuda\n",
      "Epoch [1/500] Loss: 3.1713, Train Top-1 Acc: 0.0988, Train Top-3 Acc: 0.2414, Val Top-1 Acc: 0.2315, Val Top-3 Acc: 0.4923\n",
      "✅ 新的最佳模型已保存，Val Top-1 Acc: 0.2315\n",
      "Epoch [2/500] Loss: 2.7845, Train Top-1 Acc: 0.2188, Train Top-3 Acc: 0.4829, Val Top-1 Acc: 0.3544, Val Top-3 Acc: 0.6682\n",
      "✅ 新的最佳模型已保存，Val Top-1 Acc: 0.3544\n",
      "Epoch [3/500] Loss: 2.2942, Train Top-1 Acc: 0.3504, Train Top-3 Acc: 0.6685, Val Top-1 Acc: 0.5218, Val Top-3 Acc: 0.8015\n",
      "✅ 新的最佳模型已保存，Val Top-1 Acc: 0.5218\n",
      "Epoch [4/500] Loss: 1.8393, Train Top-1 Acc: 0.4842, Train Top-3 Acc: 0.7931, Val Top-1 Acc: 0.6018, Val Top-3 Acc: 0.8538\n",
      "✅ 新的最佳模型已保存，Val Top-1 Acc: 0.6018\n",
      "Epoch [5/500] Loss: 1.4807, Train Top-1 Acc: 0.5803, Train Top-3 Acc: 0.8628, Val Top-1 Acc: 0.7028, Val Top-3 Acc: 0.9113\n",
      "✅ 新的最佳模型已保存，Val Top-1 Acc: 0.7028\n",
      "Epoch [6/500] Loss: 1.2275, Train Top-1 Acc: 0.6456, Train Top-3 Acc: 0.8968, Val Top-1 Acc: 0.7390, Val Top-3 Acc: 0.9256\n",
      "✅ 新的最佳模型已保存，Val Top-1 Acc: 0.7390\n",
      "Epoch [7/500] Loss: 1.0339, Train Top-1 Acc: 0.6974, Train Top-3 Acc: 0.9236, Val Top-1 Acc: 0.7346, Val Top-3 Acc: 0.9215\n",
      "Epoch [8/500] Loss: 0.8993, Train Top-1 Acc: 0.7308, Train Top-3 Acc: 0.9359, Val Top-1 Acc: 0.7651, Val Top-3 Acc: 0.9379\n",
      "✅ 新的最佳模型已保存，Val Top-1 Acc: 0.7651\n",
      "Epoch [9/500] Loss: 0.7848, Train Top-1 Acc: 0.7677, Train Top-3 Acc: 0.9479, Val Top-1 Acc: 0.7818, Val Top-3 Acc: 0.9341\n",
      "✅ 新的最佳模型已保存，Val Top-1 Acc: 0.7818\n",
      "Epoch [10/500] Loss: 0.6972, Train Top-1 Acc: 0.7924, Train Top-3 Acc: 0.9566, Val Top-1 Acc: 0.8087, Val Top-3 Acc: 0.9556\n",
      "✅ 新的最佳模型已保存，Val Top-1 Acc: 0.8087\n",
      "Epoch [11/500] Loss: 0.6203, Train Top-1 Acc: 0.8156, Train Top-3 Acc: 0.9622, Val Top-1 Acc: 0.8233, Val Top-3 Acc: 0.9574\n",
      "✅ 新的最佳模型已保存，Val Top-1 Acc: 0.8233\n",
      "Epoch [12/500] Loss: 0.5875, Train Top-1 Acc: 0.8249, Train Top-3 Acc: 0.9620, Val Top-1 Acc: 0.8497, Val Top-3 Acc: 0.9654\n",
      "✅ 新的最佳模型已保存，Val Top-1 Acc: 0.8497\n",
      "Epoch [13/500] Loss: 0.5329, Train Top-1 Acc: 0.8401, Train Top-3 Acc: 0.9677, Val Top-1 Acc: 0.8413, Val Top-3 Acc: 0.9621\n",
      "Epoch [14/500] Loss: 0.4977, Train Top-1 Acc: 0.8463, Train Top-3 Acc: 0.9733, Val Top-1 Acc: 0.8528, Val Top-3 Acc: 0.9685\n",
      "✅ 新的最佳模型已保存，Val Top-1 Acc: 0.8528\n",
      "Epoch [15/500] Loss: 0.4692, Train Top-1 Acc: 0.8541, Train Top-3 Acc: 0.9740, Val Top-1 Acc: 0.7621, Val Top-3 Acc: 0.9513\n",
      "Epoch [16/500] Loss: 0.4501, Train Top-1 Acc: 0.8599, Train Top-3 Acc: 0.9736, Val Top-1 Acc: 0.8113, Val Top-3 Acc: 0.9505\n",
      "Epoch [17/500] Loss: 0.4226, Train Top-1 Acc: 0.8677, Train Top-3 Acc: 0.9771, Val Top-1 Acc: 0.8662, Val Top-3 Acc: 0.9713\n",
      "✅ 新的最佳模型已保存，Val Top-1 Acc: 0.8662\n",
      "Epoch [18/500] Loss: 0.4166, Train Top-1 Acc: 0.8709, Train Top-3 Acc: 0.9776, Val Top-1 Acc: 0.8608, Val Top-3 Acc: 0.9679\n",
      "Epoch [19/500] Loss: 0.3937, Train Top-1 Acc: 0.8770, Train Top-3 Acc: 0.9786, Val Top-1 Acc: 0.8787, Val Top-3 Acc: 0.9744\n",
      "✅ 新的最佳模型已保存，Val Top-1 Acc: 0.8787\n",
      "Epoch [20/500] Loss: 0.3743, Train Top-1 Acc: 0.8821, Train Top-3 Acc: 0.9811, Val Top-1 Acc: 0.8746, Val Top-3 Acc: 0.9718\n",
      "Epoch [21/500] Loss: 0.3583, Train Top-1 Acc: 0.8869, Train Top-3 Acc: 0.9825, Val Top-1 Acc: 0.8751, Val Top-3 Acc: 0.9715\n",
      "Epoch [22/500] Loss: 0.3446, Train Top-1 Acc: 0.8920, Train Top-3 Acc: 0.9840, Val Top-1 Acc: 0.8515, Val Top-3 Acc: 0.9672\n",
      "Epoch [23/500] Loss: 0.3369, Train Top-1 Acc: 0.8919, Train Top-3 Acc: 0.9839, Val Top-1 Acc: 0.8872, Val Top-3 Acc: 0.9754\n",
      "✅ 新的最佳模型已保存，Val Top-1 Acc: 0.8872\n",
      "Epoch [24/500] Loss: 0.3282, Train Top-1 Acc: 0.8941, Train Top-3 Acc: 0.9851, Val Top-1 Acc: 0.8710, Val Top-3 Acc: 0.9744\n",
      "Epoch [25/500] Loss: 0.3211, Train Top-1 Acc: 0.8970, Train Top-3 Acc: 0.9848, Val Top-1 Acc: 0.8821, Val Top-3 Acc: 0.9762\n",
      "Epoch [26/500] Loss: 0.3140, Train Top-1 Acc: 0.9005, Train Top-3 Acc: 0.9855, Val Top-1 Acc: 0.8833, Val Top-3 Acc: 0.9738\n",
      "Epoch [27/500] Loss: 0.3023, Train Top-1 Acc: 0.9046, Train Top-3 Acc: 0.9857, Val Top-1 Acc: 0.8923, Val Top-3 Acc: 0.9787\n",
      "✅ 新的最佳模型已保存，Val Top-1 Acc: 0.8923\n",
      "Epoch [28/500] Loss: 0.2979, Train Top-1 Acc: 0.9031, Train Top-3 Acc: 0.9864, Val Top-1 Acc: 0.8795, Val Top-3 Acc: 0.9782\n",
      "Epoch [29/500] Loss: 0.2889, Train Top-1 Acc: 0.9063, Train Top-3 Acc: 0.9876, Val Top-1 Acc: 0.8910, Val Top-3 Acc: 0.9805\n",
      "Epoch [30/500] Loss: 0.2798, Train Top-1 Acc: 0.9114, Train Top-3 Acc: 0.9873, Val Top-1 Acc: 0.8944, Val Top-3 Acc: 0.9800\n",
      "✅ 新的最佳模型已保存，Val Top-1 Acc: 0.8944\n",
      "Epoch [31/500] Loss: 0.2765, Train Top-1 Acc: 0.9114, Train Top-3 Acc: 0.9876, Val Top-1 Acc: 0.8862, Val Top-3 Acc: 0.9764\n",
      "Epoch [32/500] Loss: 0.2718, Train Top-1 Acc: 0.9109, Train Top-3 Acc: 0.9886, Val Top-1 Acc: 0.9013, Val Top-3 Acc: 0.9800\n",
      "✅ 新的最佳模型已保存，Val Top-1 Acc: 0.9013\n",
      "Epoch [33/500] Loss: 0.2688, Train Top-1 Acc: 0.9127, Train Top-3 Acc: 0.9892, Val Top-1 Acc: 0.8815, Val Top-3 Acc: 0.9733\n",
      "Epoch [34/500] Loss: 0.2631, Train Top-1 Acc: 0.9137, Train Top-3 Acc: 0.9894, Val Top-1 Acc: 0.8864, Val Top-3 Acc: 0.9772\n",
      "Epoch [35/500] Loss: 0.2577, Train Top-1 Acc: 0.9155, Train Top-3 Acc: 0.9887, Val Top-1 Acc: 0.8992, Val Top-3 Acc: 0.9797\n",
      "Epoch [36/500] Loss: 0.2540, Train Top-1 Acc: 0.9144, Train Top-3 Acc: 0.9901, Val Top-1 Acc: 0.8954, Val Top-3 Acc: 0.9808\n",
      "Epoch [37/500] Loss: 0.2468, Train Top-1 Acc: 0.9185, Train Top-3 Acc: 0.9902, Val Top-1 Acc: 0.8954, Val Top-3 Acc: 0.9800\n",
      "Epoch [38/500] Loss: 0.2470, Train Top-1 Acc: 0.9171, Train Top-3 Acc: 0.9902, Val Top-1 Acc: 0.8928, Val Top-3 Acc: 0.9782\n",
      "Epoch [39/500] Loss: 0.2374, Train Top-1 Acc: 0.9225, Train Top-3 Acc: 0.9917, Val Top-1 Acc: 0.9038, Val Top-3 Acc: 0.9846\n",
      "✅ 新的最佳模型已保存，Val Top-1 Acc: 0.9038\n",
      "Epoch [40/500] Loss: 0.2332, Train Top-1 Acc: 0.9224, Train Top-3 Acc: 0.9908, Val Top-1 Acc: 0.8926, Val Top-3 Acc: 0.9833\n",
      "Epoch [41/500] Loss: 0.2332, Train Top-1 Acc: 0.9234, Train Top-3 Acc: 0.9908, Val Top-1 Acc: 0.8910, Val Top-3 Acc: 0.9797\n",
      "Epoch [42/500] Loss: 0.2286, Train Top-1 Acc: 0.9234, Train Top-3 Acc: 0.9912, Val Top-1 Acc: 0.9015, Val Top-3 Acc: 0.9815\n",
      "Epoch [43/500] Loss: 0.2201, Train Top-1 Acc: 0.9249, Train Top-3 Acc: 0.9930, Val Top-1 Acc: 0.8918, Val Top-3 Acc: 0.9823\n",
      "Epoch [44/500] Loss: 0.2164, Train Top-1 Acc: 0.9267, Train Top-3 Acc: 0.9928, Val Top-1 Acc: 0.9008, Val Top-3 Acc: 0.9818\n",
      "Epoch [45/500] Loss: 0.2238, Train Top-1 Acc: 0.9246, Train Top-3 Acc: 0.9916, Val Top-1 Acc: 0.9072, Val Top-3 Acc: 0.9844\n",
      "✅ 新的最佳模型已保存，Val Top-1 Acc: 0.9072\n",
      "Epoch [46/500] Loss: 0.2079, Train Top-1 Acc: 0.9302, Train Top-3 Acc: 0.9925, Val Top-1 Acc: 0.8900, Val Top-3 Acc: 0.9772\n",
      "Epoch [47/500] Loss: 0.2086, Train Top-1 Acc: 0.9291, Train Top-3 Acc: 0.9925, Val Top-1 Acc: 0.9023, Val Top-3 Acc: 0.9831\n",
      "Epoch [48/500] Loss: 0.2064, Train Top-1 Acc: 0.9296, Train Top-3 Acc: 0.9933, Val Top-1 Acc: 0.9044, Val Top-3 Acc: 0.9846\n",
      "Epoch [49/500] Loss: 0.1997, Train Top-1 Acc: 0.9323, Train Top-3 Acc: 0.9931, Val Top-1 Acc: 0.8967, Val Top-3 Acc: 0.9803\n",
      "Epoch [50/500] Loss: 0.2002, Train Top-1 Acc: 0.9327, Train Top-3 Acc: 0.9936, Val Top-1 Acc: 0.8949, Val Top-3 Acc: 0.9810\n",
      "Epoch [51/500] Loss: 0.2020, Train Top-1 Acc: 0.9327, Train Top-3 Acc: 0.9927, Val Top-1 Acc: 0.9005, Val Top-3 Acc: 0.9797\n",
      "Epoch [52/500] Loss: 0.1961, Train Top-1 Acc: 0.9315, Train Top-3 Acc: 0.9935, Val Top-1 Acc: 0.8990, Val Top-3 Acc: 0.9849\n",
      "Epoch [53/500] Loss: 0.1936, Train Top-1 Acc: 0.9343, Train Top-3 Acc: 0.9941, Val Top-1 Acc: 0.9077, Val Top-3 Acc: 0.9846\n",
      "✅ 新的最佳模型已保存，Val Top-1 Acc: 0.9077\n",
      "Epoch [54/500] Loss: 0.1925, Train Top-1 Acc: 0.9334, Train Top-3 Acc: 0.9938, Val Top-1 Acc: 0.9064, Val Top-3 Acc: 0.9795\n",
      "Epoch [55/500] Loss: 0.1940, Train Top-1 Acc: 0.9352, Train Top-3 Acc: 0.9941, Val Top-1 Acc: 0.9077, Val Top-3 Acc: 0.9846\n",
      "Epoch [56/500] Loss: 0.1935, Train Top-1 Acc: 0.9336, Train Top-3 Acc: 0.9931, Val Top-1 Acc: 0.9072, Val Top-3 Acc: 0.9826\n",
      "Epoch [57/500] Loss: 0.1869, Train Top-1 Acc: 0.9366, Train Top-3 Acc: 0.9941, Val Top-1 Acc: 0.9077, Val Top-3 Acc: 0.9833\n",
      "Epoch [58/500] Loss: 0.1849, Train Top-1 Acc: 0.9371, Train Top-3 Acc: 0.9938, Val Top-1 Acc: 0.9059, Val Top-3 Acc: 0.9808\n",
      "Epoch [59/500] Loss: 0.1885, Train Top-1 Acc: 0.9370, Train Top-3 Acc: 0.9938, Val Top-1 Acc: 0.9046, Val Top-3 Acc: 0.9831\n",
      "Epoch [60/500] Loss: 0.1770, Train Top-1 Acc: 0.9384, Train Top-3 Acc: 0.9954, Val Top-1 Acc: 0.9028, Val Top-3 Acc: 0.9849\n",
      "Epoch [61/500] Loss: 0.1826, Train Top-1 Acc: 0.9369, Train Top-3 Acc: 0.9948, Val Top-1 Acc: 0.9100, Val Top-3 Acc: 0.9831\n",
      "✅ 新的最佳模型已保存，Val Top-1 Acc: 0.9100\n",
      "Epoch [62/500] Loss: 0.1733, Train Top-1 Acc: 0.9399, Train Top-3 Acc: 0.9946, Val Top-1 Acc: 0.8985, Val Top-3 Acc: 0.9838\n",
      "Epoch [63/500] Loss: 0.1776, Train Top-1 Acc: 0.9377, Train Top-3 Acc: 0.9948, Val Top-1 Acc: 0.9121, Val Top-3 Acc: 0.9844\n",
      "✅ 新的最佳模型已保存，Val Top-1 Acc: 0.9121\n",
      "Epoch [64/500] Loss: 0.1761, Train Top-1 Acc: 0.9397, Train Top-3 Acc: 0.9941, Val Top-1 Acc: 0.8946, Val Top-3 Acc: 0.9782\n",
      "Epoch [65/500] Loss: 0.1669, Train Top-1 Acc: 0.9421, Train Top-3 Acc: 0.9946, Val Top-1 Acc: 0.9067, Val Top-3 Acc: 0.9831\n",
      "Epoch [66/500] Loss: 0.1622, Train Top-1 Acc: 0.9440, Train Top-3 Acc: 0.9959, Val Top-1 Acc: 0.9100, Val Top-3 Acc: 0.9851\n",
      "Epoch [67/500] Loss: 0.1660, Train Top-1 Acc: 0.9421, Train Top-3 Acc: 0.9955, Val Top-1 Acc: 0.9059, Val Top-3 Acc: 0.9826\n",
      "Epoch [68/500] Loss: 0.1651, Train Top-1 Acc: 0.9427, Train Top-3 Acc: 0.9952, Val Top-1 Acc: 0.9118, Val Top-3 Acc: 0.9828\n",
      "Epoch [69/500] Loss: 0.1652, Train Top-1 Acc: 0.9412, Train Top-3 Acc: 0.9957, Val Top-1 Acc: 0.9113, Val Top-3 Acc: 0.9844\n",
      "Epoch [70/500] Loss: 0.1624, Train Top-1 Acc: 0.9440, Train Top-3 Acc: 0.9953, Val Top-1 Acc: 0.9033, Val Top-3 Acc: 0.9831\n",
      "Epoch [71/500] Loss: 0.1633, Train Top-1 Acc: 0.9426, Train Top-3 Acc: 0.9958, Val Top-1 Acc: 0.9118, Val Top-3 Acc: 0.9890\n",
      "Epoch [72/500] Loss: 0.1650, Train Top-1 Acc: 0.9422, Train Top-3 Acc: 0.9951, Val Top-1 Acc: 0.9036, Val Top-3 Acc: 0.9818\n",
      "Epoch [73/500] Loss: 0.1560, Train Top-1 Acc: 0.9463, Train Top-3 Acc: 0.9955, Val Top-1 Acc: 0.9113, Val Top-3 Acc: 0.9867\n",
      "Epoch [74/500] Loss: 0.1528, Train Top-1 Acc: 0.9464, Train Top-3 Acc: 0.9961, Val Top-1 Acc: 0.9059, Val Top-3 Acc: 0.9846\n",
      "Epoch [75/500] Loss: 0.1451, Train Top-1 Acc: 0.9486, Train Top-3 Acc: 0.9968, Val Top-1 Acc: 0.9074, Val Top-3 Acc: 0.9849\n",
      "Epoch [76/500] Loss: 0.1521, Train Top-1 Acc: 0.9469, Train Top-3 Acc: 0.9960, Val Top-1 Acc: 0.9126, Val Top-3 Acc: 0.9851\n",
      "✅ 新的最佳模型已保存，Val Top-1 Acc: 0.9126\n",
      "Epoch [77/500] Loss: 0.1509, Train Top-1 Acc: 0.9472, Train Top-3 Acc: 0.9951, Val Top-1 Acc: 0.9003, Val Top-3 Acc: 0.9851\n",
      "Epoch [78/500] Loss: 0.1595, Train Top-1 Acc: 0.9450, Train Top-3 Acc: 0.9952, Val Top-1 Acc: 0.9105, Val Top-3 Acc: 0.9849\n",
      "Epoch [79/500] Loss: 0.1499, Train Top-1 Acc: 0.9469, Train Top-3 Acc: 0.9960, Val Top-1 Acc: 0.8856, Val Top-3 Acc: 0.9782\n",
      "Epoch [80/500] Loss: 0.1495, Train Top-1 Acc: 0.9461, Train Top-3 Acc: 0.9959, Val Top-1 Acc: 0.9146, Val Top-3 Acc: 0.9841\n",
      "✅ 新的最佳模型已保存，Val Top-1 Acc: 0.9146\n",
      "Epoch [81/500] Loss: 0.1442, Train Top-1 Acc: 0.9492, Train Top-3 Acc: 0.9968, Val Top-1 Acc: 0.9118, Val Top-3 Acc: 0.9841\n",
      "Epoch [82/500] Loss: 0.1517, Train Top-1 Acc: 0.9477, Train Top-3 Acc: 0.9961, Val Top-1 Acc: 0.9074, Val Top-3 Acc: 0.9854\n",
      "Epoch [83/500] Loss: 0.1470, Train Top-1 Acc: 0.9491, Train Top-3 Acc: 0.9962, Val Top-1 Acc: 0.9121, Val Top-3 Acc: 0.9867\n",
      "Epoch [84/500] Loss: 0.1434, Train Top-1 Acc: 0.9504, Train Top-3 Acc: 0.9965, Val Top-1 Acc: 0.9023, Val Top-3 Acc: 0.9838\n",
      "Epoch [85/500] Loss: 0.1466, Train Top-1 Acc: 0.9480, Train Top-3 Acc: 0.9964, Val Top-1 Acc: 0.9136, Val Top-3 Acc: 0.9851\n",
      "Epoch [86/500] Loss: 0.1400, Train Top-1 Acc: 0.9498, Train Top-3 Acc: 0.9969, Val Top-1 Acc: 0.9059, Val Top-3 Acc: 0.9854\n",
      "Epoch [87/500] Loss: 0.1432, Train Top-1 Acc: 0.9492, Train Top-3 Acc: 0.9968, Val Top-1 Acc: 0.9044, Val Top-3 Acc: 0.9841\n",
      "Epoch [88/500] Loss: 0.1433, Train Top-1 Acc: 0.9475, Train Top-3 Acc: 0.9967, Val Top-1 Acc: 0.9103, Val Top-3 Acc: 0.9856\n",
      "Epoch [89/500] Loss: 0.1325, Train Top-1 Acc: 0.9527, Train Top-3 Acc: 0.9976, Val Top-1 Acc: 0.9072, Val Top-3 Acc: 0.9862\n",
      "Epoch [90/500] Loss: 0.1363, Train Top-1 Acc: 0.9511, Train Top-3 Acc: 0.9969, Val Top-1 Acc: 0.9082, Val Top-3 Acc: 0.9854\n",
      "Epoch [91/500] Loss: 0.1388, Train Top-1 Acc: 0.9490, Train Top-3 Acc: 0.9974, Val Top-1 Acc: 0.9074, Val Top-3 Acc: 0.9856\n",
      "Epoch [92/500] Loss: 0.1458, Train Top-1 Acc: 0.9465, Train Top-3 Acc: 0.9960, Val Top-1 Acc: 0.9151, Val Top-3 Acc: 0.9844\n",
      "✅ 新的最佳模型已保存，Val Top-1 Acc: 0.9151\n",
      "Epoch [93/500] Loss: 0.1363, Train Top-1 Acc: 0.9499, Train Top-3 Acc: 0.9969, Val Top-1 Acc: 0.9123, Val Top-3 Acc: 0.9885\n",
      "Epoch [94/500] Loss: 0.1363, Train Top-1 Acc: 0.9513, Train Top-3 Acc: 0.9973, Val Top-1 Acc: 0.9146, Val Top-3 Acc: 0.9851\n",
      "Epoch [95/500] Loss: 0.1360, Train Top-1 Acc: 0.9512, Train Top-3 Acc: 0.9969, Val Top-1 Acc: 0.9136, Val Top-3 Acc: 0.9846\n",
      "Epoch [96/500] Loss: 0.1319, Train Top-1 Acc: 0.9528, Train Top-3 Acc: 0.9971, Val Top-1 Acc: 0.9167, Val Top-3 Acc: 0.9854\n",
      "✅ 新的最佳模型已保存，Val Top-1 Acc: 0.9167\n",
      "Epoch [97/500] Loss: 0.1255, Train Top-1 Acc: 0.9538, Train Top-3 Acc: 0.9975, Val Top-1 Acc: 0.9126, Val Top-3 Acc: 0.9859\n",
      "Epoch [98/500] Loss: 0.1306, Train Top-1 Acc: 0.9535, Train Top-3 Acc: 0.9974, Val Top-1 Acc: 0.9103, Val Top-3 Acc: 0.9841\n",
      "Epoch [99/500] Loss: 0.1276, Train Top-1 Acc: 0.9529, Train Top-3 Acc: 0.9977, Val Top-1 Acc: 0.9162, Val Top-3 Acc: 0.9862\n",
      "Epoch [100/500] Loss: 0.1325, Train Top-1 Acc: 0.9513, Train Top-3 Acc: 0.9966, Val Top-1 Acc: 0.9131, Val Top-3 Acc: 0.9867\n",
      "Epoch [101/500] Loss: 0.1290, Train Top-1 Acc: 0.9538, Train Top-3 Acc: 0.9967, Val Top-1 Acc: 0.9146, Val Top-3 Acc: 0.9833\n",
      "Epoch [102/500] Loss: 0.1275, Train Top-1 Acc: 0.9553, Train Top-3 Acc: 0.9968, Val Top-1 Acc: 0.9100, Val Top-3 Acc: 0.9862\n",
      "Epoch [103/500] Loss: 0.1220, Train Top-1 Acc: 0.9550, Train Top-3 Acc: 0.9974, Val Top-1 Acc: 0.9185, Val Top-3 Acc: 0.9864\n",
      "✅ 新的最佳模型已保存，Val Top-1 Acc: 0.9185\n",
      "Epoch [104/500] Loss: 0.1290, Train Top-1 Acc: 0.9536, Train Top-3 Acc: 0.9972, Val Top-1 Acc: 0.9123, Val Top-3 Acc: 0.9854\n",
      "Epoch [105/500] Loss: 0.1289, Train Top-1 Acc: 0.9526, Train Top-3 Acc: 0.9971, Val Top-1 Acc: 0.9085, Val Top-3 Acc: 0.9836\n",
      "Epoch [106/500] Loss: 0.1344, Train Top-1 Acc: 0.9521, Train Top-3 Acc: 0.9966, Val Top-1 Acc: 0.9144, Val Top-3 Acc: 0.9856\n",
      "Epoch [107/500] Loss: 0.1189, Train Top-1 Acc: 0.9573, Train Top-3 Acc: 0.9977, Val Top-1 Acc: 0.9172, Val Top-3 Acc: 0.9874\n",
      "Epoch [108/500] Loss: 0.1230, Train Top-1 Acc: 0.9562, Train Top-3 Acc: 0.9974, Val Top-1 Acc: 0.9118, Val Top-3 Acc: 0.9877\n",
      "Epoch [109/500] Loss: 0.1212, Train Top-1 Acc: 0.9555, Train Top-3 Acc: 0.9972, Val Top-1 Acc: 0.9136, Val Top-3 Acc: 0.9862\n",
      "Epoch [110/500] Loss: 0.1302, Train Top-1 Acc: 0.9539, Train Top-3 Acc: 0.9974, Val Top-1 Acc: 0.9128, Val Top-3 Acc: 0.9864\n",
      "Epoch [111/500] Loss: 0.1193, Train Top-1 Acc: 0.9576, Train Top-3 Acc: 0.9968, Val Top-1 Acc: 0.9218, Val Top-3 Acc: 0.9872\n",
      "✅ 新的最佳模型已保存，Val Top-1 Acc: 0.9218\n",
      "Epoch [112/500] Loss: 0.1178, Train Top-1 Acc: 0.9571, Train Top-3 Acc: 0.9976, Val Top-1 Acc: 0.9103, Val Top-3 Acc: 0.9869\n",
      "Epoch [113/500] Loss: 0.1185, Train Top-1 Acc: 0.9555, Train Top-3 Acc: 0.9977, Val Top-1 Acc: 0.9182, Val Top-3 Acc: 0.9869\n",
      "Epoch [114/500] Loss: 0.1217, Train Top-1 Acc: 0.9552, Train Top-3 Acc: 0.9976, Val Top-1 Acc: 0.9164, Val Top-3 Acc: 0.9856\n",
      "Epoch [115/500] Loss: 0.1157, Train Top-1 Acc: 0.9579, Train Top-3 Acc: 0.9977, Val Top-1 Acc: 0.9133, Val Top-3 Acc: 0.9856\n",
      "Epoch [116/500] Loss: 0.1162, Train Top-1 Acc: 0.9570, Train Top-3 Acc: 0.9973, Val Top-1 Acc: 0.9074, Val Top-3 Acc: 0.9836\n",
      "Epoch [117/500] Loss: 0.1220, Train Top-1 Acc: 0.9558, Train Top-3 Acc: 0.9966, Val Top-1 Acc: 0.9182, Val Top-3 Acc: 0.9859\n",
      "Epoch [118/500] Loss: 0.1133, Train Top-1 Acc: 0.9583, Train Top-3 Acc: 0.9979, Val Top-1 Acc: 0.9121, Val Top-3 Acc: 0.9849\n",
      "Epoch [119/500] Loss: 0.1151, Train Top-1 Acc: 0.9574, Train Top-3 Acc: 0.9977, Val Top-1 Acc: 0.9174, Val Top-3 Acc: 0.9872\n",
      "Epoch [120/500] Loss: 0.1083, Train Top-1 Acc: 0.9592, Train Top-3 Acc: 0.9979, Val Top-1 Acc: 0.9159, Val Top-3 Acc: 0.9874\n",
      "Epoch [121/500] Loss: 0.1139, Train Top-1 Acc: 0.9595, Train Top-3 Acc: 0.9976, Val Top-1 Acc: 0.9121, Val Top-3 Acc: 0.9854\n",
      "Epoch [122/500] Loss: 0.1148, Train Top-1 Acc: 0.9574, Train Top-3 Acc: 0.9979, Val Top-1 Acc: 0.9200, Val Top-3 Acc: 0.9864\n",
      "Epoch [123/500] Loss: 0.1150, Train Top-1 Acc: 0.9552, Train Top-3 Acc: 0.9980, Val Top-1 Acc: 0.9136, Val Top-3 Acc: 0.9841\n",
      "Epoch [124/500] Loss: 0.1158, Train Top-1 Acc: 0.9559, Train Top-3 Acc: 0.9979, Val Top-1 Acc: 0.9113, Val Top-3 Acc: 0.9856\n",
      "Epoch [125/500] Loss: 0.1146, Train Top-1 Acc: 0.9578, Train Top-3 Acc: 0.9977, Val Top-1 Acc: 0.8923, Val Top-3 Acc: 0.9821\n",
      "Epoch [126/500] Loss: 0.1081, Train Top-1 Acc: 0.9604, Train Top-3 Acc: 0.9980, Val Top-1 Acc: 0.9092, Val Top-3 Acc: 0.9851\n",
      "⏳ 验证集Top-1准确率在连续 15 轮未提升，训练提前终止。\n",
      "训练结束。\n"
     ]
    }
   ],
   "execution_count": 29
  },
  {
   "cell_type": "code",
   "execution_count": null,
   "outputs": [],
   "source": [],
   "metadata": {
    "collapsed": false
   },
   "id": "454e21b724e03432"
  },
  {
   "cell_type": "markdown",
   "source": [
    "### 无注意力机制 有数据增强"
   ],
   "metadata": {
    "collapsed": false
   },
   "id": "9ce7d8dfbf4ae224"
  },
  {
   "metadata": {
    "ExecuteTime": {
     "end_time": "2025-04-22T04:42:39.350669800Z",
     "start_time": "2025-04-22T04:32:05.987356300Z"
    }
   },
   "cell_type": "code",
   "outputs": [
    {
     "name": "stdout",
     "output_type": "stream",
     "text": [
      "Epoch [1/500] Loss: 3.1009, Train Top-1 Acc: 0.1123, Train Top-3 Acc: 0.2755, Val Top-1 Acc: 0.2405, Val Top-3 Acc: 0.5069\n",
      "✅ 新的最佳模型已保存，Val Top-1 Acc: 0.2405\n",
      "Epoch [2/500] Loss: 2.5910, Train Top-1 Acc: 0.2588, Train Top-3 Acc: 0.5496, Val Top-1 Acc: 0.3895, Val Top-3 Acc: 0.7151\n",
      "✅ 新的最佳模型已保存，Val Top-1 Acc: 0.3895\n",
      "Epoch [3/500] Loss: 2.0723, Train Top-1 Acc: 0.4219, Train Top-3 Acc: 0.7429, Val Top-1 Acc: 0.5721, Val Top-3 Acc: 0.8436\n",
      "✅ 新的最佳模型已保存，Val Top-1 Acc: 0.5721\n",
      "Epoch [4/500] Loss: 1.6757, Train Top-1 Acc: 0.5398, Train Top-3 Acc: 0.8302, Val Top-1 Acc: 0.6167, Val Top-3 Acc: 0.8679\n",
      "✅ 新的最佳模型已保存，Val Top-1 Acc: 0.6167\n",
      "Epoch [5/500] Loss: 1.3955, Train Top-1 Acc: 0.6148, Train Top-3 Acc: 0.8730, Val Top-1 Acc: 0.7333, Val Top-3 Acc: 0.9190\n",
      "✅ 新的最佳模型已保存，Val Top-1 Acc: 0.7333\n",
      "Epoch [6/500] Loss: 1.2120, Train Top-1 Acc: 0.6505, Train Top-3 Acc: 0.9008, Val Top-1 Acc: 0.7513, Val Top-3 Acc: 0.9308\n",
      "✅ 新的最佳模型已保存，Val Top-1 Acc: 0.7513\n",
      "Epoch [7/500] Loss: 1.0763, Train Top-1 Acc: 0.6925, Train Top-3 Acc: 0.9120, Val Top-1 Acc: 0.7610, Val Top-3 Acc: 0.9331\n",
      "✅ 新的最佳模型已保存，Val Top-1 Acc: 0.7610\n",
      "Epoch [8/500] Loss: 0.9755, Train Top-1 Acc: 0.7196, Train Top-3 Acc: 0.9244, Val Top-1 Acc: 0.7764, Val Top-3 Acc: 0.9418\n",
      "✅ 新的最佳模型已保存，Val Top-1 Acc: 0.7764\n",
      "Epoch [9/500] Loss: 0.9003, Train Top-1 Acc: 0.7361, Train Top-3 Acc: 0.9318, Val Top-1 Acc: 0.8121, Val Top-3 Acc: 0.9533\n",
      "✅ 新的最佳模型已保存，Val Top-1 Acc: 0.8121\n",
      "Epoch [10/500] Loss: 0.8325, Train Top-1 Acc: 0.7534, Train Top-3 Acc: 0.9419, Val Top-1 Acc: 0.8285, Val Top-3 Acc: 0.9603\n",
      "✅ 新的最佳模型已保存，Val Top-1 Acc: 0.8285\n",
      "Epoch [11/500] Loss: 0.7832, Train Top-1 Acc: 0.7672, Train Top-3 Acc: 0.9434, Val Top-1 Acc: 0.8405, Val Top-3 Acc: 0.9649\n",
      "✅ 新的最佳模型已保存，Val Top-1 Acc: 0.8405\n",
      "Epoch [12/500] Loss: 0.7328, Train Top-1 Acc: 0.7781, Train Top-3 Acc: 0.9506, Val Top-1 Acc: 0.8377, Val Top-3 Acc: 0.9636\n",
      "Epoch [13/500] Loss: 0.7116, Train Top-1 Acc: 0.7863, Train Top-3 Acc: 0.9508, Val Top-1 Acc: 0.8513, Val Top-3 Acc: 0.9692\n",
      "✅ 新的最佳模型已保存，Val Top-1 Acc: 0.8513\n",
      "Epoch [14/500] Loss: 0.6683, Train Top-1 Acc: 0.7947, Train Top-3 Acc: 0.9562, Val Top-1 Acc: 0.8431, Val Top-3 Acc: 0.9664\n",
      "Epoch [15/500] Loss: 0.6480, Train Top-1 Acc: 0.8015, Train Top-3 Acc: 0.9585, Val Top-1 Acc: 0.8621, Val Top-3 Acc: 0.9697\n",
      "✅ 新的最佳模型已保存，Val Top-1 Acc: 0.8621\n",
      "Epoch [16/500] Loss: 0.6065, Train Top-1 Acc: 0.8149, Train Top-3 Acc: 0.9610, Val Top-1 Acc: 0.8577, Val Top-3 Acc: 0.9710\n",
      "Epoch [17/500] Loss: 0.5878, Train Top-1 Acc: 0.8169, Train Top-3 Acc: 0.9632, Val Top-1 Acc: 0.8731, Val Top-3 Acc: 0.9713\n",
      "✅ 新的最佳模型已保存，Val Top-1 Acc: 0.8731\n",
      "Epoch [18/500] Loss: 0.5580, Train Top-1 Acc: 0.8289, Train Top-3 Acc: 0.9659, Val Top-1 Acc: 0.8459, Val Top-3 Acc: 0.9656\n",
      "Epoch [19/500] Loss: 0.5518, Train Top-1 Acc: 0.8275, Train Top-3 Acc: 0.9663, Val Top-1 Acc: 0.8728, Val Top-3 Acc: 0.9736\n",
      "Epoch [20/500] Loss: 0.5397, Train Top-1 Acc: 0.8296, Train Top-3 Acc: 0.9667, Val Top-1 Acc: 0.8744, Val Top-3 Acc: 0.9744\n",
      "✅ 新的最佳模型已保存，Val Top-1 Acc: 0.8744\n",
      "Epoch [21/500] Loss: 0.5214, Train Top-1 Acc: 0.8344, Train Top-3 Acc: 0.9686, Val Top-1 Acc: 0.8708, Val Top-3 Acc: 0.9779\n",
      "Epoch [22/500] Loss: 0.4936, Train Top-1 Acc: 0.8441, Train Top-3 Acc: 0.9721, Val Top-1 Acc: 0.8779, Val Top-3 Acc: 0.9759\n",
      "✅ 新的最佳模型已保存，Val Top-1 Acc: 0.8779\n",
      "Epoch [23/500] Loss: 0.4940, Train Top-1 Acc: 0.8457, Train Top-3 Acc: 0.9704, Val Top-1 Acc: 0.8723, Val Top-3 Acc: 0.9744\n",
      "Epoch [24/500] Loss: 0.4847, Train Top-1 Acc: 0.8465, Train Top-3 Acc: 0.9708, Val Top-1 Acc: 0.8838, Val Top-3 Acc: 0.9759\n",
      "✅ 新的最佳模型已保存，Val Top-1 Acc: 0.8838\n",
      "Epoch [25/500] Loss: 0.4685, Train Top-1 Acc: 0.8520, Train Top-3 Acc: 0.9734, Val Top-1 Acc: 0.8782, Val Top-3 Acc: 0.9762\n",
      "Epoch [26/500] Loss: 0.4559, Train Top-1 Acc: 0.8545, Train Top-3 Acc: 0.9745, Val Top-1 Acc: 0.8856, Val Top-3 Acc: 0.9810\n",
      "✅ 新的最佳模型已保存，Val Top-1 Acc: 0.8856\n",
      "Epoch [27/500] Loss: 0.4540, Train Top-1 Acc: 0.8592, Train Top-3 Acc: 0.9738, Val Top-1 Acc: 0.8864, Val Top-3 Acc: 0.9800\n",
      "✅ 新的最佳模型已保存，Val Top-1 Acc: 0.8864\n",
      "Epoch [28/500] Loss: 0.4361, Train Top-1 Acc: 0.8594, Train Top-3 Acc: 0.9776, Val Top-1 Acc: 0.8882, Val Top-3 Acc: 0.9815\n",
      "✅ 新的最佳模型已保存，Val Top-1 Acc: 0.8882\n",
      "Epoch [29/500] Loss: 0.4341, Train Top-1 Acc: 0.8599, Train Top-3 Acc: 0.9763, Val Top-1 Acc: 0.8887, Val Top-3 Acc: 0.9800\n",
      "✅ 新的最佳模型已保存，Val Top-1 Acc: 0.8887\n",
      "Epoch [30/500] Loss: 0.4183, Train Top-1 Acc: 0.8681, Train Top-3 Acc: 0.9781, Val Top-1 Acc: 0.8959, Val Top-3 Acc: 0.9797\n",
      "✅ 新的最佳模型已保存，Val Top-1 Acc: 0.8959\n",
      "Epoch [31/500] Loss: 0.4126, Train Top-1 Acc: 0.8701, Train Top-3 Acc: 0.9788, Val Top-1 Acc: 0.8846, Val Top-3 Acc: 0.9782\n",
      "Epoch [32/500] Loss: 0.4058, Train Top-1 Acc: 0.8694, Train Top-3 Acc: 0.9785, Val Top-1 Acc: 0.8992, Val Top-3 Acc: 0.9815\n",
      "✅ 新的最佳模型已保存，Val Top-1 Acc: 0.8992\n",
      "Epoch [33/500] Loss: 0.3954, Train Top-1 Acc: 0.8723, Train Top-3 Acc: 0.9798, Val Top-1 Acc: 0.8851, Val Top-3 Acc: 0.9767\n",
      "Epoch [34/500] Loss: 0.3997, Train Top-1 Acc: 0.8721, Train Top-3 Acc: 0.9789, Val Top-1 Acc: 0.8903, Val Top-3 Acc: 0.9795\n",
      "Epoch [35/500] Loss: 0.3892, Train Top-1 Acc: 0.8740, Train Top-3 Acc: 0.9795, Val Top-1 Acc: 0.8967, Val Top-3 Acc: 0.9803\n",
      "Epoch [36/500] Loss: 0.3924, Train Top-1 Acc: 0.8772, Train Top-3 Acc: 0.9803, Val Top-1 Acc: 0.8959, Val Top-3 Acc: 0.9838\n",
      "Epoch [37/500] Loss: 0.3760, Train Top-1 Acc: 0.8797, Train Top-3 Acc: 0.9809, Val Top-1 Acc: 0.9000, Val Top-3 Acc: 0.9844\n",
      "✅ 新的最佳模型已保存，Val Top-1 Acc: 0.9000\n",
      "Epoch [38/500] Loss: 0.3663, Train Top-1 Acc: 0.8802, Train Top-3 Acc: 0.9825, Val Top-1 Acc: 0.8972, Val Top-3 Acc: 0.9826\n",
      "Epoch [39/500] Loss: 0.3602, Train Top-1 Acc: 0.8844, Train Top-3 Acc: 0.9835, Val Top-1 Acc: 0.8923, Val Top-3 Acc: 0.9844\n",
      "Epoch [40/500] Loss: 0.3516, Train Top-1 Acc: 0.8846, Train Top-3 Acc: 0.9849, Val Top-1 Acc: 0.9033, Val Top-3 Acc: 0.9838\n",
      "✅ 新的最佳模型已保存，Val Top-1 Acc: 0.9033\n",
      "Epoch [41/500] Loss: 0.3562, Train Top-1 Acc: 0.8846, Train Top-3 Acc: 0.9830, Val Top-1 Acc: 0.9021, Val Top-3 Acc: 0.9823\n",
      "Epoch [42/500] Loss: 0.3463, Train Top-1 Acc: 0.8873, Train Top-3 Acc: 0.9836, Val Top-1 Acc: 0.9010, Val Top-3 Acc: 0.9795\n",
      "Epoch [43/500] Loss: 0.3476, Train Top-1 Acc: 0.8881, Train Top-3 Acc: 0.9835, Val Top-1 Acc: 0.9000, Val Top-3 Acc: 0.9864\n",
      "Epoch [44/500] Loss: 0.3370, Train Top-1 Acc: 0.8901, Train Top-3 Acc: 0.9843, Val Top-1 Acc: 0.9072, Val Top-3 Acc: 0.9864\n",
      "✅ 新的最佳模型已保存，Val Top-1 Acc: 0.9072\n",
      "Epoch [45/500] Loss: 0.3281, Train Top-1 Acc: 0.8938, Train Top-3 Acc: 0.9843, Val Top-1 Acc: 0.9067, Val Top-3 Acc: 0.9833\n",
      "Epoch [46/500] Loss: 0.3317, Train Top-1 Acc: 0.8937, Train Top-3 Acc: 0.9837, Val Top-1 Acc: 0.9082, Val Top-3 Acc: 0.9849\n",
      "✅ 新的最佳模型已保存，Val Top-1 Acc: 0.9082\n",
      "Epoch [47/500] Loss: 0.3243, Train Top-1 Acc: 0.8930, Train Top-3 Acc: 0.9851, Val Top-1 Acc: 0.9015, Val Top-3 Acc: 0.9836\n",
      "Epoch [48/500] Loss: 0.3221, Train Top-1 Acc: 0.8954, Train Top-3 Acc: 0.9854, Val Top-1 Acc: 0.9054, Val Top-3 Acc: 0.9818\n",
      "Epoch [49/500] Loss: 0.3120, Train Top-1 Acc: 0.8985, Train Top-3 Acc: 0.9873, Val Top-1 Acc: 0.9033, Val Top-3 Acc: 0.9815\n",
      "Epoch [50/500] Loss: 0.3180, Train Top-1 Acc: 0.8959, Train Top-3 Acc: 0.9854, Val Top-1 Acc: 0.8979, Val Top-3 Acc: 0.9828\n",
      "Epoch [51/500] Loss: 0.3065, Train Top-1 Acc: 0.9010, Train Top-3 Acc: 0.9861, Val Top-1 Acc: 0.8749, Val Top-3 Acc: 0.9756\n",
      "Epoch [52/500] Loss: 0.3088, Train Top-1 Acc: 0.8980, Train Top-3 Acc: 0.9869, Val Top-1 Acc: 0.9154, Val Top-3 Acc: 0.9851\n",
      "✅ 新的最佳模型已保存，Val Top-1 Acc: 0.9154\n",
      "Epoch [53/500] Loss: 0.3031, Train Top-1 Acc: 0.9037, Train Top-3 Acc: 0.9866, Val Top-1 Acc: 0.9046, Val Top-3 Acc: 0.9813\n",
      "Epoch [54/500] Loss: 0.3065, Train Top-1 Acc: 0.9011, Train Top-3 Acc: 0.9854, Val Top-1 Acc: 0.9077, Val Top-3 Acc: 0.9818\n",
      "Epoch [55/500] Loss: 0.2969, Train Top-1 Acc: 0.9012, Train Top-3 Acc: 0.9877, Val Top-1 Acc: 0.9097, Val Top-3 Acc: 0.9844\n"
     ]
    },
    {
     "ename": "KeyboardInterrupt",
     "evalue": "",
     "output_type": "error",
     "traceback": [
      "\u001B[1;31m---------------------------------------------------------------------------\u001B[0m",
      "\u001B[1;31mKeyboardInterrupt\u001B[0m                         Traceback (most recent call last)",
      "Cell \u001B[1;32mIn[30], line 3\u001B[0m\n\u001B[0;32m      1\u001B[0m model \u001B[38;5;241m=\u001B[39m CNNWithAttention(label_num, use_attention\u001B[38;5;241m=\u001B[39m\u001B[38;5;28;01mFalse\u001B[39;00m) \u001B[38;5;66;03m# 调用模型\u001B[39;00m\n\u001B[1;32m----> 3\u001B[0m train_and_validate(\n\u001B[0;32m      4\u001B[0m     model\u001B[38;5;241m=\u001B[39mmodel,\n\u001B[0;32m      5\u001B[0m     train_loader\u001B[38;5;241m=\u001B[39mtrain_loader,\n\u001B[0;32m      6\u001B[0m     val_loader\u001B[38;5;241m=\u001B[39mval_loader,\n\u001B[0;32m      7\u001B[0m     epochs\u001B[38;5;241m=\u001B[39mEPOCH,\n\u001B[0;32m      8\u001B[0m     device\u001B[38;5;241m=\u001B[39mdevice,\n\u001B[0;32m      9\u001B[0m     save_path\u001B[38;5;241m=\u001B[39mMODEL_SAVE_PATH\n\u001B[0;32m     10\u001B[0m )\n",
      "Cell \u001B[1;32mIn[28], line 22\u001B[0m, in \u001B[0;36mtrain_and_validate\u001B[1;34m(model, train_loader, val_loader, epochs, device, save_path, save_best_only, patience, auto_lr)\u001B[0m\n\u001B[0;32m     19\u001B[0m total \u001B[38;5;241m=\u001B[39m \u001B[38;5;241m0\u001B[39m\n\u001B[0;32m     21\u001B[0m \u001B[38;5;66;03m# --- 训练阶段 ---\u001B[39;00m\n\u001B[1;32m---> 22\u001B[0m \u001B[38;5;28;01mfor\u001B[39;00m batch_x, batch_y \u001B[38;5;129;01min\u001B[39;00m train_loader:\n\u001B[0;32m     23\u001B[0m     batch_x, batch_y \u001B[38;5;241m=\u001B[39m batch_x\u001B[38;5;241m.\u001B[39mto(device), batch_y\u001B[38;5;241m.\u001B[39mto(device)\n\u001B[0;32m     25\u001B[0m     outputs \u001B[38;5;241m=\u001B[39m model(batch_x)\n",
      "File \u001B[1;32mD:\\condaenv\\.conda\\envs\\Compy12\\Lib\\site-packages\\torch\\utils\\data\\dataloader.py:708\u001B[0m, in \u001B[0;36m_BaseDataLoaderIter.__next__\u001B[1;34m(self)\u001B[0m\n\u001B[0;32m    705\u001B[0m \u001B[38;5;28;01mif\u001B[39;00m \u001B[38;5;28mself\u001B[39m\u001B[38;5;241m.\u001B[39m_sampler_iter \u001B[38;5;129;01mis\u001B[39;00m \u001B[38;5;28;01mNone\u001B[39;00m:\n\u001B[0;32m    706\u001B[0m     \u001B[38;5;66;03m# TODO(https://github.com/pytorch/pytorch/issues/76750)\u001B[39;00m\n\u001B[0;32m    707\u001B[0m     \u001B[38;5;28mself\u001B[39m\u001B[38;5;241m.\u001B[39m_reset()  \u001B[38;5;66;03m# type: ignore[call-arg]\u001B[39;00m\n\u001B[1;32m--> 708\u001B[0m data \u001B[38;5;241m=\u001B[39m \u001B[38;5;28mself\u001B[39m\u001B[38;5;241m.\u001B[39m_next_data()\n\u001B[0;32m    709\u001B[0m \u001B[38;5;28mself\u001B[39m\u001B[38;5;241m.\u001B[39m_num_yielded \u001B[38;5;241m+\u001B[39m\u001B[38;5;241m=\u001B[39m \u001B[38;5;241m1\u001B[39m\n\u001B[0;32m    710\u001B[0m \u001B[38;5;28;01mif\u001B[39;00m (\n\u001B[0;32m    711\u001B[0m     \u001B[38;5;28mself\u001B[39m\u001B[38;5;241m.\u001B[39m_dataset_kind \u001B[38;5;241m==\u001B[39m _DatasetKind\u001B[38;5;241m.\u001B[39mIterable\n\u001B[0;32m    712\u001B[0m     \u001B[38;5;129;01mand\u001B[39;00m \u001B[38;5;28mself\u001B[39m\u001B[38;5;241m.\u001B[39m_IterableDataset_len_called \u001B[38;5;129;01mis\u001B[39;00m \u001B[38;5;129;01mnot\u001B[39;00m \u001B[38;5;28;01mNone\u001B[39;00m\n\u001B[0;32m    713\u001B[0m     \u001B[38;5;129;01mand\u001B[39;00m \u001B[38;5;28mself\u001B[39m\u001B[38;5;241m.\u001B[39m_num_yielded \u001B[38;5;241m>\u001B[39m \u001B[38;5;28mself\u001B[39m\u001B[38;5;241m.\u001B[39m_IterableDataset_len_called\n\u001B[0;32m    714\u001B[0m ):\n",
      "File \u001B[1;32mD:\\condaenv\\.conda\\envs\\Compy12\\Lib\\site-packages\\torch\\utils\\data\\dataloader.py:764\u001B[0m, in \u001B[0;36m_SingleProcessDataLoaderIter._next_data\u001B[1;34m(self)\u001B[0m\n\u001B[0;32m    762\u001B[0m \u001B[38;5;28;01mdef\u001B[39;00m\u001B[38;5;250m \u001B[39m\u001B[38;5;21m_next_data\u001B[39m(\u001B[38;5;28mself\u001B[39m):\n\u001B[0;32m    763\u001B[0m     index \u001B[38;5;241m=\u001B[39m \u001B[38;5;28mself\u001B[39m\u001B[38;5;241m.\u001B[39m_next_index()  \u001B[38;5;66;03m# may raise StopIteration\u001B[39;00m\n\u001B[1;32m--> 764\u001B[0m     data \u001B[38;5;241m=\u001B[39m \u001B[38;5;28mself\u001B[39m\u001B[38;5;241m.\u001B[39m_dataset_fetcher\u001B[38;5;241m.\u001B[39mfetch(index)  \u001B[38;5;66;03m# may raise StopIteration\u001B[39;00m\n\u001B[0;32m    765\u001B[0m     \u001B[38;5;28;01mif\u001B[39;00m \u001B[38;5;28mself\u001B[39m\u001B[38;5;241m.\u001B[39m_pin_memory:\n\u001B[0;32m    766\u001B[0m         data \u001B[38;5;241m=\u001B[39m _utils\u001B[38;5;241m.\u001B[39mpin_memory\u001B[38;5;241m.\u001B[39mpin_memory(data, \u001B[38;5;28mself\u001B[39m\u001B[38;5;241m.\u001B[39m_pin_memory_device)\n",
      "File \u001B[1;32mD:\\condaenv\\.conda\\envs\\Compy12\\Lib\\site-packages\\torch\\utils\\data\\_utils\\fetch.py:50\u001B[0m, in \u001B[0;36m_MapDatasetFetcher.fetch\u001B[1;34m(self, possibly_batched_index)\u001B[0m\n\u001B[0;32m     48\u001B[0m \u001B[38;5;28;01mif\u001B[39;00m \u001B[38;5;28mself\u001B[39m\u001B[38;5;241m.\u001B[39mauto_collation:\n\u001B[0;32m     49\u001B[0m     \u001B[38;5;28;01mif\u001B[39;00m \u001B[38;5;28mhasattr\u001B[39m(\u001B[38;5;28mself\u001B[39m\u001B[38;5;241m.\u001B[39mdataset, \u001B[38;5;124m\"\u001B[39m\u001B[38;5;124m__getitems__\u001B[39m\u001B[38;5;124m\"\u001B[39m) \u001B[38;5;129;01mand\u001B[39;00m \u001B[38;5;28mself\u001B[39m\u001B[38;5;241m.\u001B[39mdataset\u001B[38;5;241m.\u001B[39m__getitems__:\n\u001B[1;32m---> 50\u001B[0m         data \u001B[38;5;241m=\u001B[39m \u001B[38;5;28mself\u001B[39m\u001B[38;5;241m.\u001B[39mdataset\u001B[38;5;241m.\u001B[39m__getitems__(possibly_batched_index)\n\u001B[0;32m     51\u001B[0m     \u001B[38;5;28;01melse\u001B[39;00m:\n\u001B[0;32m     52\u001B[0m         data \u001B[38;5;241m=\u001B[39m [\u001B[38;5;28mself\u001B[39m\u001B[38;5;241m.\u001B[39mdataset[idx] \u001B[38;5;28;01mfor\u001B[39;00m idx \u001B[38;5;129;01min\u001B[39;00m possibly_batched_index]\n",
      "File \u001B[1;32mD:\\condaenv\\.conda\\envs\\Compy12\\Lib\\site-packages\\torch\\utils\\data\\dataset.py:420\u001B[0m, in \u001B[0;36mSubset.__getitems__\u001B[1;34m(self, indices)\u001B[0m\n\u001B[0;32m    418\u001B[0m     \u001B[38;5;28;01mreturn\u001B[39;00m \u001B[38;5;28mself\u001B[39m\u001B[38;5;241m.\u001B[39mdataset\u001B[38;5;241m.\u001B[39m__getitems__([\u001B[38;5;28mself\u001B[39m\u001B[38;5;241m.\u001B[39mindices[idx] \u001B[38;5;28;01mfor\u001B[39;00m idx \u001B[38;5;129;01min\u001B[39;00m indices])  \u001B[38;5;66;03m# type: ignore[attr-defined]\u001B[39;00m\n\u001B[0;32m    419\u001B[0m \u001B[38;5;28;01melse\u001B[39;00m:\n\u001B[1;32m--> 420\u001B[0m     \u001B[38;5;28;01mreturn\u001B[39;00m [\u001B[38;5;28mself\u001B[39m\u001B[38;5;241m.\u001B[39mdataset[\u001B[38;5;28mself\u001B[39m\u001B[38;5;241m.\u001B[39mindices[idx]] \u001B[38;5;28;01mfor\u001B[39;00m idx \u001B[38;5;129;01min\u001B[39;00m indices]\n",
      "File \u001B[1;32mD:\\condaenv\\.conda\\envs\\Compy12\\Lib\\site-packages\\torchvision\\datasets\\folder.py:245\u001B[0m, in \u001B[0;36mDatasetFolder.__getitem__\u001B[1;34m(self, index)\u001B[0m\n\u001B[0;32m    237\u001B[0m \u001B[38;5;250m\u001B[39m\u001B[38;5;124;03m\"\"\"\u001B[39;00m\n\u001B[0;32m    238\u001B[0m \u001B[38;5;124;03mArgs:\u001B[39;00m\n\u001B[0;32m    239\u001B[0m \u001B[38;5;124;03m    index (int): Index\u001B[39;00m\n\u001B[1;32m   (...)\u001B[0m\n\u001B[0;32m    242\u001B[0m \u001B[38;5;124;03m    tuple: (sample, target) where target is class_index of the target class.\u001B[39;00m\n\u001B[0;32m    243\u001B[0m \u001B[38;5;124;03m\"\"\"\u001B[39;00m\n\u001B[0;32m    244\u001B[0m path, target \u001B[38;5;241m=\u001B[39m \u001B[38;5;28mself\u001B[39m\u001B[38;5;241m.\u001B[39msamples[index]\n\u001B[1;32m--> 245\u001B[0m sample \u001B[38;5;241m=\u001B[39m \u001B[38;5;28mself\u001B[39m\u001B[38;5;241m.\u001B[39mloader(path)\n\u001B[0;32m    246\u001B[0m \u001B[38;5;28;01mif\u001B[39;00m \u001B[38;5;28mself\u001B[39m\u001B[38;5;241m.\u001B[39mtransform \u001B[38;5;129;01mis\u001B[39;00m \u001B[38;5;129;01mnot\u001B[39;00m \u001B[38;5;28;01mNone\u001B[39;00m:\n\u001B[0;32m    247\u001B[0m     sample \u001B[38;5;241m=\u001B[39m \u001B[38;5;28mself\u001B[39m\u001B[38;5;241m.\u001B[39mtransform(sample)\n",
      "File \u001B[1;32mD:\\condaenv\\.conda\\envs\\Compy12\\Lib\\site-packages\\torchvision\\datasets\\folder.py:284\u001B[0m, in \u001B[0;36mdefault_loader\u001B[1;34m(path)\u001B[0m\n\u001B[0;32m    282\u001B[0m     \u001B[38;5;28;01mreturn\u001B[39;00m accimage_loader(path)\n\u001B[0;32m    283\u001B[0m \u001B[38;5;28;01melse\u001B[39;00m:\n\u001B[1;32m--> 284\u001B[0m     \u001B[38;5;28;01mreturn\u001B[39;00m pil_loader(path)\n",
      "File \u001B[1;32mD:\\condaenv\\.conda\\envs\\Compy12\\Lib\\site-packages\\torchvision\\datasets\\folder.py:262\u001B[0m, in \u001B[0;36mpil_loader\u001B[1;34m(path)\u001B[0m\n\u001B[0;32m    260\u001B[0m \u001B[38;5;28;01mdef\u001B[39;00m\u001B[38;5;250m \u001B[39m\u001B[38;5;21mpil_loader\u001B[39m(path: \u001B[38;5;28mstr\u001B[39m) \u001B[38;5;241m-\u001B[39m\u001B[38;5;241m>\u001B[39m Image\u001B[38;5;241m.\u001B[39mImage:\n\u001B[0;32m    261\u001B[0m     \u001B[38;5;66;03m# open path as file to avoid ResourceWarning (https://github.com/python-pillow/Pillow/issues/835)\u001B[39;00m\n\u001B[1;32m--> 262\u001B[0m     \u001B[38;5;28;01mwith\u001B[39;00m \u001B[38;5;28mopen\u001B[39m(path, \u001B[38;5;124m\"\u001B[39m\u001B[38;5;124mrb\u001B[39m\u001B[38;5;124m\"\u001B[39m) \u001B[38;5;28;01mas\u001B[39;00m f:\n\u001B[0;32m    263\u001B[0m         img \u001B[38;5;241m=\u001B[39m Image\u001B[38;5;241m.\u001B[39mopen(f)\n\u001B[0;32m    264\u001B[0m         \u001B[38;5;28;01mreturn\u001B[39;00m img\u001B[38;5;241m.\u001B[39mconvert(\u001B[38;5;124m\"\u001B[39m\u001B[38;5;124mRGB\u001B[39m\u001B[38;5;124m\"\u001B[39m)\n",
      "\u001B[1;31mKeyboardInterrupt\u001B[0m: "
     ]
    }
   ],
   "execution_count": 30,
   "source": [
    "model = CNNWithAttention(label_num, use_attention=False) # 调用模型\n",
    "\n",
    "train_and_validate(\n",
    "    model=model,\n",
    "    train_loader=train_loader,\n",
    "    val_loader=val_loader,\n",
    "    epochs=EPOCH,\n",
    "    device=device,\n",
    "    save_path=\"cnn_res_noattention_best_with_data_augmentation.pth\"\n",
    ")"
   ],
   "id": "807665a7393e5942"
  },
  {
   "cell_type": "markdown",
   "source": [
    "### 有注意力机制 无数据增强"
   ],
   "metadata": {
    "collapsed": false
   },
   "id": "94edb954d96ea16b"
  },
  {
   "cell_type": "markdown",
   "source": [
    "#### 数据展示"
   ],
   "metadata": {
    "collapsed": false
   },
   "id": "840a656b1595a2f"
  },
  {
   "cell_type": "code",
   "execution_count": null,
   "outputs": [],
   "source": [
    "transform = AlbumentationsTransformBase()  # 不使用数据增强\n",
    "\n",
    "train_loader, val_loader, test_loader, full_dataset = split_dataset(\n",
    "    root_dir=ROOT_DIR,\n",
    "    transform=transform,\n",
    "    train_ratio=0.7,\n",
    "    val_ratio=0.15,\n",
    "    test_ratio=0.15,\n",
    "    batch_size=BATCH_SIZE,\n",
    "    shuffle=True,\n",
    "    random_seed=42\n",
    ")\n",
    "\n",
    "# 打印数据集大小\n",
    "print(f\"训练集大小: {len(train_loader.dataset)}\")\n",
    "print(f\"验证集大小: {len(val_loader.dataset)}\")\n",
    "print(f\"测试集大小: {len(test_loader.dataset)}\")\n",
    "\n",
    "# 获取类别数量\n",
    "label_num = len(full_dataset.class_to_idx)\n",
    "\n",
    "# 数据可视化\n",
    "to_img = T.ToPILImage()\n",
    "a = to_img(train_loader.dataset[0][0])  # size=[1, 32, 32]\n",
    "plt.imshow(a)\n",
    "plt.axis('off')\n",
    "plt.show()"
   ],
   "metadata": {
    "collapsed": false
   },
   "id": "4bfde20cdd4a7b58"
  },
  {
   "cell_type": "code",
   "execution_count": null,
   "outputs": [],
   "source": [
    "model = CNNWithAttention(label_num, use_attention=True) # 调用模型\n",
    "\n",
    "train_and_validate(\n",
    "    model=model,\n",
    "    train_loader=train_loader,\n",
    "    val_loader=val_loader,\n",
    "    epochs=EPOCH,\n",
    "    device=device,\n",
    "    save_path=\"cnn_res_attention_best.pth\"\n",
    ")"
   ],
   "metadata": {
    "collapsed": false
   },
   "id": "32b8b02fe81cee1e"
  },
  {
   "cell_type": "code",
   "execution_count": null,
   "outputs": [],
   "source": [
    "### 无注意力机制 无数据增强"
   ],
   "metadata": {
    "collapsed": false
   },
   "id": "5c400f369ecaad13"
  },
  {
   "cell_type": "code",
   "execution_count": null,
   "outputs": [],
   "source": [
    "model = CNNWithAttention(label_num, use_attention=False) # 调用模型\n",
    "\n",
    "train_and_validate(\n",
    "    model=model,\n",
    "    train_loader=train_loader,\n",
    "    val_loader=val_loader,\n",
    "    epochs=EPOCH,\n",
    "    device=device,\n",
    "    save_path=\"cnn_res_noattention_best.pth\"\n",
    ")"
   ],
   "metadata": {
    "collapsed": false
   },
   "id": "83c7ca06d636a4de"
  }
 ],
 "metadata": {
  "kernelspec": {
   "name": "compy12",
   "language": "python",
   "display_name": "Python (Compy12)"
  },
  "language_info": {
   "codemirror_mode": {
    "name": "ipython",
    "version": 2
   },
   "file_extension": ".py",
   "mimetype": "text/x-python",
   "name": "python",
   "nbconvert_exporter": "python",
   "pygments_lexer": "ipython2",
   "version": "2.7.6"
  }
 },
 "nbformat": 4,
 "nbformat_minor": 5
}
